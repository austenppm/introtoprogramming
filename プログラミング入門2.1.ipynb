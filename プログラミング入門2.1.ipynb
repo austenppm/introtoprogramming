{
 "cells": [
  {
   "cell_type": "markdown",
   "metadata": {},
   "source": [
    "## 変数と代入、データ型、データ構造\n",
    "どのプログラミング言語でも重要な変数と代入について説明する。Pythonでは様々なデータ型、データ構造を扱うことができる。またデータへのアクセスを容易に記述することができる。"
   ]
  },
  {
   "cell_type": "markdown",
   "metadata": {},
   "source": [
    "## 変数\n",
    "変数は入れ物である。プログラムで計算をしている途中の値や初期の値を入れておく箱と考える。\n",
    "\n",
    "（＊＊注意＊＊）これはプログラミング言語の一般的な変数の捉え方、Pythonでは厳密には箱ではない。\n",
    "\n",
    "\n",
    "## 代入\n",
    "プログラムで x = 1 と書いてあったら、数値の1をxという変数（箱）に代入する、という意味である。\n",
    "数学の「=」は「等しい」という意味であるが、プログラムの「=」は一般に「代入」を意味するから全く意味が違うことに気をつけよう。\n",
    "Pythonではないがプログラム（やアルゴリズム表記法）によっては「x←1」と書く場合もある。\n",
    "ちなみに、プログラム（python）で、数値の「等しい」を表すのは「==」である。"
   ]
  },
  {
   "cell_type": "code",
   "execution_count": 1,
   "metadata": {},
   "outputs": [
    {
     "data": {
      "text/plain": [
       "1"
      ]
     },
     "execution_count": 1,
     "metadata": {},
     "output_type": "execute_result"
    }
   ],
   "source": [
    "# 変数\n",
    "x = 1\n",
    "x"
   ]
  },
  {
   "cell_type": "markdown",
   "metadata": {},
   "source": [
    "## 数値 (と代入の例)\n",
    "\n",
    "数値からなるデータ型である。整数と実数を扱うことができる。\n",
    "\n",
    "型。type()で見ることができる。\n",
    "- int型：整数型\n",
    "- float型：浮動小数点型\n",
    "- complex型：複素数型\n",
    "数値を表す表記のことを数値リテラルという。"
   ]
  },
  {
   "cell_type": "code",
   "execution_count": 2,
   "metadata": {},
   "outputs": [],
   "source": [
    "# int型 (整数)\n",
    "x = 1"
   ]
  },
  {
   "cell_type": "code",
   "execution_count": 3,
   "metadata": {},
   "outputs": [
    {
     "data": {
      "text/plain": [
       "1"
      ]
     },
     "execution_count": 3,
     "metadata": {},
     "output_type": "execute_result"
    }
   ],
   "source": [
    "x # xを表示"
   ]
  },
  {
   "cell_type": "code",
   "execution_count": 4,
   "metadata": {},
   "outputs": [
    {
     "data": {
      "text/plain": [
       "int"
      ]
     },
     "execution_count": 4,
     "metadata": {},
     "output_type": "execute_result"
    }
   ],
   "source": [
    "type(x) # xのデータ型"
   ]
  },
  {
   "cell_type": "code",
   "execution_count": 5,
   "metadata": {},
   "outputs": [
    {
     "data": {
      "text/plain": [
       "3.14"
      ]
     },
     "execution_count": 5,
     "metadata": {},
     "output_type": "execute_result"
    }
   ],
   "source": [
    "# 実数\n",
    "x = 3.14\n",
    "x  # xを表示"
   ]
  },
  {
   "cell_type": "code",
   "execution_count": 6,
   "metadata": {},
   "outputs": [
    {
     "data": {
      "text/plain": [
       "float"
      ]
     },
     "execution_count": 6,
     "metadata": {},
     "output_type": "execute_result"
    }
   ],
   "source": [
    "type(x)"
   ]
  },
  {
   "cell_type": "code",
   "execution_count": 1,
   "metadata": {},
   "outputs": [
    {
     "data": {
      "text/plain": [
       "(3+2j)"
      ]
     },
     "execution_count": 1,
     "metadata": {},
     "output_type": "execute_result"
    }
   ],
   "source": [
    "# 複素数 complex\n",
    "x = 3 + 2j\n",
    "x"
   ]
  },
  {
   "cell_type": "code",
   "execution_count": 2,
   "metadata": {},
   "outputs": [
    {
     "data": {
      "text/plain": [
       "complex"
      ]
     },
     "execution_count": 2,
     "metadata": {},
     "output_type": "execute_result"
    }
   ],
   "source": [
    "type(x)"
   ]
  },
  {
   "cell_type": "code",
   "execution_count": 7,
   "metadata": {},
   "outputs": [
    {
     "data": {
      "text/plain": [
       "str"
      ]
     },
     "execution_count": 7,
     "metadata": {},
     "output_type": "execute_result"
    }
   ],
   "source": [
    "x = 'takayuki ito'\n",
    "type(x)"
   ]
  },
  {
   "cell_type": "code",
   "execution_count": 8,
   "metadata": {},
   "outputs": [
    {
     "name": "stdout",
     "output_type": "stream",
     "text": [
      "x+y= 15\n",
      "x*y= 50\n",
      "x/y= 2.0\n",
      "x**y= 100000\n"
     ]
    }
   ],
   "source": [
    "# 計算を少し\n",
    "x = 10\n",
    "y = 5\n",
    "print('x+y=',x + y)\n",
    "print('x*y=',x * y)\n",
    "print('x/y=',x / y)\n",
    "print('x**y=',x ** y)"
   ]
  },
  {
   "cell_type": "code",
   "execution_count": 9,
   "metadata": {},
   "outputs": [
    {
     "name": "stdout",
     "output_type": "stream",
     "text": [
      "3\n"
     ]
    }
   ],
   "source": [
    "# 変数同士を計算し、他の変数に代入\n",
    "x = 1\n",
    "y = 2\n",
    "z = x + y \n",
    "print(z)"
   ]
  },
  {
   "cell_type": "code",
   "execution_count": 10,
   "metadata": {},
   "outputs": [
    {
     "name": "stdout",
     "output_type": "stream",
     "text": [
      "1\n",
      "2\n",
      "3\n"
     ]
    }
   ],
   "source": [
    "# Pythonらしい一括代入\n",
    "x, y, z = 1, 2, 3\n",
    "print(x)\n",
    "print(y)\n",
    "print(z)"
   ]
  },
  {
   "cell_type": "markdown",
   "metadata": {},
   "source": [
    "## 文字列リテラル（文字列）\n",
    "文字からなるデータ型である。\n",
    "厳密には文字列は文字の並びをいい、その綴りを表記するのが文字列リテラル。\n",
    "単一引用符「'」か二重引用符「\"」で囲む。"
   ]
  },
  {
   "cell_type": "code",
   "execution_count": 11,
   "metadata": {},
   "outputs": [],
   "source": [
    "x = 'artificial intelligence'\n",
    "y = \"artificial intelligence\""
   ]
  },
  {
   "cell_type": "code",
   "execution_count": 12,
   "metadata": {},
   "outputs": [
    {
     "data": {
      "text/plain": [
       "'artificial intelligence'"
      ]
     },
     "execution_count": 12,
     "metadata": {},
     "output_type": "execute_result"
    }
   ],
   "source": [
    "x"
   ]
  },
  {
   "cell_type": "code",
   "execution_count": 13,
   "metadata": {},
   "outputs": [
    {
     "data": {
      "text/plain": [
       "'artificial intelligence'"
      ]
     },
     "execution_count": 13,
     "metadata": {},
     "output_type": "execute_result"
    }
   ],
   "source": [
    "y"
   ]
  },
  {
   "cell_type": "markdown",
   "metadata": {},
   "source": [
    "特殊文字はバックスラッシュを使う。   \n",
    "バックスラッシュそのものを文字として使う場合はr\"\"を使う（RAW表現）。\n",
    "(参考文献：https://docs.python.org/ja/3/reference/lexical_analysis.html#index-19, https://note.nkmk.me/python-raw-string-escape/)"
   ]
  },
  {
   "cell_type": "markdown",
   "metadata": {},
   "source": [
    "下の例では\"\\t\"が特殊文字(タブを挿入)なので、1つ目はタブが挿入された「   hello」という出力となったが、2つ目では\"\\\\\"を文字として使用しているため「\\thello」という出力が出た。"
   ]
  },
  {
   "cell_type": "code",
   "execution_count": 14,
   "metadata": {},
   "outputs": [],
   "source": [
    "tab = \"\\thello\""
   ]
  },
  {
   "cell_type": "code",
   "execution_count": 15,
   "metadata": {},
   "outputs": [
    {
     "name": "stdout",
     "output_type": "stream",
     "text": [
      "\thello\n"
     ]
    }
   ],
   "source": [
    "print(tab)"
   ]
  },
  {
   "cell_type": "code",
   "execution_count": 16,
   "metadata": {},
   "outputs": [],
   "source": [
    "nontab = r\"\\thello\""
   ]
  },
  {
   "cell_type": "code",
   "execution_count": 17,
   "metadata": {},
   "outputs": [
    {
     "name": "stdout",
     "output_type": "stream",
     "text": [
      "\\thello\n"
     ]
    }
   ],
   "source": [
    "print(nontab)"
   ]
  },
  {
   "cell_type": "markdown",
   "metadata": {},
   "source": [
    "複数行文字列は３つ二重引用符を重ねる。"
   ]
  },
  {
   "cell_type": "code",
   "execution_count": 18,
   "metadata": {},
   "outputs": [],
   "source": [
    "multiline = \"\"\"おはよう\n",
    "こんにちは\n",
    "こんばんわ\"\"\""
   ]
  },
  {
   "cell_type": "code",
   "execution_count": 19,
   "metadata": {},
   "outputs": [
    {
     "data": {
      "text/plain": [
       "'おはよう\\nこんにちは\\nこんばんわ'"
      ]
     },
     "execution_count": 19,
     "metadata": {},
     "output_type": "execute_result"
    }
   ],
   "source": [
    "multiline"
   ]
  },
  {
   "cell_type": "code",
   "execution_count": 20,
   "metadata": {},
   "outputs": [
    {
     "name": "stdout",
     "output_type": "stream",
     "text": [
      "おはよう\n",
      "こんにちは\n",
      "こんばんわ\n"
     ]
    }
   ],
   "source": [
    "print(multiline)"
   ]
  },
  {
   "cell_type": "markdown",
   "metadata": {},
   "source": [
    "## リスト\n",
    "Pythonの最も基本的なデータ構造である。\n",
    "リストは単純な順序であり、コレクションである。\n",
    "intやstrなどの型は単一の値を保持する一方、コレクションは複数の値を保持する。\n",
    "本章では、リスト、タプル、辞書、集合を扱う。\n",
    "リストの作成は\\[要素1, 要素2, ...\\]で行う。"
   ]
  },
  {
   "cell_type": "code",
   "execution_count": 2,
   "metadata": {},
   "outputs": [],
   "source": [
    "aList = [1, 2, 3, 4, 5]"
   ]
  },
  {
   "cell_type": "code",
   "execution_count": 3,
   "metadata": {},
   "outputs": [
    {
     "data": {
      "text/plain": [
       "[1, 2, 3, 4, 5]"
      ]
     },
     "execution_count": 3,
     "metadata": {},
     "output_type": "execute_result"
    }
   ],
   "source": [
    "aList"
   ]
  },
  {
   "cell_type": "code",
   "execution_count": 10,
   "metadata": {},
   "outputs": [
    {
     "data": {
      "text/plain": [
       "1"
      ]
     },
     "execution_count": 10,
     "metadata": {},
     "output_type": "execute_result"
    }
   ],
   "source": [
    "aList[0]"
   ]
  },
  {
   "cell_type": "markdown",
   "metadata": {},
   "source": [
    "各要素はデータ型が異なっても良い。"
   ]
  },
  {
   "cell_type": "code",
   "execution_count": 16,
   "metadata": {},
   "outputs": [],
   "source": [
    "hList = [\"string\", 0.1] # 文字列、実数からなるリスト"
   ]
  },
  {
   "cell_type": "code",
   "execution_count": 17,
   "metadata": {},
   "outputs": [
    {
     "data": {
      "text/plain": [
       "['string', 0.1]"
      ]
     },
     "execution_count": 17,
     "metadata": {},
     "output_type": "execute_result"
    }
   ],
   "source": [
    "hList"
   ]
  },
  {
   "cell_type": "code",
   "execution_count": 18,
   "metadata": {},
   "outputs": [],
   "source": [
    "fList = [4, \"a\", [1, 2.4]] # リストを要素として持つリスト"
   ]
  },
  {
   "cell_type": "code",
   "execution_count": 19,
   "metadata": {},
   "outputs": [
    {
     "data": {
      "text/plain": [
       "[4, 'a', [1, 2.4]]"
      ]
     },
     "execution_count": 19,
     "metadata": {},
     "output_type": "execute_result"
    }
   ],
   "source": [
    "fList"
   ]
  },
  {
   "cell_type": "markdown",
   "metadata": {},
   "source": [
    "リストの長さはlen(list)で取得する。"
   ]
  },
  {
   "cell_type": "code",
   "execution_count": 20,
   "metadata": {},
   "outputs": [
    {
     "data": {
      "text/plain": [
       "3"
      ]
     },
     "execution_count": 20,
     "metadata": {},
     "output_type": "execute_result"
    }
   ],
   "source": [
    "length = len(fList)\n",
    "length"
   ]
  },
  {
   "cell_type": "markdown",
   "metadata": {},
   "source": [
    "### リストの要素の取得"
   ]
  },
  {
   "cell_type": "code",
   "execution_count": 23,
   "metadata": {},
   "outputs": [
    {
     "name": "stdout",
     "output_type": "stream",
     "text": [
      "x =  [0, 'Kyoto', 'University', 5.2, 'Corona', 5, 6, 7, 8, 9]\n",
      "x[0] =  0\n",
      "x[1] =  Kyoto\n",
      "x[2] =  University\n",
      "x[4] =  Corona\n",
      "x[9] =  9\n"
     ]
    }
   ],
   "source": [
    "x = [0,\"Kyoto\",\"University\",5.2,\"Corona\",5,6,7,8,9]\n",
    "\n",
    "first = x[0]       # 1番目の要素: index（添字）が 0\n",
    "second = x[1] # 2番目の要素: index（添字）が1\n",
    "third = x[2]     # 3番目の要素: index（添字）が2\n",
    "fifth = x[4]\n",
    "last = x[9]       # 10番目の要素: index（添字）が9\n",
    "\n",
    "print(\"x = \", x)\n",
    "print(\"x[0] = \", first)\n",
    "print(\"x[1] = \", second)\n",
    "print(\"x[2] = \", third)\n",
    "print(\"x[4] = \", fifth)\n",
    "print(\"x[9] = \", last)"
   ]
  },
  {
   "cell_type": "markdown",
   "metadata": {},
   "source": [
    "リストの特殊な要素の取得もできる（Python特有）。"
   ]
  },
  {
   "cell_type": "code",
   "execution_count": 25,
   "metadata": {},
   "outputs": [
    {
     "name": "stdout",
     "output_type": "stream",
     "text": [
      "x[-1] =  9\n",
      "x[-2] =  8\n",
      "item =  Corona\n"
     ]
    }
   ],
   "source": [
    "last = x[-1]                    # 最後の要素\n",
    "onebeforelast = x[-2]  # 最後から一つ前の要素\n",
    "item = x[-6]\n",
    "print(\"x[-1] = \", last)\n",
    "print(\"x[-2] = \", onebeforelast)\n",
    "print(\"item = \", item)"
   ]
  },
  {
   "cell_type": "markdown",
   "metadata": {},
   "source": [
    "### Python特有のリストのスライス（部分的なリスト）の取り出し方\n",
    "Pythonではリストから部分的な取り出しを行うことができる。  \n",
    "\n",
    "x\\[n:\\]で、nから最後までの要素を取り出す。\n",
    "x\\[:m\\]で、最初からmの手前(mは含まない)までの要素を取り出す。\n",
    "\n",
    "またx\\[n:m\\]でnからmの手前までの要素を取り出すことができる。"
   ]
  },
  {
   "cell_type": "code",
   "execution_count": 29,
   "metadata": {},
   "outputs": [
    {
     "name": "stdout",
     "output_type": "stream",
     "text": [
      "[0, 'Kyoto', 'University', 5.2, 'Corona', 5, 6, 7, 8, 9]\n",
      "[0, 'Kyoto', 'University', 5.2, 'Corona']\n",
      "[0, 'Kyoto', 'University', 5.2, 'Corona']\n"
     ]
    }
   ],
   "source": [
    "print(x) # リストxを表示\n",
    "\n",
    "firstToThird = x[:5]  # x[0],x[1],x[2]、３つ目まで\n",
    "print(firstToThird)\n",
    "\n",
    "firstToThird = x[0:5] #  上記と同じ\n",
    "print(firstToThird)"
   ]
  },
  {
   "cell_type": "code",
   "execution_count": 30,
   "metadata": {},
   "outputs": [
    {
     "name": "stdout",
     "output_type": "stream",
     "text": [
      "[0, 'Kyoto', 'University', 5.2, 'Corona', 5, 6, 7, 8, 9]\n",
      "[5.2, 'Corona', 5, 6, 7, 8, 9]\n",
      "['Kyoto', 'University', 5.2, 'Corona', 5, 6, 7, 8]\n"
     ]
    }
   ],
   "source": [
    "print(x)\n",
    "\n",
    "thirdToEnd = x[3:]    # x[3]から最後まで\n",
    "print(thirdToEnd)\n",
    "\n",
    "noFirstLast = x[1:-1] # 2番目から最後手前まで\n",
    "print(noFirstLast)"
   ]
  },
  {
   "cell_type": "code",
   "execution_count": 31,
   "metadata": {},
   "outputs": [
    {
     "name": "stdout",
     "output_type": "stream",
     "text": [
      "[0, 'Kyoto', 'University', 5.2, 'Corona', 5, 6, 7, 8, 9]\n"
     ]
    }
   ],
   "source": [
    "y = x[:] # 全部をとりだす。\n",
    "print(y)"
   ]
  },
  {
   "cell_type": "markdown",
   "metadata": {},
   "source": [
    "### in 演算子\n",
    "in演算子により、リスト内に特定の要素があるかを判定できる。"
   ]
  },
  {
   "cell_type": "code",
   "execution_count": 40,
   "metadata": {},
   "outputs": [
    {
     "data": {
      "text/plain": [
       "True"
      ]
     },
     "execution_count": 40,
     "metadata": {},
     "output_type": "execute_result"
    }
   ],
   "source": [
    "1 in [1,2,3]  # リスト[1,2,3]の中に1があるかどうか"
   ]
  },
  {
   "cell_type": "code",
   "execution_count": 38,
   "metadata": {},
   "outputs": [
    {
     "data": {
      "text/plain": [
       "True"
      ]
     },
     "execution_count": 38,
     "metadata": {},
     "output_type": "execute_result"
    }
   ],
   "source": [
    "\"hello\" in [\"hello\", \"hi\", \"bye\"] # リスト[\"hello\", \"hi\", \"bye\"]の中に\"hello\"があるかどうか"
   ]
  },
  {
   "cell_type": "code",
   "execution_count": 35,
   "metadata": {},
   "outputs": [
    {
     "data": {
      "text/plain": [
       "False"
      ]
     },
     "execution_count": 35,
     "metadata": {},
     "output_type": "execute_result"
    }
   ],
   "source": [
    "5 in [1,2,3] # リスト[1,2,3]の中に5があるかどうか"
   ]
  },
  {
   "cell_type": "markdown",
   "metadata": {},
   "source": [
    "### リストの連結、要素の追加、展開"
   ]
  },
  {
   "cell_type": "markdown",
   "metadata": {},
   "source": [
    "extendでリストの末尾に別のリストを追加(連結)ができる。"
   ]
  },
  {
   "cell_type": "code",
   "execution_count": 36,
   "metadata": {},
   "outputs": [
    {
     "name": "stdout",
     "output_type": "stream",
     "text": [
      "[1, 2, 3, 4, 5, 6, 7, 8, 9]\n"
     ]
    }
   ],
   "source": [
    "x = [1, 2, 3, 4, 5]\n",
    "x.extend([6, 7, 8, 9]) # xにリスト[6,7,8,9]を連結する\n",
    "print(x)"
   ]
  },
  {
   "cell_type": "markdown",
   "metadata": {},
   "source": [
    "+演算子でもリストの連結ができる。"
   ]
  },
  {
   "cell_type": "code",
   "execution_count": 37,
   "metadata": {},
   "outputs": [
    {
     "name": "stdout",
     "output_type": "stream",
     "text": [
      "[1, 2, 3, 4, 5, 6, 7, 8, 9]\n"
     ]
    }
   ],
   "source": [
    "x = [1,2,3,4,5]\n",
    "y = x + [6,7,8,9] # リストの加算\n",
    "print(y)"
   ]
  },
  {
   "cell_type": "markdown",
   "metadata": {},
   "source": [
    "appendで要素の追加を行うことができる。"
   ]
  },
  {
   "cell_type": "code",
   "execution_count": 43,
   "metadata": {},
   "outputs": [
    {
     "name": "stdout",
     "output_type": "stream",
     "text": [
      "[1, 2, 3, 4, 5, 6]\n"
     ]
    }
   ],
   "source": [
    "x = [1,2,3,4,5]\n",
    "x.append(6) # 要素を追加\n",
    "print(x)"
   ]
  },
  {
   "cell_type": "markdown",
   "metadata": {},
   "source": [
    "リストの要素をxとyに分配(展開)が行うことができる(Python特有）。"
   ]
  },
  {
   "cell_type": "code",
   "execution_count": 45,
   "metadata": {},
   "outputs": [
    {
     "name": "stdout",
     "output_type": "stream",
     "text": [
      "x= 1\n",
      "y= 9\n"
     ]
    }
   ],
   "source": [
    "x,y = [1,9] #展開 \n",
    "print(\"x=\",x)\n",
    "print(\"y=\",y)"
   ]
  },
  {
   "cell_type": "markdown",
   "metadata": {},
   "source": [
    "左辺とリストの要素数が合わないとエラーとなる。"
   ]
  },
  {
   "cell_type": "code",
   "execution_count": 40,
   "metadata": {},
   "outputs": [
    {
     "ename": "ValueError",
     "evalue": "not enough values to unpack (expected 3, got 2)",
     "output_type": "error",
     "traceback": [
      "\u001b[0;31m---------------------------------------------------------------------------\u001b[0m",
      "\u001b[0;31mValueError\u001b[0m                                Traceback (most recent call last)",
      "\u001b[0;32m<ipython-input-40-94dcd7289692>\u001b[0m in \u001b[0;36m<module>\u001b[0;34m\u001b[0m\n\u001b[0;32m----> 1\u001b[0;31m \u001b[0mx\u001b[0m\u001b[0;34m,\u001b[0m\u001b[0my\u001b[0m\u001b[0;34m,\u001b[0m\u001b[0mz\u001b[0m \u001b[0;34m=\u001b[0m \u001b[0;34m[\u001b[0m\u001b[0;36m1\u001b[0m\u001b[0;34m,\u001b[0m\u001b[0;36m2\u001b[0m\u001b[0;34m]\u001b[0m  \u001b[0;31m# リストに対して、左辺が多い\u001b[0m\u001b[0;34m\u001b[0m\u001b[0;34m\u001b[0m\u001b[0m\n\u001b[0m",
      "\u001b[0;31mValueError\u001b[0m: not enough values to unpack (expected 3, got 2)"
     ]
    }
   ],
   "source": [
    "x,y,z = [1,2]  # リストに対して、左辺が多い"
   ]
  },
  {
   "cell_type": "code",
   "execution_count": 41,
   "metadata": {},
   "outputs": [
    {
     "ename": "ValueError",
     "evalue": "too many values to unpack (expected 2)",
     "output_type": "error",
     "traceback": [
      "\u001b[0;31m---------------------------------------------------------------------------\u001b[0m",
      "\u001b[0;31mValueError\u001b[0m                                Traceback (most recent call last)",
      "\u001b[0;32m<ipython-input-41-45f044e7a2bd>\u001b[0m in \u001b[0;36m<module>\u001b[0;34m\u001b[0m\n\u001b[0;32m----> 1\u001b[0;31m \u001b[0mx\u001b[0m\u001b[0;34m,\u001b[0m \u001b[0my\u001b[0m \u001b[0;34m=\u001b[0m \u001b[0;34m[\u001b[0m\u001b[0;36m1\u001b[0m\u001b[0;34m,\u001b[0m \u001b[0;36m2\u001b[0m\u001b[0;34m,\u001b[0m \u001b[0;36m3\u001b[0m\u001b[0;34m,\u001b[0m \u001b[0;36m4\u001b[0m\u001b[0;34m]\u001b[0m \u001b[0;31m# 左辺に対して、リストの要素数が多い\u001b[0m\u001b[0;34m\u001b[0m\u001b[0;34m\u001b[0m\u001b[0m\n\u001b[0m",
      "\u001b[0;31mValueError\u001b[0m: too many values to unpack (expected 2)"
     ]
    }
   ],
   "source": [
    "x, y = [1, 2, 3, 4] # 左辺に対して、リストの要素数が多い"
   ]
  },
  {
   "cell_type": "markdown",
   "metadata": {},
   "source": [
    "展開する必要がない要素は、_(アンダーバー)で受け取る。"
   ]
  },
  {
   "cell_type": "code",
   "execution_count": 42,
   "metadata": {},
   "outputs": [
    {
     "name": "stdout",
     "output_type": "stream",
     "text": [
      "1\n",
      "3\n"
     ]
    }
   ],
   "source": [
    "x,_,y = [1,2,3] # リスト内の2を受け取らない\n",
    "print(x)\n",
    "print(y)"
   ]
  },
  {
   "cell_type": "code",
   "execution_count": 43,
   "metadata": {},
   "outputs": [
    {
     "name": "stdout",
     "output_type": "stream",
     "text": [
      "2\n",
      "3\n"
     ]
    }
   ],
   "source": [
    "_, x, y, _, _ = [1, 2, 3, 4, 5] # _が複数あっても良い\n",
    "print(x)\n",
    "print(y)"
   ]
  },
  {
   "cell_type": "markdown",
   "metadata": {},
   "source": [
    "## タプル\n",
    "リストに似ているが、要素を変更できない。  \n",
    "小カッコを使う「(a,b)」か、何も使わずに記述する「a,b」。"
   ]
  },
  {
   "cell_type": "code",
   "execution_count": 44,
   "metadata": {},
   "outputs": [
    {
     "name": "stdout",
     "output_type": "stream",
     "text": [
      "[1, 2]\n",
      "(1, 2)\n",
      "(3, 4)\n"
     ]
    }
   ],
   "source": [
    "aList = [1,2]        # リスト  (要素が変更可能)\n",
    "aTuple = (1,2)    # タプル (要素が変更不可能)\n",
    "bTuple = 3,4       # タプル (要素が変更不可能)\n",
    "\n",
    "print(aList)\n",
    "print(aTuple)\n",
    "print(bTuple)"
   ]
  },
  {
   "cell_type": "code",
   "execution_count": 45,
   "metadata": {},
   "outputs": [
    {
     "data": {
      "text/plain": [
       "[2, 2]"
      ]
     },
     "execution_count": 45,
     "metadata": {},
     "output_type": "execute_result"
    }
   ],
   "source": [
    "aList[0] = 2  # 変更可能\n",
    "aList"
   ]
  },
  {
   "cell_type": "code",
   "execution_count": 46,
   "metadata": {},
   "outputs": [
    {
     "ename": "TypeError",
     "evalue": "'tuple' object does not support item assignment",
     "output_type": "error",
     "traceback": [
      "\u001b[0;31m---------------------------------------------------------------------------\u001b[0m",
      "\u001b[0;31mTypeError\u001b[0m                                 Traceback (most recent call last)",
      "\u001b[0;32m<ipython-input-46-4d63948e1093>\u001b[0m in \u001b[0;36m<module>\u001b[0;34m\u001b[0m\n\u001b[0;32m----> 1\u001b[0;31m \u001b[0maTuple\u001b[0m\u001b[0;34m[\u001b[0m\u001b[0;36m0\u001b[0m\u001b[0;34m]\u001b[0m \u001b[0;34m=\u001b[0m \u001b[0;36m2\u001b[0m \u001b[0;31m# 変更不可能(エラー)\u001b[0m\u001b[0;34m\u001b[0m\u001b[0;34m\u001b[0m\u001b[0m\n\u001b[0m",
      "\u001b[0;31mTypeError\u001b[0m: 'tuple' object does not support item assignment"
     ]
    }
   ],
   "source": [
    "aTuple[0] = 2 # 変更不可能(エラー)"
   ]
  },
  {
   "cell_type": "code",
   "execution_count": 47,
   "metadata": {},
   "outputs": [
    {
     "ename": "TypeError",
     "evalue": "'tuple' object does not support item assignment",
     "output_type": "error",
     "traceback": [
      "\u001b[0;31m---------------------------------------------------------------------------\u001b[0m",
      "\u001b[0;31mTypeError\u001b[0m                                 Traceback (most recent call last)",
      "\u001b[0;32m<ipython-input-47-55ea2baa19ba>\u001b[0m in \u001b[0;36m<module>\u001b[0;34m\u001b[0m\n\u001b[0;32m----> 1\u001b[0;31m \u001b[0mbTuple\u001b[0m\u001b[0;34m[\u001b[0m\u001b[0;36m0\u001b[0m\u001b[0;34m]\u001b[0m \u001b[0;34m=\u001b[0m \u001b[0;36m2\u001b[0m \u001b[0;31m# 変更不可能(エラー)\u001b[0m\u001b[0;34m\u001b[0m\u001b[0;34m\u001b[0m\u001b[0m\n\u001b[0m",
      "\u001b[0;31mTypeError\u001b[0m: 'tuple' object does not support item assignment"
     ]
    }
   ],
   "source": [
    "bTuple[0] = 2 # 変更不可能(エラー)"
   ]
  },
  {
   "cell_type": "code",
   "execution_count": 48,
   "metadata": {},
   "outputs": [
    {
     "name": "stdout",
     "output_type": "stream",
     "text": [
      "1 2\n"
     ]
    }
   ],
   "source": [
    "x, y = aTuple #  展開は可能\n",
    "print(x, y)"
   ]
  },
  {
   "cell_type": "code",
   "execution_count": 46,
   "metadata": {},
   "outputs": [
    {
     "data": {
      "text/plain": [
       "(7, 10)"
      ]
     },
     "execution_count": 46,
     "metadata": {},
     "output_type": "execute_result"
    }
   ],
   "source": [
    "# タプルを使って、関数から複数の値を返す為に使う\n",
    "def fun(x,y):\n",
    "    return ((x+y),(x*y))\n",
    "fun(2,5)"
   ]
  },
  {
   "cell_type": "markdown",
   "metadata": {},
   "source": [
    "上で定義した関数funの返り値(タプル)を展開する。"
   ]
  },
  {
   "cell_type": "code",
   "execution_count": 50,
   "metadata": {},
   "outputs": [],
   "source": [
    "f_sum, f_product = fun(2,5)"
   ]
  },
  {
   "cell_type": "code",
   "execution_count": 51,
   "metadata": {},
   "outputs": [
    {
     "data": {
      "text/plain": [
       "7"
      ]
     },
     "execution_count": 51,
     "metadata": {},
     "output_type": "execute_result"
    }
   ],
   "source": [
    "f_sum"
   ]
  },
  {
   "cell_type": "code",
   "execution_count": 52,
   "metadata": {},
   "outputs": [
    {
     "data": {
      "text/plain": [
       "10"
      ]
     },
     "execution_count": 52,
     "metadata": {},
     "output_type": "execute_result"
    }
   ],
   "source": [
    "f_product"
   ]
  },
  {
   "cell_type": "code",
   "execution_count": 53,
   "metadata": {},
   "outputs": [],
   "source": [
    "# 多重割り当て\n",
    "x,y=1,2 # x = 1, y = 2"
   ]
  },
  {
   "cell_type": "code",
   "execution_count": 54,
   "metadata": {},
   "outputs": [
    {
     "name": "stdout",
     "output_type": "stream",
     "text": [
      "2\n",
      "1\n"
     ]
    }
   ],
   "source": [
    "#とてもPython特有の書き方で、他の言語では使ってはいけない！\n",
    "#python的な値の交換。普通はこう考えるのはだめ。\n",
    "\n",
    "x = 2\n",
    "y = 1\n",
    "\n",
    "#一般的な変数の値の入れ替え（swap）の方法：一時変数tmpを用いる\n",
    "tmp = x\n",
    "x = y\n",
    "y = tmp\n",
    "\n",
    "# Pythonではこのように書くことができる\n",
    "x,y = y,x\n",
    "\n",
    "print(x)\n",
    "print(y)"
   ]
  },
  {
   "cell_type": "markdown",
   "metadata": {},
   "source": [
    "## 辞書(dictionary)\n",
    "辞書とは、キーと値でデータを補完するデータ構造である。\n",
    "\n",
    "作成方法\n",
    "- d = {}\n",
    "- d = dict()\n",
    "- d = {key1: value1, key2: value2, ...}"
   ]
  },
  {
   "cell_type": "code",
   "execution_count": 47,
   "metadata": {},
   "outputs": [],
   "source": [
    "aDict = {} \n",
    "bDict = dict()\n",
    "cDict = {\"Ito\": 80, \"Otsuka\":90} # \"ito\"というキーに対して80という値、\"Otsuka\"というキーに対して90という値を持つ　"
   ]
  },
  {
   "cell_type": "code",
   "execution_count": 52,
   "metadata": {},
   "outputs": [],
   "source": [
    "# \"ito\"というキーに対して80という値、\"Otsuka\"というキーに対して90という値を持つ　\n",
    "cDict = {\"Ito\": 80, \"Otsuka\":90, \"Arisaka\":100, \"Okuhara\":100}"
   ]
  },
  {
   "cell_type": "code",
   "execution_count": 53,
   "metadata": {},
   "outputs": [
    {
     "data": {
      "text/plain": [
       "{'Ito': 80, 'Otsuka': 90, 'Arisaka': 100, 'Okuhara': 100}"
      ]
     },
     "execution_count": 53,
     "metadata": {},
     "output_type": "execute_result"
    }
   ],
   "source": [
    "cDict"
   ]
  },
  {
   "cell_type": "code",
   "execution_count": 54,
   "metadata": {},
   "outputs": [
    {
     "name": "stdout",
     "output_type": "stream",
     "text": [
      "100\n"
     ]
    }
   ],
   "source": [
    "score = cDict[\"Okuhara\"]  # キーが\"ito\"である値を取得\n",
    "print(score)"
   ]
  },
  {
   "cell_type": "code",
   "execution_count": 55,
   "metadata": {},
   "outputs": [
    {
     "ename": "KeyError",
     "evalue": "'Hayashi'",
     "output_type": "error",
     "traceback": [
      "\u001b[0;31m---------------------------------------------------------------------------\u001b[0m",
      "\u001b[0;31mKeyError\u001b[0m                                  Traceback (most recent call last)",
      "\u001b[0;32m<ipython-input-55-731ef53db2dd>\u001b[0m in \u001b[0;36m<module>\u001b[0;34m\u001b[0m\n\u001b[0;32m----> 1\u001b[0;31m \u001b[0mscore\u001b[0m \u001b[0;34m=\u001b[0m \u001b[0mcDict\u001b[0m\u001b[0;34m[\u001b[0m\u001b[0;34m\"Hayashi\"\u001b[0m\u001b[0;34m]\u001b[0m \u001b[0;31m# \"Yoshino\"というキーはないのでエラー\u001b[0m\u001b[0;34m\u001b[0m\u001b[0;34m\u001b[0m\u001b[0m\n\u001b[0m",
      "\u001b[0;31mKeyError\u001b[0m: 'Hayashi'"
     ]
    }
   ],
   "source": [
    "score = cDict[\"Hayashi\"] # \"Yoshino\"というキーはないのでエラー"
   ]
  },
  {
   "cell_type": "code",
   "execution_count": 58,
   "metadata": {},
   "outputs": [
    {
     "data": {
      "text/plain": [
       "True"
      ]
     },
     "execution_count": 58,
     "metadata": {},
     "output_type": "execute_result"
    }
   ],
   "source": [
    "\"Arisaka\" in cDict # in 演算子でキーがあるかどうか調べられる"
   ]
  },
  {
   "cell_type": "code",
   "execution_count": 59,
   "metadata": {},
   "outputs": [
    {
     "data": {
      "text/plain": [
       "False"
      ]
     },
     "execution_count": 59,
     "metadata": {},
     "output_type": "execute_result"
    }
   ],
   "source": [
    "\"Hayashi\" in cDict # \"Yoshino\"というキーはない"
   ]
  },
  {
   "cell_type": "markdown",
   "metadata": {},
   "source": [
    "x.get(key, 0)は、辞書xからkeyのデータを取得するが、keyが存在しない時はデフォルトとして0を返す。"
   ]
  },
  {
   "cell_type": "code",
   "execution_count": 61,
   "metadata": {},
   "outputs": [
    {
     "data": {
      "text/plain": [
       "50"
      ]
     },
     "execution_count": 61,
     "metadata": {},
     "output_type": "execute_result"
    }
   ],
   "source": [
    "cDict.get(\"Yoshino\",50) # キーがないのでデフォルトの0を返す"
   ]
  },
  {
   "cell_type": "code",
   "execution_count": 62,
   "metadata": {},
   "outputs": [
    {
     "data": {
      "text/plain": [
       "80"
      ]
     },
     "execution_count": 62,
     "metadata": {},
     "output_type": "execute_result"
    }
   ],
   "source": [
    "cDict.get(\"Ito\",50) # キーが存在するので、そのキーの値を返す"
   ]
  },
  {
   "cell_type": "code",
   "execution_count": 63,
   "metadata": {},
   "outputs": [
    {
     "data": {
      "text/plain": [
       "90"
      ]
     },
     "execution_count": 63,
     "metadata": {},
     "output_type": "execute_result"
    }
   ],
   "source": [
    "cDict.get(\"Otsuka\") # デフォルトを指定しなくても良い"
   ]
  },
  {
   "cell_type": "code",
   "execution_count": 65,
   "metadata": {},
   "outputs": [
    {
     "name": "stdout",
     "output_type": "stream",
     "text": [
      "nothing\n"
     ]
    }
   ],
   "source": [
    "dst = cDict.get(\"Yoshino\",\"nothing\") # デフォルト指定なしでキーが存在しない時はNoneを返す\n",
    "print(dst)"
   ]
  },
  {
   "cell_type": "code",
   "execution_count": 66,
   "metadata": {},
   "outputs": [
    {
     "data": {
      "text/plain": [
       "4"
      ]
     },
     "execution_count": 66,
     "metadata": {},
     "output_type": "execute_result"
    }
   ],
   "source": [
    "len(cDict) # lenで辞書のキーの個数を取得できる"
   ]
  },
  {
   "cell_type": "markdown",
   "metadata": {},
   "source": [
    "## 辞書の値の追加\n",
    "x\\[key\\] = value で辞書を追加できる。"
   ]
  },
  {
   "cell_type": "code",
   "execution_count": 67,
   "metadata": {},
   "outputs": [
    {
     "data": {
      "text/plain": [
       "{'Ito': 80, 'Otsuka': 90, 'Arisaka': 100, 'Okuhara': 100}"
      ]
     },
     "execution_count": 67,
     "metadata": {},
     "output_type": "execute_result"
    }
   ],
   "source": [
    "cDict"
   ]
  },
  {
   "cell_type": "code",
   "execution_count": 68,
   "metadata": {},
   "outputs": [],
   "source": [
    "cDict[\"Yoshino\"] = 100"
   ]
  },
  {
   "cell_type": "code",
   "execution_count": 69,
   "metadata": {},
   "outputs": [
    {
     "data": {
      "text/plain": [
       "{'Ito': 80, 'Otsuka': 90, 'Arisaka': 100, 'Okuhara': 100, 'Yoshino': 100}"
      ]
     },
     "execution_count": 69,
     "metadata": {},
     "output_type": "execute_result"
    }
   ],
   "source": [
    "cDict"
   ]
  },
  {
   "cell_type": "code",
   "execution_count": 70,
   "metadata": {},
   "outputs": [
    {
     "data": {
      "text/plain": [
       "100"
      ]
     },
     "execution_count": 70,
     "metadata": {},
     "output_type": "execute_result"
    }
   ],
   "source": [
    "cDict.get(\"Yoshino\")"
   ]
  },
  {
   "cell_type": "code",
   "execution_count": 71,
   "metadata": {},
   "outputs": [
    {
     "data": {
      "text/plain": [
       "5"
      ]
     },
     "execution_count": 71,
     "metadata": {},
     "output_type": "execute_result"
    }
   ],
   "source": [
    "len(cDict)"
   ]
  },
  {
   "cell_type": "markdown",
   "metadata": {},
   "source": [
    "### 辞書の使い方"
   ]
  },
  {
   "cell_type": "code",
   "execution_count": 79,
   "metadata": {},
   "outputs": [],
   "source": [
    "#　辞書の定義\n",
    "tweet = {\n",
    "    \"user\" : \"takayuki\",\n",
    "    \"text\"  : \"Hello, I am Takayuki Ito\",\n",
    "    \"retweet_count\" : 100,\n",
    "    \"hashtags\" : [\"#data\",\"#science\",\"#datascience\",\"#awesome\"]\n",
    "}"
   ]
  },
  {
   "cell_type": "code",
   "execution_count": 80,
   "metadata": {},
   "outputs": [
    {
     "data": {
      "text/plain": [
       "dict_keys(['user', 'text', 'retweet_count', 'hashtags'])"
      ]
     },
     "execution_count": 80,
     "metadata": {},
     "output_type": "execute_result"
    }
   ],
   "source": [
    "keys = tweet.keys() # keyのリストを取得。データ型はdict_keysというものになる。\n",
    "keys"
   ]
  },
  {
   "cell_type": "code",
   "execution_count": 81,
   "metadata": {},
   "outputs": [
    {
     "data": {
      "text/plain": [
       "dict_values(['takayuki', 'Hello, I am Takayuki Ito', 100, ['#data', '#science', '#datascience', '#awesome']])"
      ]
     },
     "execution_count": 81,
     "metadata": {},
     "output_type": "execute_result"
    }
   ],
   "source": [
    "values = tweet.values() # valuesのリストを取得。データ型はdict_valuesというものになる。\n",
    "values"
   ]
  },
  {
   "cell_type": "code",
   "execution_count": 82,
   "metadata": {},
   "outputs": [
    {
     "data": {
      "text/plain": [
       "dict_items([('user', 'takayuki'), ('text', 'Hello, I am Takayuki Ito'), ('retweet_count', 100), ('hashtags', ['#data', '#science', '#datascience', '#awesome'])])"
      ]
     },
     "execution_count": 82,
     "metadata": {},
     "output_type": "execute_result"
    }
   ],
   "source": [
    "items = tweet.items() # key-valueのリスト。データ型はdict_itemsというものになる。\n",
    "items"
   ]
  },
  {
   "cell_type": "code",
   "execution_count": 83,
   "metadata": {},
   "outputs": [
    {
     "data": {
      "text/plain": [
       "['user', 'text', 'retweet_count', 'hashtags']"
      ]
     },
     "execution_count": 83,
     "metadata": {},
     "output_type": "execute_result"
    }
   ],
   "source": [
    "keys_list = list(keys) # dict_keysをリストに変換する\n",
    "keys_list"
   ]
  },
  {
   "cell_type": "code",
   "execution_count": 84,
   "metadata": {},
   "outputs": [
    {
     "data": {
      "text/plain": [
       "['takayuki',\n",
       " 'Hello, I am Takayuki Ito',\n",
       " 100,\n",
       " ['#data', '#science', '#datascience', '#awesome']]"
      ]
     },
     "execution_count": 84,
     "metadata": {},
     "output_type": "execute_result"
    }
   ],
   "source": [
    "values_list = list(values) # dict_valuesをリストに変換する\n",
    "values_list"
   ]
  },
  {
   "cell_type": "code",
   "execution_count": 85,
   "metadata": {},
   "outputs": [
    {
     "data": {
      "text/plain": [
       "[('user', 'takayuki'),\n",
       " ('text', 'Hello, I am Takayuki Ito'),\n",
       " ('retweet_count', 100),\n",
       " ('hashtags', ['#data', '#science', '#datascience', '#awesome'])]"
      ]
     },
     "execution_count": 85,
     "metadata": {},
     "output_type": "execute_result"
    }
   ],
   "source": [
    "items_list = list(items) # itemsをリストに変換する\n",
    "items_list"
   ]
  },
  {
   "cell_type": "markdown",
   "metadata": {},
   "source": [
    "### in演算子\n",
    "辞書はin演算子を使うことができる。  \n",
    "in演算子を使用すると、あるkeyが含まれているかを判定できる。"
   ]
  },
  {
   "cell_type": "code",
   "execution_count": 86,
   "metadata": {},
   "outputs": [
    {
     "data": {
      "text/plain": [
       "True"
      ]
     },
     "execution_count": 86,
     "metadata": {},
     "output_type": "execute_result"
    }
   ],
   "source": [
    "\"user\" in tweet "
   ]
  },
  {
   "cell_type": "markdown",
   "metadata": {},
   "source": [
    "dict_keysに対してのin演算子も有効。"
   ]
  },
  {
   "cell_type": "code",
   "execution_count": 87,
   "metadata": {},
   "outputs": [
    {
     "data": {
      "text/plain": [
       "True"
      ]
     },
     "execution_count": 87,
     "metadata": {},
     "output_type": "execute_result"
    }
   ],
   "source": [
    "\"user\" in tweet.keys() "
   ]
  },
  {
   "cell_type": "code",
   "execution_count": 88,
   "metadata": {},
   "outputs": [
    {
     "data": {
      "text/plain": [
       "True"
      ]
     },
     "execution_count": 88,
     "metadata": {},
     "output_type": "execute_result"
    }
   ],
   "source": [
    "\"user\" in list(tweet.keys())  # dict_keysをlistにしてから、in演算子"
   ]
  },
  {
   "cell_type": "code",
   "execution_count": 89,
   "metadata": {},
   "outputs": [
    {
     "data": {
      "text/plain": [
       "False"
      ]
     },
     "execution_count": 89,
     "metadata": {},
     "output_type": "execute_result"
    }
   ],
   "source": [
    "\"user\" in tweet.values() # dict_valuesにキーは存在しないので、このinはFalse"
   ]
  },
  {
   "cell_type": "code",
   "execution_count": 90,
   "metadata": {},
   "outputs": [
    {
     "data": {
      "text/plain": [
       "True"
      ]
     },
     "execution_count": 90,
     "metadata": {},
     "output_type": "execute_result"
    }
   ],
   "source": [
    "100 in tweet.values() # あるvalueが存在しているかは確認できる"
   ]
  },
  {
   "cell_type": "markdown",
   "metadata": {},
   "source": [
    "## Counterクラス\n",
    "リスト内のデータの出現回数を数えてくれるクラスである。"
   ]
  },
  {
   "cell_type": "code",
   "execution_count": 75,
   "metadata": {},
   "outputs": [
    {
     "data": {
      "text/plain": [
       "[10, 14, 20, 10, 25, 10, 32, 20, 45]"
      ]
     },
     "execution_count": 75,
     "metadata": {},
     "output_type": "execute_result"
    }
   ],
   "source": [
    "x = [10, 14, 20, 10, 25, 10, 32, 20, 45]\n",
    "x"
   ]
  },
  {
   "cell_type": "code",
   "execution_count": 76,
   "metadata": {},
   "outputs": [],
   "source": [
    "from collections import Counter # Counterをインポート(使えるようにする)\n",
    "c = Counter(x) # Counterクラスの作成"
   ]
  },
  {
   "cell_type": "code",
   "execution_count": 77,
   "metadata": {},
   "outputs": [
    {
     "data": {
      "text/plain": [
       "Counter({10: 3, 14: 1, 20: 2, 25: 1, 32: 1, 45: 1})"
      ]
     },
     "execution_count": 77,
     "metadata": {},
     "output_type": "execute_result"
    }
   ],
   "source": [
    "c  # {データ1:出現回数, ...}　という形で表示"
   ]
  },
  {
   "cell_type": "markdown",
   "metadata": {},
   "source": [
    "### 使用例　 文章内の単語の数を数える"
   ]
  },
  {
   "cell_type": "code",
   "execution_count": 94,
   "metadata": {},
   "outputs": [],
   "source": [
    "# 文章\n",
    "document = \"\"\"The Road Not Taken\n",
    "BY ROBERT FROST\n",
    "Two roads diverged in a yellow wood,\n",
    "And sorry I could not travel both\n",
    "And be one traveler, long I stood\n",
    "And looked down one as far as I could\n",
    "To where it bent in the undergrowth;\n",
    "Then took the other, as just as fair,\n",
    "And having perhaps the better claim,\n",
    "Because it was grassy and wanted wear;\n",
    "Though as for that the passing there\n",
    "Had worn them really about the same,\n",
    "And both that morning equally lay\n",
    "In leaves no step had trodden black.\n",
    "Oh, I kept the first for another day!\n",
    "Yet knowing how way leads on to way,\n",
    "I doubted if I should ever come back.\n",
    "I shall be telling this with a sigh\n",
    "Somewhere ages and ages hence:\n",
    "Two roads diverged in a wood, and \n",
    "I took the one less traveled by,\n",
    "And that has made all the difference.\"\"\""
   ]
  },
  {
   "cell_type": "code",
   "execution_count": 95,
   "metadata": {},
   "outputs": [
    {
     "name": "stdout",
     "output_type": "stream",
     "text": [
      "The Road Not Taken\n",
      "BY ROBERT FROST\n",
      "Two roads diverged in a yellow wood,\n",
      "And sorry I could not travel both\n",
      "And be one traveler, long I stood\n",
      "And looked down one as far as I could\n",
      "To where it bent in the undergrowth;\n",
      "Then took the other, as just as fair,\n",
      "And having perhaps the better claim,\n",
      "Because it was grassy and wanted wear;\n",
      "Though as for that the passing there\n",
      "Had worn them really about the same,\n",
      "And both that morning equally lay\n",
      "In leaves no step had trodden black.\n",
      "Oh, I kept the first for another day!\n",
      "Yet knowing how way leads on to way,\n",
      "I doubted if I should ever come back.\n",
      "I shall be telling this with a sigh\n",
      "Somewhere ages and ages hence:\n",
      "Two roads diverged in a wood, and \n",
      "I took the one less traveled by,\n",
      "And that has made all the difference.\n"
     ]
    }
   ],
   "source": [
    "print(document)"
   ]
  },
  {
   "cell_type": "code",
   "execution_count": 96,
   "metadata": {},
   "outputs": [
    {
     "name": "stdout",
     "output_type": "stream",
     "text": [
      "The Road Not Taken BY ROBERT FROST Two roads diverged in a yellow wood  And sorry I could not travel both And be one traveler  long I stood And looked down one as far as I could To where it bent in the undergrowth; Then took the other  as just as fair  And having perhaps the better claim  Because it was grassy and wanted wear; Though as for that the passing there Had worn them really about the same  And both that morning equally lay In leaves no step had trodden black  Oh  I kept the first for another day! Yet knowing how way leads on to way  I doubted if I should ever come back  I shall be telling this with a sigh Somewhere ages and ages hence: Two roads diverged in a wood  and  I took the one less traveled by  And that has made all the difference \n"
     ]
    }
   ],
   "source": [
    "document = document.replace('\\n',' ')  # 改行(\\n)を削除('\\n'を''(何も無し)に置き換えている)\n",
    "document = document.replace('.',' ')     # 「.」を削除\n",
    "document = document.replace(',',' ')     # 「,」を削除\n",
    "print(document)"
   ]
  },
  {
   "cell_type": "code",
   "execution_count": 97,
   "metadata": {},
   "outputs": [
    {
     "name": "stdout",
     "output_type": "stream",
     "text": [
      "['The', 'Road', 'Not', 'Taken', 'BY', 'ROBERT', 'FROST', 'Two', 'roads', 'diverged', 'in', 'a', 'yellow', 'wood', 'And', 'sorry', 'I', 'could', 'not', 'travel', 'both', 'And', 'be', 'one', 'traveler', 'long', 'I', 'stood', 'And', 'looked', 'down', 'one', 'as', 'far', 'as', 'I', 'could', 'To', 'where', 'it', 'bent', 'in', 'the', 'undergrowth;', 'Then', 'took', 'the', 'other', 'as', 'just', 'as', 'fair', 'And', 'having', 'perhaps', 'the', 'better', 'claim', 'Because', 'it', 'was', 'grassy', 'and', 'wanted', 'wear;', 'Though', 'as', 'for', 'that', 'the', 'passing', 'there', 'Had', 'worn', 'them', 'really', 'about', 'the', 'same', 'And', 'both', 'that', 'morning', 'equally', 'lay', 'In', 'leaves', 'no', 'step', 'had', 'trodden', 'black', 'Oh', 'I', 'kept', 'the', 'first', 'for', 'another', 'day!', 'Yet', 'knowing', 'how', 'way', 'leads', 'on', 'to', 'way', 'I', 'doubted', 'if', 'I', 'should', 'ever', 'come', 'back', 'I', 'shall', 'be', 'telling', 'this', 'with', 'a', 'sigh', 'Somewhere', 'ages', 'and', 'ages', 'hence:', 'Two', 'roads', 'diverged', 'in', 'a', 'wood', 'and', 'I', 'took', 'the', 'one', 'less', 'traveled', 'by', 'And', 'that', 'has', 'made', 'all', 'the', 'difference']\n"
     ]
    }
   ],
   "source": [
    "# 文字列を空白で区切ってリスト化 (単語毎に分ける)\n",
    "document_list = document.split()\n",
    "print(document_list)"
   ]
  },
  {
   "cell_type": "code",
   "execution_count": 98,
   "metadata": {},
   "outputs": [
    {
     "data": {
      "text/plain": [
       "Counter({'The': 1,\n",
       "         'Road': 1,\n",
       "         'Not': 1,\n",
       "         'Taken': 1,\n",
       "         'BY': 1,\n",
       "         'ROBERT': 1,\n",
       "         'FROST': 1,\n",
       "         'Two': 2,\n",
       "         'roads': 2,\n",
       "         'diverged': 2,\n",
       "         'in': 3,\n",
       "         'a': 3,\n",
       "         'yellow': 1,\n",
       "         'wood': 2,\n",
       "         'And': 6,\n",
       "         'sorry': 1,\n",
       "         'I': 8,\n",
       "         'could': 2,\n",
       "         'not': 1,\n",
       "         'travel': 1,\n",
       "         'both': 2,\n",
       "         'be': 2,\n",
       "         'one': 3,\n",
       "         'traveler': 1,\n",
       "         'long': 1,\n",
       "         'stood': 1,\n",
       "         'looked': 1,\n",
       "         'down': 1,\n",
       "         'as': 5,\n",
       "         'far': 1,\n",
       "         'To': 1,\n",
       "         'where': 1,\n",
       "         'it': 2,\n",
       "         'bent': 1,\n",
       "         'the': 8,\n",
       "         'undergrowth;': 1,\n",
       "         'Then': 1,\n",
       "         'took': 2,\n",
       "         'other': 1,\n",
       "         'just': 1,\n",
       "         'fair': 1,\n",
       "         'having': 1,\n",
       "         'perhaps': 1,\n",
       "         'better': 1,\n",
       "         'claim': 1,\n",
       "         'Because': 1,\n",
       "         'was': 1,\n",
       "         'grassy': 1,\n",
       "         'and': 3,\n",
       "         'wanted': 1,\n",
       "         'wear;': 1,\n",
       "         'Though': 1,\n",
       "         'for': 2,\n",
       "         'that': 3,\n",
       "         'passing': 1,\n",
       "         'there': 1,\n",
       "         'Had': 1,\n",
       "         'worn': 1,\n",
       "         'them': 1,\n",
       "         'really': 1,\n",
       "         'about': 1,\n",
       "         'same': 1,\n",
       "         'morning': 1,\n",
       "         'equally': 1,\n",
       "         'lay': 1,\n",
       "         'In': 1,\n",
       "         'leaves': 1,\n",
       "         'no': 1,\n",
       "         'step': 1,\n",
       "         'had': 1,\n",
       "         'trodden': 1,\n",
       "         'black': 1,\n",
       "         'Oh': 1,\n",
       "         'kept': 1,\n",
       "         'first': 1,\n",
       "         'another': 1,\n",
       "         'day!': 1,\n",
       "         'Yet': 1,\n",
       "         'knowing': 1,\n",
       "         'how': 1,\n",
       "         'way': 2,\n",
       "         'leads': 1,\n",
       "         'on': 1,\n",
       "         'to': 1,\n",
       "         'doubted': 1,\n",
       "         'if': 1,\n",
       "         'should': 1,\n",
       "         'ever': 1,\n",
       "         'come': 1,\n",
       "         'back': 1,\n",
       "         'shall': 1,\n",
       "         'telling': 1,\n",
       "         'this': 1,\n",
       "         'with': 1,\n",
       "         'sigh': 1,\n",
       "         'Somewhere': 1,\n",
       "         'ages': 2,\n",
       "         'hence:': 1,\n",
       "         'less': 1,\n",
       "         'traveled': 1,\n",
       "         'by': 1,\n",
       "         'has': 1,\n",
       "         'made': 1,\n",
       "         'all': 1,\n",
       "         'difference': 1})"
      ]
     },
     "execution_count": 98,
     "metadata": {},
     "output_type": "execute_result"
    }
   ],
   "source": [
    "# 単語毎に分けられたリストにCounterクラスを使用して、各単語の出現回数を数える\n",
    "word_count = Counter(document_list)\n",
    "word_count"
   ]
  },
  {
   "cell_type": "code",
   "execution_count": 99,
   "metadata": {},
   "outputs": [
    {
     "data": {
      "text/plain": [
       "[('I', 8), ('the', 8), ('And', 6), ('as', 5), ('in', 3)]"
      ]
     },
     "execution_count": 99,
     "metadata": {},
     "output_type": "execute_result"
    }
   ],
   "source": [
    "word_count.most_common(5) # 一番多い５つを出す"
   ]
  },
  {
   "cell_type": "markdown",
   "metadata": {},
   "source": [
    "## 集合\n",
    "重複のないデータ構造であり、順序関係を持たない。"
   ]
  },
  {
   "cell_type": "code",
   "execution_count": 100,
   "metadata": {},
   "outputs": [
    {
     "data": {
      "text/plain": [
       "{1, 2, 3}"
      ]
     },
     "execution_count": 100,
     "metadata": {},
     "output_type": "execute_result"
    }
   ],
   "source": [
    "aSet = set()  # 集合を作成\n",
    "aSet.add(2)  # 2を集合に追加\n",
    "aSet.add(3)  # 3を集合に追加\n",
    "aSet.add(1)  # 1を集合に追加\n",
    "aSet"
   ]
  },
  {
   "cell_type": "markdown",
   "metadata": {},
   "source": [
    "もう一度2を追加するが、既に存在するので中身は変わらない。(集合の特徴）"
   ]
  },
  {
   "cell_type": "code",
   "execution_count": 101,
   "metadata": {},
   "outputs": [
    {
     "data": {
      "text/plain": [
       "{1, 2, 3}"
      ]
     },
     "execution_count": 101,
     "metadata": {},
     "output_type": "execute_result"
    }
   ],
   "source": [
    "aSet.add(2)\n",
    "aSet               "
   ]
  },
  {
   "cell_type": "markdown",
   "metadata": {},
   "source": [
    "文字列も追加可能である。  "
   ]
  },
  {
   "cell_type": "code",
   "execution_count": 102,
   "metadata": {},
   "outputs": [
    {
     "data": {
      "text/plain": [
       "{1, 2, 3, 'aa'}"
      ]
     },
     "execution_count": 102,
     "metadata": {},
     "output_type": "execute_result"
    }
   ],
   "source": [
    "aSet.add(\"aa\") \n",
    "aSet              "
   ]
  },
  {
   "cell_type": "markdown",
   "metadata": {},
   "source": [
    "リストを用いて集合を作成することもできる。"
   ]
  },
  {
   "cell_type": "code",
   "execution_count": 73,
   "metadata": {},
   "outputs": [
    {
     "data": {
      "text/plain": [
       "{1, 2, 3, 4, 5}"
      ]
     },
     "execution_count": 73,
     "metadata": {},
     "output_type": "execute_result"
    }
   ],
   "source": [
    "aList = [1, 2, 3, 4, 5, 4, 3, 2, 1]\n",
    "aSet = set(aList)\n",
    "aSet"
   ]
  },
  {
   "cell_type": "markdown",
   "metadata": {},
   "source": [
    "in演算子を使うことができる。  \n",
    "リストで使用するin演算よりも高速に計算可能である。"
   ]
  },
  {
   "cell_type": "code",
   "execution_count": 104,
   "metadata": {},
   "outputs": [
    {
     "data": {
      "text/plain": [
       "True"
      ]
     },
     "execution_count": 104,
     "metadata": {},
     "output_type": "execute_result"
    }
   ],
   "source": [
    "1 in aSet "
   ]
  },
  {
   "cell_type": "code",
   "execution_count": 105,
   "metadata": {},
   "outputs": [
    {
     "data": {
      "text/plain": [
       "False"
      ]
     },
     "execution_count": 105,
     "metadata": {},
     "output_type": "execute_result"
    }
   ],
   "source": [
    "10 in aSet"
   ]
  },
  {
   "cell_type": "code",
   "execution_count": null,
   "metadata": {},
   "outputs": [],
   "source": []
  },
  {
   "cell_type": "code",
   "execution_count": null,
   "metadata": {},
   "outputs": [],
   "source": []
  },
  {
   "cell_type": "code",
   "execution_count": null,
   "metadata": {},
   "outputs": [],
   "source": []
  }
 ],
 "metadata": {
  "kernelspec": {
   "display_name": "Python 3",
   "language": "python",
   "name": "python3"
  },
  "language_info": {
   "codemirror_mode": {
    "name": "ipython",
    "version": 3
   },
   "file_extension": ".py",
   "mimetype": "text/x-python",
   "name": "python",
   "nbconvert_exporter": "python",
   "pygments_lexer": "ipython3",
   "version": "3.9.4"
  }
 },
 "nbformat": 4,
 "nbformat_minor": 2
}