{
  "cells": [
    {
      "cell_type": "markdown",
      "metadata": {
        "id": "ZQ-1uPHBr6pv"
      },
      "source": [
        "## Control statements\n",
        "Like other programming languages, Python provides if, while and for.\n",
        "The control of repetition (loops) and branching by conditions (conditional branches) are the heart of the programming.\n",
        "\n",
        "- Conditional branching: if\n",
        "- Loops: while, for, continue, break, etc."
      ]
    },
    {
      "cell_type": "markdown",
      "metadata": {
        "id": "9ezPMK91r6py"
      },
      "source": [
        "# Conditional branch if\n",
        "\n",
        "## Basic if syntax\n",
        "if Condition:\n",
        "\n",
        "    Processing of the target\n",
        "\n",
        "Comparison and logical operators can be used for conditions."
      ]
    },
    {
      "cell_type": "markdown",
      "metadata": {
        "id": "Fq7XL92Or6pz"
      },
      "source": [
        "### Comparizon operators\n",
        "```python\n",
        "a == b # a is equal to b\n",
        "a ! = b # a is different from b\n",
        "a < b # a is less than b\n",
        "a > b # a is greater than b\n",
        "a <= b # a is less than or equal to b\n",
        "a >= b # a is greater than or equal to b\n",
        "a <> b # a is different from b\n",
        "\n",
        "a is b # a is equal to b\n",
        "a is not b # a is different from b\n",
        "a in b # a is in b\n",
        "a not in b # a is not in b\n",
        "```"
      ]
    },
    {
      "cell_type": "markdown",
      "metadata": {
        "id": "sDw53TRmr6p0"
      },
      "source": [
        "### Bool operators\n",
        "```python\n",
        "a and b # true if both a and b are true\n",
        "a or b # true if a or b is true\n",
        "not a # true if a is false\n",
        "```\n",
        "\n",
        "Boolean operator operations\n",
        "\n",
        "| x   | y   | x and y |x or y| not x|  \n",
        "|:---:|:---:| :------:|:----:|:----:|\n",
        "|true |true | true    |true  |false |\n",
        "|true |false| false   |true  |false |\n",
        "|false|true | false   |true  |true  |\n",
        "|false|false| false   |false |true  |\n",
        "\n"
      ]
    },
    {
      "cell_type": "code",
      "execution_count": null,
      "metadata": {
        "scrolled": true,
        "id": "XTbr0Qofr6p0",
        "outputId": "e4c3cc22-3a14-440d-d83f-619c8b8970ac"
      },
      "outputs": [
        {
          "name": "stdout",
          "output_type": "stream",
          "text": [
            "n is positive\n"
          ]
        }
      ],
      "source": [
        "n = 1\n",
        "\n",
        "if n > 0:\n",
        "    print('n is positive')"
      ]
    },
    {
      "cell_type": "code",
      "execution_count": null,
      "metadata": {
        "id": "R234Y7Ggr6p1",
        "outputId": "a4155edd-3ed8-445d-cb49-dfa4186ee299"
      },
      "outputs": [
        {
          "name": "stdout",
          "output_type": "stream",
          "text": [
            "hello world\n"
          ]
        }
      ],
      "source": [
        "word = 'hello'\n",
        "\n",
        "if word == 'hello':\n",
        "    print('hello world')"
      ]
    },
    {
      "cell_type": "code",
      "execution_count": null,
      "metadata": {
        "id": "v0pKRb2ar6p2"
      },
      "outputs": [],
      "source": [
        "#Examples of Boolean operator usage\n",
        "n = 1\n",
        "m = 2\n",
        "\n",
        "if n == 3 and m == 2:\n",
        "    print('ok!')"
      ]
    },
    {
      "cell_type": "markdown",
      "metadata": {
        "id": "xOxp0Umpr6p2"
      },
      "source": [
        "## Boolean (True or False)\n",
        "- A boolean value is represented by True or False.\n",
        "- None is also available. Equivalent to null in other programming languages.\n",
        "- The following values are all False. All other values are True.\n",
        "    - False\n",
        "    - None.\n",
        "    - [ ]\n",
        "    - {}\n",
        "    - \"\"\n",
        "    - set()\n",
        "    - 0\n",
        "    - 0.0"
      ]
    },
    {
      "cell_type": "markdown",
      "metadata": {
        "id": "gFlyCzVmr6p3"
      },
      "source": [
        "%%html\n",
        "<style> \n",
        "table td, table th, table tr {text-align:left !important;}\n",
        "</style>"
      ]
    },
    {
      "cell_type": "markdown",
      "metadata": {
        "id": "se90Ag5Wr6p3"
      },
      "source": [
        "\n",
        "|Comparison operators|Explanation|\n",
        "|---|---|\n",
        "|a == b |True if a and b are equal,<br>False otherwise |\n",
        "|a ! = b | True if a and b are different,<br>False if they are equal.\n",
        "|a > b | True if a is greater than b,<br>False otherwise |\n",
        "|a >= b | True if a is greater than or equal to b, <br>False otherwise |\n",
        "|a < b   |True if a is less than b, <br>False otherwise |\n",
        "|a <= b | True if a is less than or equal to b, <br>False otherwise|"
      ]
    },
    {
      "cell_type": "markdown",
      "metadata": {
        "id": "KIR248COr6p4"
      },
      "source": [
        "<div style=\"text-align: center;\">\n",
        "陦ｨ1-2-1 Comparison operators and boolean"
      ]
    },
    {
      "cell_type": "markdown",
      "metadata": {
        "id": "DjxYL1A8r6p4"
      },
      "source": [
        "|  Logical operators | Description |\n",
        "|:---|:---|\n",
        "| True |if both P and Q are True, otherwise False |\n",
        "| True | if at least one of P and Q is True, otherwise False\n",
        "| not P | True if P is False, otherwise False|"
      ]
    },
    {
      "cell_type": "markdown",
      "metadata": {
        "id": "oEY8Sscer6p4"
      },
      "source": [
        "<div style=\"text-align: center;\">\n",
        "陦ｨ1-2-2縲Logical operators and boolean"
      ]
    },
    {
      "cell_type": "code",
      "execution_count": null,
      "metadata": {
        "id": "jTDmqoO0r6p4",
        "outputId": "2cde7dd5-a019-4cff-b465-383389595796"
      },
      "outputs": [
        {
          "data": {
            "text/plain": [
              "False"
            ]
          },
          "execution_count": 18,
          "metadata": {},
          "output_type": "execute_result"
        }
      ],
      "source": [
        "x = True\n",
        "y = False\n",
        "x and y"
      ]
    },
    {
      "cell_type": "code",
      "execution_count": null,
      "metadata": {
        "id": "tk91UOwBr6p5",
        "outputId": "1c3fe965-67e7-41c2-8ee5-027188f4fb42"
      },
      "outputs": [
        {
          "data": {
            "text/plain": [
              "True"
            ]
          },
          "execution_count": 19,
          "metadata": {},
          "output_type": "execute_result"
        }
      ],
      "source": [
        "x or y"
      ]
    },
    {
      "cell_type": "markdown",
      "metadata": {
        "id": "Gnu4bItrr6p5"
      },
      "source": [
        "From x = True, the conditional expression is True."
      ]
    },
    {
      "cell_type": "code",
      "execution_count": null,
      "metadata": {
        "id": "BxNFHKLpr6p5",
        "outputId": "2fba4779-b5a0-45c0-b587-c9fcbb0c065b"
      },
      "outputs": [
        {
          "name": "stdout",
          "output_type": "stream",
          "text": [
            "x is True\n"
          ]
        }
      ],
      "source": [
        "if x:\n",
        "    print(\"x is True\")"
      ]
    },
    {
      "cell_type": "markdown",
      "metadata": {
        "id": "1quNGPwFr6p5"
      },
      "source": [
        "From y = False, not y =True. Therefore, the conditional expression is True."
      ]
    },
    {
      "cell_type": "code",
      "execution_count": null,
      "metadata": {
        "id": "mu3IFlD7r6p6",
        "outputId": "557dd3f2-757d-4955-b898-803a0202216d"
      },
      "outputs": [
        {
          "name": "stdout",
          "output_type": "stream",
          "text": [
            "y is False\n"
          ]
        }
      ],
      "source": [
        "if not y:\n",
        "    print(\"y is False\")"
      ]
    },
    {
      "cell_type": "markdown",
      "metadata": {
        "id": "XcUBm2HHr6p6"
      },
      "source": [
        "all() is True if all elements of the list are True."
      ]
    },
    {
      "cell_type": "code",
      "execution_count": null,
      "metadata": {
        "id": "-E4WjtRPr6p6",
        "outputId": "3a68036c-b21e-46dc-a613-5716764cc039"
      },
      "outputs": [
        {
          "data": {
            "text/plain": [
              "False"
            ]
          },
          "execution_count": 22,
          "metadata": {},
          "output_type": "execute_result"
        }
      ],
      "source": [
        "all([x,y]) "
      ]
    },
    {
      "cell_type": "markdown",
      "metadata": {
        "id": "r7cKlWubr6p6"
      },
      "source": [
        " [1] is not False and is therefore judged to be True."
      ]
    },
    {
      "cell_type": "code",
      "execution_count": null,
      "metadata": {
        "id": "23k0dwWLr6p6",
        "outputId": "7b7fc0b1-7141-4c58-d13c-08558aac64e9"
      },
      "outputs": [
        {
          "data": {
            "text/plain": [
              "True"
            ]
          },
          "execution_count": 23,
          "metadata": {},
          "output_type": "execute_result"
        }
      ],
      "source": [
        "all([x,True,[1]])"
      ]
    },
    {
      "cell_type": "markdown",
      "metadata": {
        "id": "BKqJXqAvr6p7"
      },
      "source": [
        "any() is True if one of the list is True."
      ]
    },
    {
      "cell_type": "code",
      "execution_count": null,
      "metadata": {
        "id": "EzzgP4nnr6p7",
        "outputId": "fe886e86-d06b-4d2b-ef41-2d9837afd18a"
      },
      "outputs": [
        {
          "data": {
            "text/plain": [
              "True"
            ]
          },
          "execution_count": 24,
          "metadata": {},
          "output_type": "execute_result"
        }
      ],
      "source": [
        "any([[],False,x]) "
      ]
    },
    {
      "cell_type": "markdown",
      "metadata": {
        "id": "lCJKlwY_r6p7"
      },
      "source": [
        "[ ], False, y, all of which are False. Therefore, the output is False."
      ]
    },
    {
      "cell_type": "code",
      "execution_count": null,
      "metadata": {
        "id": "wD2adVaLr6p7",
        "outputId": "fb71190e-2b02-4c95-8bb0-e41a0948ce42"
      },
      "outputs": [
        {
          "data": {
            "text/plain": [
              "False"
            ]
          },
          "execution_count": 25,
          "metadata": {},
          "output_type": "execute_result"
        }
      ],
      "source": [
        "any([[],False,y])"
      ]
    },
    {
      "cell_type": "markdown",
      "metadata": {
        "id": "LxS1XMDtr6p7"
      },
      "source": [
        "## Basic if syntax\n",
        "if Condition:\n",
        "\n",
        "    Target process\n",
        "    \n",
        "else:\n",
        "\n",
        "    Processing if the condition fails\n",
        "    "
      ]
    },
    {
      "cell_type": "code",
      "execution_count": null,
      "metadata": {
        "id": "NCHKrOv7r6p8",
        "outputId": "0e029d4c-d90d-421e-d396-1d9c87d40172"
      },
      "outputs": [
        {
          "name": "stdout",
          "output_type": "stream",
          "text": [
            "n is not hundred!\n"
          ]
        }
      ],
      "source": [
        "n = 10\n",
        "\n",
        "if n == 100:\n",
        "    print('n is hundred!')\n",
        "else:\n",
        "    print('n is not hundred!')"
      ]
    },
    {
      "cell_type": "code",
      "execution_count": null,
      "metadata": {
        "id": "yrEsBz_Wr6p8",
        "outputId": "945da062-5382-4366-a6df-1add0ea6e9f5"
      },
      "outputs": [
        {
          "name": "stdout",
          "output_type": "stream",
          "text": [
            ".....\n"
          ]
        }
      ],
      "source": [
        "word = 'goodby'\n",
        "\n",
        "if word == 'hello':\n",
        "    print('world!')\n",
        "else:\n",
        "    print('.....')"
      ]
    },
    {
      "cell_type": "markdown",
      "metadata": {
        "id": "2UjoIZGJr6p8"
      },
      "source": [
        "## Basic if syntax\n",
        "if Condition 1:\n",
        "\n",
        "    Processing when condition 1 is satisfied (true).\n",
        "    \n",
        "elif Condition 2: \n",
        "\n",
        "    Processing when condition 2 is satisfied (true).\n",
        "    "
      ]
    },
    {
      "cell_type": "code",
      "execution_count": null,
      "metadata": {
        "id": "mpSR-JKRr6p8"
      },
      "outputs": [],
      "source": [
        "n = 99\n",
        "\n",
        "if n > 100:\n",
        "    print('n is over 100')\n",
        "elif n <= 100:\n",
        "    print('n equals 100')"
      ]
    },
    {
      "cell_type": "code",
      "execution_count": null,
      "metadata": {
        "id": "dgRNyW0vr6p8",
        "outputId": "b4ae2fb7-90d7-499b-b09c-b34adec0936e"
      },
      "outputs": [
        {
          "name": "stdout",
          "output_type": "stream",
          "text": [
            "I like takoyaki\n"
          ]
        }
      ],
      "source": [
        "word = 'takoyaki'\n",
        "\n",
        "if word == 'takayuki':\n",
        "    print('I like takayuki')\n",
        "elif word == 'takoyaki':\n",
        "    print('I like takoyaki')"
      ]
    },
    {
      "cell_type": "code",
      "execution_count": null,
      "metadata": {
        "id": "xON58OvQr6p8",
        "outputId": "857db428-abc5-4c7e-ea38-f72548c172a4"
      },
      "outputs": [
        {
          "name": "stdout",
          "output_type": "stream",
          "text": [
            "n equals 100\n"
          ]
        }
      ],
      "source": [
        "n = 100\n",
        "\n",
        "if n == 100:\n",
        "    print('n equals 100')\n",
        "elif n == 100:\n",
        "    print('n 縺ｯ 100 縺ｨ遲峨＠縺 ')"
      ]
    },
    {
      "cell_type": "code",
      "execution_count": null,
      "metadata": {
        "id": "wcEiDm-Kr6p9",
        "outputId": "cdb75e2a-98bd-418d-ce83-567679245773"
      },
      "outputs": [
        {
          "name": "stdout",
          "output_type": "stream",
          "text": [
            "n == 100\n"
          ]
        }
      ],
      "source": [
        "n = 100\n",
        "\n",
        "if n > 100:\n",
        "    print('n > 100')\n",
        "elif n == 100:\n",
        "    print('n == 100')\n",
        "elif n < 100:\n",
        "    print('n < 100')"
      ]
    },
    {
      "cell_type": "markdown",
      "metadata": {
        "id": "BpOWphR8r6p9"
      },
      "source": [
        "## Basic if syntax\n",
        "if Condition 1:\n",
        "\n",
        "    (Target process)\n",
        "    \n",
        "elif Condition 2:\n",
        "\n",
        "    (process for which condition 1 fails and condition 2 is applicable)\n",
        "\n",
        "elif Condition 3:\n",
        "    \n",
        "    (Processing when condition 1 and 2 fail and condition 3 is satisfied)\n",
        "\n",
        "else:\n",
        "\n",
        "    (Processing in cases other than the above)"
      ]
    },
    {
      "cell_type": "code",
      "execution_count": null,
      "metadata": {
        "id": "or6KBUvfr6p9",
        "outputId": "ebda53b8-7501-4e9d-a8df-1c34c4f4e0ef"
      },
      "outputs": [
        {
          "name": "stdout",
          "output_type": "stream",
          "text": [
            "n is 100\n"
          ]
        }
      ],
      "source": [
        "n = 100\n",
        "\n",
        "if n > 100:\n",
        "    print('n is bigger than 100')\n",
        "elif n < 100:\n",
        "    print('n is lower than 100')\n",
        "else:\n",
        "    print('n is 100')"
      ]
    },
    {
      "cell_type": "code",
      "execution_count": null,
      "metadata": {
        "id": "OhVPoHnYr6p9",
        "outputId": "6089cac6-f401-4e9d-fc57-0e005e57feb4"
      },
      "outputs": [
        {
          "name": "stdout",
          "output_type": "stream",
          "text": [
            "Who are you?\n"
          ]
        }
      ],
      "source": [
        "word = 'takeyuki'\n",
        "\n",
        "if word == 'takayuki':\n",
        "    print('It is takayuki')\n",
        "elif word == 'takoyaki':\n",
        "    print('I like takoyaki')\n",
        "else:\n",
        "    print('Who are you?')"
      ]
    },
    {
      "cell_type": "markdown",
      "metadata": {
        "id": "PzMNbuJpr6p-"
      },
      "source": [
        "## Concrete examples.\n",
        "## Display of greetings for the time inputted\n"
      ]
    },
    {
      "cell_type": "code",
      "execution_count": 1,
      "metadata": {
        "colab": {
          "base_uri": "https://localhost:8080/"
        },
        "id": "mnuGxcKIr6p-",
        "outputId": "b3aa42a9-7063-41ae-b4a0-20d3aab6c635"
      },
      "outputs": [
        {
          "output_type": "stream",
          "name": "stdout",
          "text": [
            "please input:You understand how to use \"input()\"\n",
            "You understand how to use \"input()\"\n"
          ]
        }
      ],
      "source": [
        "#See how to use \"input()\"\n",
        "a = input('please input:')\n",
        "print(a)"
      ]
    },
    {
      "cell_type": "code",
      "execution_count": 3,
      "metadata": {
        "colab": {
          "base_uri": "https://localhost:8080/"
        },
        "id": "oj5ad-cTr6p-",
        "outputId": "d0179f1d-1e20-403f-ab55-32ae37a2d7c5"
      },
      "outputs": [
        {
          "output_type": "stream",
          "name": "stdout",
          "text": [
            "Please enter the hour (0-24):20\n",
            "Good-bye\n"
          ]
        }
      ],
      "source": [
        "hour = int(input('Please enter the hour (0-24):'))\n",
        "\n",
        "if 0 <= hour and hour <= 5:\n",
        "    print('It is midnight. Quiet.')\n",
        "elif 6 <= hour and hour <= 10:\n",
        "    print('Good morning')\n",
        "elif 11 <= hour and hour <= 16:\n",
        "    print('Good afternoon')\n",
        "elif 17 <= hour and hour <= 20:\n",
        "    print('Good-bye')\n",
        "elif 21 <= hour and hour <= 24:\n",
        "    print('Good night')\n",
        "else:\n",
        "    print('No time for that')"
      ]
    },
    {
      "cell_type": "markdown",
      "metadata": {
        "id": "sVh7Ojeyr6p-"
      },
      "source": [
        "### Accepting input\n",
        "\n",
        "x = input()\n",
        "\n",
        "x contains a value of type str"
      ]
    },
    {
      "cell_type": "code",
      "execution_count": null,
      "metadata": {
        "id": "YwBg_2gjr6p-",
        "outputId": "2c1e9e6d-1dc5-45d2-fedf-874b0a195fc0"
      },
      "outputs": [
        {
          "name": "stdout",
          "output_type": "stream",
          "text": [
            "1\n"
          ]
        },
        {
          "data": {
            "text/plain": [
              "str"
            ]
          },
          "execution_count": 33,
          "metadata": {},
          "output_type": "execute_result"
        }
      ],
      "source": [
        "x = input()\n",
        "type(x)"
      ]
    },
    {
      "cell_type": "code",
      "execution_count": 4,
      "metadata": {
        "colab": {
          "base_uri": "https://localhost:8080/"
        },
        "id": "JJfmGYv9r6p-",
        "outputId": "e39544d2-6d87-4e93-a97e-519502e4c637"
      },
      "outputs": [
        {
          "output_type": "stream",
          "name": "stdout",
          "text": [
            "Please enter the hour (0-24):4\n",
            "It is midnight. Quiet.\n"
          ]
        }
      ],
      "source": [
        "### Rewrite using the set\n",
        "hour = int(input('Please enter the hour (0-24):'))\n",
        "\n",
        "if hour in {0,1,2,3,4,5}:\n",
        "    print('It is midnight. Quiet.')\n",
        "elif hour in {6,7,8,9,10}:\n",
        "    print('Good morning')\n",
        "elif hour in {11,12,13,14,15,16}:\n",
        "    print('Hello')\n",
        "elif hour in {17,18,19,20}:\n",
        "    print('Good-bye')\n",
        "elif hour in {21,22,23,24}:\n",
        "    print('Good night')\n",
        "else:\n",
        "    print('No time for that')"
      ]
    },
    {
      "cell_type": "markdown",
      "metadata": {
        "id": "M66F4wVTr6p-"
      },
      "source": [
        "'{}' denotes a set.\n",
        "\n",
        "The in operator is included or not included. It can be used for collections such as sets, lists, dictionaries and tuples."
      ]
    },
    {
      "cell_type": "code",
      "execution_count": null,
      "metadata": {
        "id": "mkAgsAymr6p_",
        "outputId": "40d9e3bf-9e9c-46f7-9396-df02344c6e30"
      },
      "outputs": [
        {
          "data": {
            "text/plain": [
              "True"
            ]
          },
          "execution_count": 37,
          "metadata": {},
          "output_type": "execute_result"
        }
      ],
      "source": [
        "1 in [1,2,3] # list"
      ]
    },
    {
      "cell_type": "code",
      "execution_count": null,
      "metadata": {
        "id": "sq03nYkYr6p_",
        "outputId": "6f07afa3-4df1-45f9-afbb-cbbd34cd8e79"
      },
      "outputs": [
        {
          "data": {
            "text/plain": [
              "True"
            ]
          },
          "execution_count": 42,
          "metadata": {},
          "output_type": "execute_result"
        }
      ],
      "source": [
        "2 in (1,2) # tuple"
      ]
    },
    {
      "cell_type": "code",
      "execution_count": null,
      "metadata": {
        "id": "UVSGc7g1r6p_",
        "outputId": "d0e53078-d165-4966-bbf0-3a2a68f97ca7"
      },
      "outputs": [
        {
          "data": {
            "text/plain": [
              "False"
            ]
          },
          "execution_count": 39,
          "metadata": {},
          "output_type": "execute_result"
        }
      ],
      "source": [
        "# whether key is there for a dictionary\n",
        "3 in {1:2,4:1}"
      ]
    },
    {
      "cell_type": "markdown",
      "metadata": {
        "id": "eFoisfFJr6p_"
      },
      "source": [
        "### Condition operators.\n",
        "```python\n",
        "x if condition else y\n",
        "```\n",
        "\n",
        "Operator for making conditional statements on a single line."
      ]
    },
    {
      "cell_type": "code",
      "execution_count": 5,
      "metadata": {
        "colab": {
          "base_uri": "https://localhost:8080/"
        },
        "id": "QAAoz8_0r6p_",
        "outputId": "44d6b303-bdb6-4f2a-fca5-20d1b737cabf"
      },
      "outputs": [
        {
          "output_type": "stream",
          "name": "stdout",
          "text": [
            "10\n"
          ]
        }
      ],
      "source": [
        "x = 10\n",
        "y = 20\n",
        "\n",
        "min = x if x < y else y\n",
        "\n",
        "print(min)"
      ]
    },
    {
      "cell_type": "markdown",
      "metadata": {
        "id": "Ou3sfWLtr6p_"
      },
      "source": [
        "## If if input and child structures\n",
        "\n",
        "Further if statements can be inserted in the if statement part\n",
        "\n",
        "### Find the maximum of three values\n"
      ]
    },
    {
      "cell_type": "code",
      "execution_count": null,
      "metadata": {
        "id": "PTQRodBYr6qA",
        "outputId": "430d068c-ae08-40d9-dae4-0770280a5523"
      },
      "outputs": [
        {
          "name": "stdout",
          "output_type": "stream",
          "text": [
            "max is z= 300\n"
          ]
        }
      ],
      "source": [
        "x = 200\n",
        "y = 250\n",
        "z = 300\n",
        "\n",
        "if x > y:\n",
        "    if x > z:\n",
        "        print('max is x=',x)\n",
        "    else:\n",
        "        print('max is z=',z)\n",
        "else:\n",
        "    if y > z:\n",
        "        print('max is y=',y)\n",
        "    else:\n",
        "        print('max is z=',z)\n",
        "\n"
      ]
    },
    {
      "cell_type": "code",
      "execution_count": null,
      "metadata": {
        "id": "D1jcht9wr6qA",
        "outputId": "a88387b3-a269-4daf-8238-7cdf80c9a768"
      },
      "outputs": [
        {
          "name": "stdout",
          "output_type": "stream",
          "text": [
            "max = 300\n"
          ]
        }
      ],
      "source": [
        "#Other ways of finding the maximum (not necessarily nested)\n",
        "x = 200\n",
        "y = 100\n",
        "z = 300\n",
        "\n",
        "max = x\n",
        "if y > max:\n",
        "    max = y\n",
        "if z > max:\n",
        "    max = z\n",
        "\n",
        "print('max =', max)\n",
        "    \n",
        "    "
      ]
    },
    {
      "cell_type": "markdown",
      "metadata": {
        "id": "p8Ey5lcyr6qA"
      },
      "source": [
        "## Swap and sort values."
      ]
    },
    {
      "cell_type": "code",
      "execution_count": 6,
      "metadata": {
        "colab": {
          "base_uri": "https://localhost:8080/"
        },
        "id": "lRoDbAqHr6qA",
        "outputId": "7ab85d2d-0c7f-4ea9-a3af-8a2af7b1fdab"
      },
      "outputs": [
        {
          "output_type": "stream",
          "name": "stdout",
          "text": [
            "integer x:2000\n",
            "integer y:3000\n",
            "swap\n",
            "x= 3000\n",
            "y= 2000\n"
          ]
        }
      ],
      "source": [
        "## Swap two values (swap)\n",
        "x = int(input('integer x:'))\n",
        "y = int(input('integer y:'))\n",
        "\n",
        "print('swap')\n",
        "# t means temporary\n",
        "t = x\n",
        "x = y\n",
        "y = t\n",
        "\n",
        "print('x=',x)\n",
        "print('y=',y)\n"
      ]
    },
    {
      "cell_type": "code",
      "execution_count": null,
      "metadata": {
        "id": "jKt6tCMAr6qA",
        "outputId": "b6e7872a-a6b4-42aa-eae9-485c76eea623"
      },
      "outputs": [
        {
          "name": "stdout",
          "output_type": "stream",
          "text": [
            "integer x:10\n",
            "integer y:20\n",
            "swap縺励∪縺兔n",
            "x= 20\n",
            "y= 10\n"
          ]
        }
      ],
      "source": [
        "## Swap two values (swap)\n",
        "x = int(input('integer x:'))\n",
        "y = int(input('integer y:'))\n",
        "\n",
        "print('swap')\n",
        "x , y = y, x\n",
        "\n",
        "\n",
        "print('x=',x)\n",
        "print('y=',y)"
      ]
    },
    {
      "cell_type": "code",
      "execution_count": 7,
      "metadata": {
        "colab": {
          "base_uri": "https://localhost:8080/"
        },
        "id": "OceBBVtCr6qA",
        "outputId": "1378f296-d4d7-498c-bab4-6a81b6480ad0"
      },
      "outputs": [
        {
          "output_type": "stream",
          "name": "stdout",
          "text": [
            "integer x:10\n",
            "integer y:100\n",
            "integer z:1\n",
            "1 < 10 < 100\n"
          ]
        }
      ],
      "source": [
        "## Three-valued sorting\n",
        "x = int(input('integer x:'))\n",
        "y = int(input('integer y:'))\n",
        "z = int(input('integer z:'))\n",
        "\n",
        "if x > y: x,y = y,x\n",
        "if y > z: y,z = z,y\n",
        "if x > y: x,y = y,x\n",
        "    \n",
        "print(x,'<',y,'<',z)"
      ]
    },
    {
      "cell_type": "code",
      "execution_count": 8,
      "metadata": {
        "id": "4PE1ZuTNr6qB"
      },
      "outputs": [],
      "source": [
        "## 隱ｲ鬘  4蛟､縺ｮ繧ｽ繝ｼ繝 "
      ]
    },
    {
      "cell_type": "markdown",
      "metadata": {
        "id": "z-r-rB-1r6qB"
      },
      "source": [
        "## sorted\n",
        "Built-in sorting function"
      ]
    },
    {
      "cell_type": "code",
      "execution_count": null,
      "metadata": {
        "id": "8LURV2lTr6qB",
        "outputId": "ca4bc260-353c-42f6-931c-bae9631b2f60"
      },
      "outputs": [
        {
          "name": "stdout",
          "output_type": "stream",
          "text": [
            "integer x:300\n",
            "integer y:200\n",
            "integer z:100\n",
            "100 200 300\n"
          ]
        }
      ],
      "source": [
        "x = int(input('integer x:'))\n",
        "y = int(input('integer y:'))\n",
        "z = int(input('integer z:'))\n",
        "\n",
        "x,y,z = sorted([x,y,z])\n",
        "\n",
        "print(x,y,z)\n"
      ]
    },
    {
      "cell_type": "code",
      "execution_count": null,
      "metadata": {
        "id": "FiSLffIGr6qB",
        "outputId": "8fe978fe-3f6f-430e-e578-8790ad24a969"
      },
      "outputs": [
        {
          "name": "stdout",
          "output_type": "stream",
          "text": [
            "integer x:100\n",
            "integer y:200\n",
            "integer z:300\n",
            "300 200 100\n"
          ]
        }
      ],
      "source": [
        "x = int(input('integer x:'))\n",
        "y = int(input('integer y:'))\n",
        "z = int(input('integer z:'))\n",
        "\n",
        "x,y,z = sorted([x,y,z], reverse=True)\n",
        "\n",
        "print(x,y,z)\n",
        "\n"
      ]
    },
    {
      "cell_type": "code",
      "execution_count": null,
      "metadata": {
        "id": "O4OEV0Nxr6qB"
      },
      "outputs": [],
      "source": [
        ""
      ]
    }
  ],
  "metadata": {
    "kernelspec": {
      "display_name": "Python 3",
      "language": "python",
      "name": "python3"
    },
    "language_info": {
      "codemirror_mode": {
        "name": "ipython",
        "version": 3
      },
      "file_extension": ".py",
      "mimetype": "text/x-python",
      "name": "python",
      "nbconvert_exporter": "python",
      "pygments_lexer": "ipython3",
      "version": "3.8.3"
    },
    "colab": {
      "name": "IntroductionToProgramming4.ipynb",
      "provenance": [],
      "collapsed_sections": []
    }
  },
  "nbformat": 4,
  "nbformat_minor": 0
}