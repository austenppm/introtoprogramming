{
  "cells": [
    {
      "attachments": {},
      "cell_type": "markdown",
      "metadata": {
        "id": "McSjTtS5OUpi"
      },
      "source": [
        "## Control \n",
        "Like other programming languages, Python provides if, while, for, etc.\n",
        "The control of repetition (loops) and branching by conditions (conditional branches) are the heart of programming.\n",
        "\n",
        "- Conditional branching: if\n",
        "- Loops: while, for, continue, break, etc."
      ]
    },
    {
      "attachments": {},
      "cell_type": "markdown",
      "metadata": {
        "id": "tpITE3z7OUpj"
      },
      "source": [
        "# While\n",
        "\n",
        "## Basic syntax of while\n",
        "while Condition:.\n",
        "\n",
        "　(Target process)\n",
        "\n",
        "Comparison and logical operators can be used for conditions."
      ]
    },
    {
      "attachments": {},
      "cell_type": "markdown",
      "metadata": {
        "id": "yEnNj1JTOUpk"
      },
      "source": [
        "### Comparison operators.\n",
        "```python\n",
        "a == b # a is equal to b\n",
        "a ! = b # a is different from b\n",
        "a < b # a is less than b\n",
        "a > b # a is greater than b\n",
        "a <= b # a is less than or equal to b\n",
        "a >= b # a is greater than or equal to b\n",
        "a <> b # a is different from b\n",
        "a is b # a is equal to b\n",
        "a is not b # a is different from b\n",
        "a in b # a is in b\n",
        "a not in b # a is not in b\n",
        "```"
      ]
    },
    {
      "attachments": {},
      "cell_type": "markdown",
      "metadata": {
        "id": "EPmJ0oLhOUpk"
      },
      "source": [
        "### Boolean operators.\n",
        "```python\n",
        "a and b # true if both a and b are true\n",
        "a or b # true if a or b is true\n",
        "not a # true if a is false\n",
        "```\n",
        "\n",
        "Boolean operations.\n",
        "\n",
        "| x | y | x and y |x or y| not x|  \n",
        "|:---:|:---:| :------:|:----:|:----:|\n",
        "|True |True |True |True |False\n",
        "|True |False|False |True |False\n",
        "|False|True |False |True |True |True\n",
        "|False|False|False |False |False |True\n"
      ]
    },
    {
      "cell_type": "code",
      "execution_count": null,
      "metadata": {
        "id": "B00QSRWAOUpl",
        "outputId": "efbd6344-41b9-4f22-8b44-bac6e3c89885"
      },
      "outputs": [
        {
          "name": "stdout",
          "output_type": "stream",
          "text": [
            "1\n",
            "2\n",
            "3\n",
            "4\n",
            "5\n",
            "6\n",
            "7\n",
            "8\n",
            "9\n"
          ]
        }
      ],
      "source": [
        "i = 1 # Assign 1 to i\n",
        "\n",
        "while i < 10: # Repeat below if i is less than 10\n",
        "    print(i) # print i\n",
        "    i = i + 1 # Add 1 to i and assign to i -> i += 1\n",
        "    \n",
        "    #adding comment"
      ]
    },
    {
      "cell_type": "code",
      "execution_count": null,
      "metadata": {
        "id": "mK8vwY-COUpm",
        "outputId": "2d84601a-7a4c-4170-8e2a-90c3c8f8f044"
      },
      "outputs": [
        {
          "name": "stdout",
          "output_type": "stream",
          "text": [
            "1\n",
            "2\n",
            "3\n",
            "4\n",
            "5\n",
            "6\n",
            "7\n",
            "8\n",
            "9\n"
          ]
        }
      ],
      "source": [
        "i = 1\n",
        "\n",
        "while i < 10:\n",
        "    print(i)\n",
        "    i += 1"
      ]
    },
    {
      "cell_type": "code",
      "execution_count": null,
      "metadata": {
        "id": "4wCqdkkyOUpm",
        "outputId": "3f89bb02-c61b-44f8-ec12-2325424d1093"
      },
      "outputs": [
        {
          "name": "stdout",
          "output_type": "stream",
          "text": [
            "10\n",
            "9\n",
            "8\n",
            "7\n",
            "6\n",
            "5\n",
            "4\n",
            "3\n",
            "2\n",
            "1\n"
          ]
        }
      ],
      "source": [
        "# Reduce by one from 10. Draw a flowchart.\n",
        "i = 10\n",
        "\n",
        "while i > 0:\n",
        "    print(i)\n",
        "    i = i - 1"
      ]
    },
    {
      "cell_type": "code",
      "execution_count": null,
      "metadata": {
        "id": "VUL3u_-_OUpn",
        "outputId": "b3e32dfd-a640-4b6e-ed08-7a400d516074"
      },
      "outputs": [
        {
          "name": "stdout",
          "output_type": "stream",
          "text": [
            "10\n",
            "9\n",
            "8\n",
            "7\n",
            "6\n",
            "5\n",
            "4\n",
            "3\n",
            "2\n",
            "1\n"
          ]
        }
      ],
      "source": [
        "i = 10\n",
        "\n",
        "while i > 0:\n",
        "    print(i)\n",
        "    i -= 1 # -> i = i - 1と同じ"
      ]
    },
    {
      "cell_type": "code",
      "execution_count": 1,
      "metadata": {
        "colab": {
          "base_uri": "https://localhost:8080/"
        },
        "id": "GV2qKtmaOUpn",
        "outputId": "1397ff42-a385-4487-f011-067b5d40bf90"
      },
      "outputs": [
        {
          "name": "stdout",
          "output_type": "stream",
          "text": [
            "Please enter a number greater than or equal to 1:100\n",
            "The sum from 1 to 100 is 5050\n"
          ]
        }
      ],
      "source": [
        "#Find the sum from 1 to the number entered\n",
        "i = 1\n",
        "n = int(input('Please enter a number greater than or equal to 1:'))\n",
        "sum = 0\n",
        "while n >= i:\n",
        "    sum = sum + i\n",
        "    i += 1\n",
        "print(\"The sum from 1 to\",n, \"is\",sum)"
      ]
    },
    {
      "attachments": {},
      "cell_type": "markdown",
      "metadata": {
        "id": "klV9XiINOUpo"
      },
      "source": [
        "## Sleep文"
      ]
    },
    {
      "cell_type": "code",
      "execution_count": null,
      "metadata": {
        "id": "fEgvZ6jtOUpo",
        "outputId": "aa49fc84-123b-4626-d3d8-58264c4fa372"
      },
      "outputs": [
        {
          "name": "stdout",
          "output_type": "stream",
          "text": [
            "1\n",
            "2\n",
            "3\n",
            "4\n",
            "5\n",
            "6\n",
            "7\n",
            "8\n",
            "9\n",
            "10\n"
          ]
        }
      ],
      "source": [
        "# sleep\n",
        "import time\n",
        "n = 10\n",
        "i = 0\n",
        "while n > i:\n",
        "    i += 1\n",
        "    time.sleep(1) # function to stop execution for the number of seconds in brackets\n",
        "    print(i)"
      ]
    },
    {
      "attachments": {},
      "cell_type": "markdown",
      "metadata": {
        "id": "k-pFZ4AIOUpo"
      },
      "source": [
        "## break文\n",
        "Exit the nearest repetitive sentence."
      ]
    },
    {
      "cell_type": "code",
      "execution_count": null,
      "metadata": {
        "id": "2j3rFMxCOUpo",
        "outputId": "4617c282-2601-4542-dc3b-59eabb750c58"
      },
      "outputs": [
        {
          "name": "stdout",
          "output_type": "stream",
          "text": [
            "1\n",
            "2\n",
            "3\n",
            "4\n",
            "5\n",
            "6\n",
            "7\n",
            "8\n",
            "9\n",
            "break!\n"
          ]
        }
      ],
      "source": [
        "i = 1\n",
        "while i > 0:\n",
        "    print(i)\n",
        "    i = i + 1\n",
        "    if i == 10:\n",
        "        print('break!')\n",
        "        break"
      ]
    },
    {
      "attachments": {},
      "cell_type": "markdown",
      "metadata": {
        "id": "TRqgjC_iOUpp"
      },
      "source": [
        "## while ... else ...\n",
        "Python specific syntax"
      ]
    },
    {
      "cell_type": "code",
      "execution_count": null,
      "metadata": {
        "id": "s-m24Qt7OUpp",
        "outputId": "d37a3060-3d84-4ed1-9900-5ea9f37f37bf"
      },
      "outputs": [
        {
          "name": "stdout",
          "output_type": "stream",
          "text": [
            "1\n",
            "2\n",
            "3\n",
            "4\n",
            "5\n",
            "6\n",
            "7\n",
            "8\n",
            "9\n",
            "i is 10\n",
            "10\n"
          ]
        }
      ],
      "source": [
        "i = 1\n",
        "while i < 10:\n",
        "    print(i)\n",
        "    i = i + 1\n",
        "else:\n",
        "    print('i is 10')\n",
        "    print(i)"
      ]
    },
    {
      "attachments": {},
      "cell_type": "markdown",
      "metadata": {
        "id": "eBGn3vEOOUpp"
      },
      "source": [
        "## continue文\n",
        "Skip without executing any further processing after each iteration."
      ]
    },
    {
      "cell_type": "code",
      "execution_count": null,
      "metadata": {
        "id": "o5RMeObTOUpq",
        "outputId": "6f3f7889-a12f-40cc-8305-422af0da4824"
      },
      "outputs": [
        {
          "name": "stdout",
          "output_type": "stream",
          "text": [
            "5\n",
            "6\n",
            "7\n",
            "8\n",
            "9\n",
            "10\n"
          ]
        }
      ],
      "source": [
        "i = 0\n",
        "while i < 10:\n",
        "    i = i + 1\n",
        "    if i < 5:\n",
        "        continue # Repeat without executing the following print\n",
        "    print(i)"
      ]
    },
    {
      "attachments": {},
      "cell_type": "markdown",
      "metadata": {
        "id": "-gAXXu1-OUpq"
      },
      "source": [
        "## For \n",
        "The for statement in python is useful because it can be used in a variety of ways\n",
        "\n",
        "for i in range(n):\n",
        "\n",
        "Description of the process\n",
        "\n",
        "- range(n) is a sequence of numbers from 0 to n-1.\n",
        "- Assign the numbers 0 to n-1 to i in sequence and repeat the process in the suite."
      ]
    },
    {
      "cell_type": "code",
      "execution_count": 2,
      "metadata": {
        "colab": {
          "base_uri": "https://localhost:8080/"
        },
        "id": "fgk05lUWOUpq",
        "outputId": "c6cbb794-a2f1-4b8a-b728-f0be2d8ec2f2"
      },
      "outputs": [
        {
          "name": "stdout",
          "output_type": "stream",
          "text": [
            "input number:10\n",
            "0\n",
            "1\n",
            "2\n",
            "3\n",
            "4\n",
            "5\n",
            "6\n",
            "7\n",
            "8\n",
            "9\n"
          ]
        }
      ],
      "source": [
        "# Example using the range function\n",
        "n = int(input('input number:'))\n",
        "\n",
        "for i in range(n): # Repeat the process (print(i)) during assigning 0 to n-1 to i\n",
        "    print(i)"
      ]
    },
    {
      "attachments": {},
      "cell_type": "markdown",
      "metadata": {
        "id": "BG4uFpCxOUpq"
      },
      "source": [
        "### range関数"
      ]
    },
    {
      "cell_type": "code",
      "execution_count": 4,
      "metadata": {
        "colab": {
          "base_uri": "https://localhost:8080/"
        },
        "id": "Cbp4RVZyOUpq",
        "outputId": "7a5eca4c-26a6-45c3-cae1-23655ca88bdb",
        "scrolled": true
      },
      "outputs": [
        {
          "name": "stdout",
          "output_type": "stream",
          "text": [
            "range(0, 10)\n",
            "[0, 1, 2, 3, 4, 5, 6, 7, 8, 9]\n",
            "range(0, 10)\n",
            "[0, 1, 2, 3, 4, 5, 6, 7, 8, 9]\n",
            "range(0, 10, 2)\n",
            "[0, 2, 4, 6, 8]\n",
            "range(10, 0, -1)\n",
            "[10, 9, 8, 7, 6, 5, 4, 3, 2, 1]\n"
          ]
        }
      ],
      "source": [
        "#Create a range type object with consecutive numbers from 0 to 10-1 as elements.\n",
        "#(A range type object is an iterable object.)\n",
        "x1 = range(0,10) #from 0 to 10-1 (one before 10)\n",
        "print(x1)\n",
        "print(list(x1))\n",
        "x2 = range(10) #from 0 to 10-1 (one before 10)\n",
        "print(x2)\n",
        "print(list(x2))\n",
        "x3 = range(0,10,2) #from 0 to 10-1 (one before 10) in increments of 2\n",
        "print(x3)\n",
        "print(list(x3))\n",
        "x4 = range(10,0,-1) #from 10 to 0+1 (one before 0) in increments of -1\n",
        "print(x4)\n",
        "print(list(x4))"
      ]
    },
    {
      "cell_type": "code",
      "execution_count": null,
      "metadata": {
        "id": "5w0zKwVGOUpr",
        "outputId": "e58a7957-ba07-4424-e668-903303e510b7"
      },
      "outputs": [
        {
          "name": "stdout",
          "output_type": "stream",
          "text": [
            "2\n",
            "4\n",
            "10\n"
          ]
        }
      ],
      "source": [
        "#Elements can be retrieved by index.\n",
        "print(x1[2])\n",
        "print(x3[2])\n",
        "print(x4[0])"
      ]
    },
    {
      "cell_type": "code",
      "execution_count": null,
      "metadata": {
        "id": "BRriK97zOUpr",
        "outputId": "a45fd9de-3670-4785-91df-a11c1d45e8df"
      },
      "outputs": [
        {
          "name": "stdout",
          "output_type": "stream",
          "text": [
            "x=100\n",
            "y=80\n",
            "80 81 82 83 84 85 86 87 88 89 90 91 92 93 94 95 96 97 98 99 100 \n"
          ]
        }
      ],
      "source": [
        "# Example of using a Range object to specify a range of for iterations.\n",
        "x = int(input('x='))\n",
        "y = int(input('y='))\n",
        "\n",
        "if y > x:\n",
        "    x,y = y,x\n",
        "\n",
        "for i in range(y,x+1):\n",
        "    print(i,end=' ')\n",
        "print()"
      ]
    },
    {
      "attachments": {},
      "cell_type": "markdown",
      "metadata": {
        "id": "dBsKwV9oOUpr"
      },
      "source": [
        "### Enumeration of even numbers"
      ]
    },
    {
      "cell_type": "code",
      "execution_count": null,
      "metadata": {
        "id": "68CCM6TMOUpr",
        "outputId": "b5b99832-1a67-49ba-aad6-922f0794d478"
      },
      "outputs": [
        {
          "name": "stdout",
          "output_type": "stream",
          "text": [
            "n=30\n",
            "0 2 4 6 8 10 12 14 16 18 20 22 24 26 28 \n"
          ]
        }
      ],
      "source": [
        "n = int(input('n='))\n",
        "\n",
        "for i in range(0,n,2):\n",
        "    print(i,end=' ')\n",
        "print()\n",
        "#Let's try enumerating odd numbers too."
      ]
    },
    {
      "attachments": {},
      "cell_type": "markdown",
      "metadata": {
        "id": "wyBsPl9qOUpr"
      },
      "source": [
        "### for ... else ... \n",
        "You can also use else for for statements; python-specific syntax."
      ]
    },
    {
      "cell_type": "code",
      "execution_count": 5,
      "metadata": {
        "colab": {
          "base_uri": "https://localhost:8080/"
        },
        "id": "kh63TAfsOUps",
        "outputId": "3b23691d-f834-4529-d9c2-7dda07cfd250"
      },
      "outputs": [
        {
          "name": "stdout",
          "output_type": "stream",
          "text": [
            "0\n",
            "1\n",
            "2\n",
            "3\n",
            "4\n",
            "5\n",
            "6\n",
            "7\n",
            "8\n",
            "9\n",
            "end\n"
          ]
        }
      ],
      "source": [
        "for i in range(10):\n",
        "    print(i)\n",
        "else:\n",
        "    print('end')"
      ]
    },
    {
      "attachments": {},
      "cell_type": "markdown",
      "metadata": {
        "id": "VY3aPorfOUps"
      },
      "source": [
        "## Using in lists and dictionaries"
      ]
    },
    {
      "cell_type": "code",
      "execution_count": null,
      "metadata": {
        "id": "eJCm2al2OUps",
        "outputId": "c8211e0b-86b9-4234-88e4-40adadf24025"
      },
      "outputs": [
        {
          "name": "stdout",
          "output_type": "stream",
          "text": [
            "alice\n",
            "bob\n",
            "charles\n",
            "david\n",
            "elen\n",
            "foggy\n"
          ]
        }
      ],
      "source": [
        "# repetation by a list\n",
        "list = ['alice','bob','charles','david','elen','foggy']\n",
        "\n",
        "for name in list:\n",
        "    print(name)"
      ]
    },
    {
      "cell_type": "code",
      "execution_count": null,
      "metadata": {
        "id": "7XUyetTEOUps",
        "outputId": "e54e2d3c-9779-4a98-ff90-d2d3f2dfd769"
      },
      "outputs": [
        {
          "name": "stdout",
          "output_type": "stream",
          "text": [
            "alice 98\n",
            "bob 100\n",
            "charles 78\n"
          ]
        }
      ],
      "source": [
        "# repetation by a dictionary\n",
        "dic = {'alice':98,'bob':100,'charles':78}\n",
        "\n",
        "for item in dic:\n",
        "    print(item,dic[item])"
      ]
    },
    {
      "attachments": {},
      "cell_type": "markdown",
      "metadata": {
        "id": "tbp4kDMvOUps"
      },
      "source": [
        "## Multiple loops."
      ]
    },
    {
      "cell_type": "code",
      "execution_count": null,
      "metadata": {
        "id": "Qi3BCdwbOUps",
        "outputId": "c6fc1f2f-6443-4bd7-84ea-f21d2e0885c9",
        "scrolled": true
      },
      "outputs": [
        {
          "name": "stdout",
          "output_type": "stream",
          "text": [
            "  1   2   3   4   5   6   7   8   9 \n",
            "  2   4   6   8  10  12  14  16  18 \n",
            "  3   6   9  12  15  18  21  24  27 \n",
            "  4   8  12  16  20  24  28  32  36 \n",
            "  5  10  15  20  25  30  35  40  45 \n",
            "  6  12  18  24  30  36  42  48  54 \n",
            "  7  14  21  28  35  42  49  56  63 \n",
            "  8  16  24  32  40  48  56  64  72 \n",
            "  9  18  27  36  45  54  63  72  81 \n"
          ]
        }
      ],
      "source": [
        "# multiplication table\n",
        "for i in range(1,10):\n",
        "    for j in range(1,10):\n",
        "        print('{:3d}'.format(i*j),end=' ')\n",
        "    print()"
      ]
    },
    {
      "cell_type": "code",
      "execution_count": null,
      "metadata": {
        "id": "fsFVARg_OUps",
        "outputId": "4e3920b0-c45b-47c9-d1a2-0277b6a4f175"
      },
      "outputs": [
        {
          "name": "stdout",
          "output_type": "stream",
          "text": [
            "\n",
            "* \n",
            "* * \n",
            "* * * \n",
            "* * * * \n",
            "* * * * * \n",
            "* * * * * * \n",
            "* * * * * * * \n",
            "* * * * * * * * \n",
            "* * * * * * * * * \n"
          ]
        }
      ],
      "source": [
        "# Right Angle Triangle\n",
        "for i in range(10):\n",
        "    for j in range(10):\n",
        "        if i > j : \n",
        "            print('{:2s}'.format('*'),end='')\n",
        "    print()"
      ]
    },
    {
      "attachments": {},
      "cell_type": "markdown",
      "metadata": {
        "id": "74sQ1nTsOUpt"
      },
      "source": [
        "### How to use the format method"
      ]
    },
    {
      "cell_type": "code",
      "execution_count": 7,
      "metadata": {
        "colab": {
          "base_uri": "https://localhost:8080/"
        },
        "id": "Bg3fgwcyOUpt",
        "outputId": "75b89d5e-c8f9-42cb-cc3f-7966902ccc74"
      },
      "outputs": [
        {
          "name": "stdout",
          "output_type": "stream",
          "text": [
            "Ito-san! Today is sunny day. Have a nice day\n"
          ]
        }
      ],
      "source": [
        "s1 = \"{0}! Today is {1}. {2}\".format(\"Ito-san\",\"sunny day\",\"Have a nice day\")\n",
        "print(s1)"
      ]
    },
    {
      "cell_type": "code",
      "execution_count": 8,
      "metadata": {
        "colab": {
          "base_uri": "https://localhost:8080/"
        },
        "id": "CDJx7hmxOUpt",
        "outputId": "913ba982-2d08-4a31-a5ca-3722daa68479"
      },
      "outputs": [
        {
          "name": "stdout",
          "output_type": "stream",
          "text": [
            "Ito-san! Today is sunny day. Ito-san!Have a nice day\n"
          ]
        }
      ],
      "source": [
        "# Reuse the same sentence by the index\n",
        "s2 = \"{0}! Today is {1}. {0}!{2}\".format(\"Ito-san\",\"sunny day\",\"Have a nice day\")\n",
        "print(s2)"
      ]
    },
    {
      "cell_type": "code",
      "execution_count": 11,
      "metadata": {
        "colab": {
          "base_uri": "https://localhost:8080/"
        },
        "id": "e8ZAv6IAOUpt",
        "outputId": "41d12fcf-53fa-4f95-b4cb-c69a939a65ec"
      },
      "outputs": [
        {
          "name": "stdout",
          "output_type": "stream",
          "text": [
            "Ito-san! Today is sunny day. Have a nice day\n"
          ]
        }
      ],
      "source": [
        "# If there is no reuse, index numbers are omittable. \n",
        "s3 = \"{}! Today is {}. {}\".format(\"Ito-san\",\"sunny day\",\"Have a nice day\")\n",
        "print(s3)"
      ]
    },
    {
      "cell_type": "code",
      "execution_count": 12,
      "metadata": {
        "colab": {
          "base_uri": "https://localhost:8080/"
        },
        "id": "bRW-KLMQOUpt",
        "outputId": "c2a72580-a3ae-404f-c628-49ca150f0adb"
      },
      "outputs": [
        {
          "name": "stdout",
          "output_type": "stream",
          "text": [
            " My salary is 20,010,170.57 yen.\n"
          ]
        }
      ],
      "source": [
        "# Variable formats are possible \n",
        "s4 = \" My salary is {0:,.2f} yen.\".format(20010170.567)\n",
        "print(s4)"
      ]
    },
    {
      "attachments": {},
      "cell_type": "markdown",
      "metadata": {
        "id": "r5qnvQi-OUpt"
      },
      "source": [
        "For more information on the format, see https://docs.python.org/ja/3/library/string.html?highlight=str%20format or look it up on google as 'python format'."
      ]
    },
    {
      "cell_type": "code",
      "execution_count": null,
      "metadata": {
        "id": "AnnmMjOuOUpu"
      },
      "outputs": [],
      "source": []
    }
  ],
  "metadata": {
    "colab": {
      "collapsed_sections": [],
      "name": "IntroductionToProgramming5.ipynb",
      "provenance": []
    },
    "kernelspec": {
      "display_name": "Python 3",
      "language": "python",
      "name": "python3"
    },
    "language_info": {
      "codemirror_mode": {
        "name": "ipython",
        "version": 3
      },
      "file_extension": ".py",
      "mimetype": "text/x-python",
      "name": "python",
      "nbconvert_exporter": "python",
      "pygments_lexer": "ipython3",
      "version": "3.8.3"
    }
  },
  "nbformat": 4,
  "nbformat_minor": 0
}
