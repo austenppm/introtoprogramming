{
 "cells": [
  {
   "cell_type": "markdown",
   "metadata": {},
   "source": [
    "# 関数\n",
    "Pythonの「関数」とは、数学の関数に似て、「何らかの値を渡すと、その値に応じた何らかの値を返すもの」といえる。\n",
    "\n",
    "関数に渡す値（関数への入力値）のことを「引数(arguments)」と呼ぶ。\n",
    "\n",
    "そして、「関数に引数を渡して、関数のコードを実行し、その処理結果を得る」ことを「関数を呼び出す」「関数呼び出し」「関数の実行」などと呼ぶ。\n",
    "\n",
    "また、関数を呼び出したときに得られる結果（関数からの出力）のことを「戻り値」とか「返値」などという。\n",
    "\n",
    "リストの要素の総和を求める、ユークリッドの互除法で最大公約数を求める、データから機械学習モデルを訓練する、などのロジックに関数として名前をつけることで再利用が可能になる。\n",
    "\n",
    "pythonの関数は「defステートメント」で定義する。\n",
    "定義した関数の直後にコロン「：」をつける。\n",
    "関数は、処理結果を何らかのデータとして返すものである。"
   ]
  },
  {
   "cell_type": "code",
   "execution_count": 1,
   "metadata": {},
   "outputs": [],
   "source": [
    "#関数の定義\n",
    "#仮引数xに受け取った値を、二乗して返す。\n",
    "def double(x):\n",
    "    return x * x"
   ]
  },
  {
   "cell_type": "code",
   "execution_count": 3,
   "metadata": {},
   "outputs": [
    {
     "data": {
      "text/plain": [
       "9"
      ]
     },
     "execution_count": 3,
     "metadata": {},
     "output_type": "execute_result"
    }
   ],
   "source": [
    "#呼び出し\n",
    "#2を実引数という\n",
    "double(3)"
   ]
  },
  {
   "cell_type": "code",
   "execution_count": 4,
   "metadata": {},
   "outputs": [
    {
     "data": {
      "text/plain": [
       "9"
      ]
     },
     "execution_count": 4,
     "metadata": {},
     "output_type": "execute_result"
    }
   ],
   "source": [
    "# 戻り値を変数xに代入\n",
    "x = double(3)\n",
    "x"
   ]
  },
  {
   "cell_type": "code",
   "execution_count": 5,
   "metadata": {},
   "outputs": [],
   "source": [
    "# ストリング型を引数としてとる関数\n",
    "def hello(s):\n",
    "    return 'hello '+s"
   ]
  },
  {
   "cell_type": "code",
   "execution_count": 6,
   "metadata": {},
   "outputs": [
    {
     "name": "stdout",
     "output_type": "stream",
     "text": [
      "hello World\n"
     ]
    }
   ],
   "source": [
    "print(hello('World'))"
   ]
  },
  {
   "cell_type": "markdown",
   "metadata": {},
   "source": [
    "### デフォルトの引数\n",
    "関数引数にはデフォルト引数が使える。デフォルト引数以外を使う場合、引数として指定できる。"
   ]
  },
  {
   "cell_type": "markdown",
   "metadata": {},
   "source": [
    "デフォルト値として、msg='hello'が使われる例を以下に示す。"
   ]
  },
  {
   "cell_type": "code",
   "execution_count": 22,
   "metadata": {},
   "outputs": [],
   "source": [
    "def myPrint(msg = \"hello\"):\n",
    "    print(msg)"
   ]
  },
  {
   "cell_type": "code",
   "execution_count": 23,
   "metadata": {},
   "outputs": [
    {
     "name": "stdout",
     "output_type": "stream",
     "text": [
      "hello world\n"
     ]
    }
   ],
   "source": [
    "myPrint(\"hello world\")"
   ]
  },
  {
   "cell_type": "markdown",
   "metadata": {},
   "source": [
    "引数が与えられない場合、デフォルト値を返す。"
   ]
  },
  {
   "cell_type": "code",
   "execution_count": 24,
   "metadata": {},
   "outputs": [
    {
     "name": "stdout",
     "output_type": "stream",
     "text": [
      "hello\n"
     ]
    }
   ],
   "source": [
    "myPrint()"
   ]
  },
  {
   "cell_type": "markdown",
   "metadata": {},
   "source": [
    "デフォルト値として、a=0,b=0が使われる例を以下に示す。"
   ]
  },
  {
   "cell_type": "code",
   "execution_count": 8,
   "metadata": {},
   "outputs": [],
   "source": [
    "def myTimes(a = 0, b = 0):\n",
    "    return (a+1)*(b+1)"
   ]
  },
  {
   "cell_type": "code",
   "execution_count": 9,
   "metadata": {},
   "outputs": [
    {
     "data": {
      "text/plain": [
       "25"
      ]
     },
     "execution_count": 9,
     "metadata": {},
     "output_type": "execute_result"
    }
   ],
   "source": [
    "myTimes(4,4)"
   ]
  },
  {
   "cell_type": "markdown",
   "metadata": {},
   "source": [
    "片方の仮引数に実引数が与えられた場合、もう一方はデフォルト値を計算に用いる。"
   ]
  },
  {
   "cell_type": "code",
   "execution_count": 10,
   "metadata": {},
   "outputs": [
    {
     "data": {
      "text/plain": [
       "2"
      ]
     },
     "execution_count": 10,
     "metadata": {},
     "output_type": "execute_result"
    }
   ],
   "source": [
    "myTimes(a=1)\n"
   ]
  },
  {
   "cell_type": "code",
   "execution_count": 11,
   "metadata": {},
   "outputs": [
    {
     "data": {
      "text/plain": [
       "3"
      ]
     },
     "execution_count": 11,
     "metadata": {},
     "output_type": "execute_result"
    }
   ],
   "source": [
    "myTimes(b=2)\n"
   ]
  },
  {
   "cell_type": "markdown",
   "metadata": {},
   "source": [
    "## ポリモーフィズム (多態性: polymorphism)\n",
    "pythonでは、変数の型は、実行時にダイナミックに決まるため、挙動がさまざまに変わり得るコードを書くことができる。オブジェクト（値）の方によって式の挙動が変わることをポリモーフィズムと呼ぶ。"
   ]
  },
  {
   "cell_type": "code",
   "execution_count": 29,
   "metadata": {},
   "outputs": [],
   "source": [
    "#関数の定義\n",
    "def times(x,y):\n",
    "    return x * y # 「*」の意味は、xとyによって変わってくる"
   ]
  },
  {
   "cell_type": "code",
   "execution_count": 30,
   "metadata": {},
   "outputs": [
    {
     "data": {
      "text/plain": [
       "60"
      ]
     },
     "execution_count": 30,
     "metadata": {},
     "output_type": "execute_result"
    }
   ],
   "source": [
    "#戻り値（返値）を変数xに代入\n",
    "x = times(20,3)\n",
    "x"
   ]
  },
  {
   "cell_type": "code",
   "execution_count": 31,
   "metadata": {},
   "outputs": [
    {
     "data": {
      "text/plain": [
       "20"
      ]
     },
     "execution_count": 31,
     "metadata": {},
     "output_type": "execute_result"
    }
   ],
   "source": [
    "# 呼び出し\n",
    "times(10,2)"
   ]
  },
  {
   "cell_type": "code",
   "execution_count": 32,
   "metadata": {},
   "outputs": [
    {
     "data": {
      "text/plain": [
       "'Hello Hello Hello '"
      ]
     },
     "execution_count": 32,
     "metadata": {},
     "output_type": "execute_result"
    }
   ],
   "source": [
    "#型の違う値を入れる　Python特有の使い方　ポリモーフィズム\n",
    "times('Hello ',3)"
   ]
  },
  {
   "cell_type": "markdown",
   "metadata": {},
   "source": [
    "## 再帰関数(recursive function)\n",
    "自分で自分を呼び出す関数"
   ]
  },
  {
   "cell_type": "code",
   "execution_count": 12,
   "metadata": {},
   "outputs": [],
   "source": [
    "#階乗 : たとえば 3! -> 3 * 2! -> 3 * (2 * 1!) -> 3 * (2 * (1 * 0!)) -> 3 * (2 * (1 * 1)) = 6\n",
    "def factorial(n):\n",
    "    if n == 0:\n",
    "        return 1\n",
    "    else:\n",
    "        return n * factorial(n-1)"
   ]
  },
  {
   "cell_type": "code",
   "execution_count": 17,
   "metadata": {},
   "outputs": [
    {
     "data": {
      "text/plain": [
       "3628800"
      ]
     },
     "execution_count": 17,
     "metadata": {},
     "output_type": "execute_result"
    }
   ],
   "source": [
    "factorial(10)"
   ]
  },
  {
   "cell_type": "code",
   "execution_count": 19,
   "metadata": {},
   "outputs": [],
   "source": [
    "#フィボナッチ数\n",
    "def fib(n):\n",
    "    if n == 0 or n == 1:\n",
    "        return n\n",
    "    else:\n",
    "        return fib(n - 2) + fib(n - 1)"
   ]
  },
  {
   "cell_type": "code",
   "execution_count": 22,
   "metadata": {},
   "outputs": [
    {
     "data": {
      "text/plain": [
       "6765"
      ]
     },
     "execution_count": 22,
     "metadata": {},
     "output_type": "execute_result"
    }
   ],
   "source": [
    "fib(20)"
   ]
  },
  {
   "cell_type": "markdown",
   "metadata": {},
   "source": [
    "## 関数の例"
   ]
  },
  {
   "cell_type": "code",
   "execution_count": 23,
   "metadata": {},
   "outputs": [],
   "source": [
    "def intersect(s1,s2):\n",
    "    common = []\n",
    "    for x in s1:\n",
    "        if x in s2:\n",
    "            common.append(x)\n",
    "    return common"
   ]
  },
  {
   "cell_type": "code",
   "execution_count": 24,
   "metadata": {},
   "outputs": [
    {
     "data": {
      "text/plain": [
       "['T', 'A', 'K', 'A', 'Y', 'K', 'I']"
      ]
     },
     "execution_count": 24,
     "metadata": {},
     "output_type": "execute_result"
    }
   ],
   "source": [
    "intersect(\"TAKAYUKI\",\"TAKOYAKI\")"
   ]
  },
  {
   "cell_type": "code",
   "execution_count": 25,
   "metadata": {},
   "outputs": [
    {
     "data": {
      "text/plain": [
       "[3, 5]"
      ]
     },
     "execution_count": 25,
     "metadata": {},
     "output_type": "execute_result"
    }
   ],
   "source": [
    "intersect([1,3,5,7],[3,5,9,10]) # ポリモーフィズムを使っている\n",
    "#(注意）関数を作るとき必ずしもポリモーフィズムを意識する必要はない"
   ]
  },
  {
   "cell_type": "markdown",
   "metadata": {},
   "source": [
    "## スコープ\n",
    "スコープとは名前空間とも言われ、変数や関数の名前がどの「範囲」で有効かを定義するものである。Pythonには、グローバルスコープ（global scope）、ローカルスコープ（local scope）、ビルトインスコープ（build-in scope）、enclosing function(ネスト）スコープ（enclosing function scope）がある。Pythonのname spaceのルールはLEGBルールと呼ばれる。\n",
    "\n",
    "補助スライドのLEGBルールを参照すること。"
   ]
  },
  {
   "cell_type": "markdown",
   "metadata": {},
   "source": [
    "### global scopeとlocal scope"
   ]
  },
  {
   "cell_type": "code",
   "execution_count": 26,
   "metadata": {},
   "outputs": [
    {
     "name": "stdout",
     "output_type": "stream",
     "text": [
      "20\n",
      "100\n"
     ]
    }
   ],
   "source": [
    "#グローバルスコープ\n",
    "x = 100 # <- グローバルスコープ\n",
    "\n",
    "def func():\n",
    "    #ローカルスコープ\n",
    "    x = 20 # <- ローカルスコープ\n",
    "    print(x) # func関数のスコープにある変数x\n",
    "\n",
    "func()\n",
    "print(x) # グローバルスコープにある変数x"
   ]
  },
  {
   "cell_type": "code",
   "execution_count": 41,
   "metadata": {},
   "outputs": [],
   "source": [
    "#グローバルスコープ\n",
    "x = 100\n",
    "\n",
    "def func(y):\n",
    "    #ローカルスコープ\n",
    "    z = x + y\n",
    "    return z"
   ]
  },
  {
   "cell_type": "code",
   "execution_count": 42,
   "metadata": {},
   "outputs": [
    {
     "data": {
      "text/plain": [
       "102"
      ]
     },
     "execution_count": 42,
     "metadata": {},
     "output_type": "execute_result"
    }
   ],
   "source": [
    "func(2)"
   ]
  },
  {
   "cell_type": "markdown",
   "metadata": {},
   "source": [
    "上の例について\n",
    "\n",
    "- グローバル変数(名前): x, func\n",
    "- ローカル変数(名前):  y, z"
   ]
  },
  {
   "cell_type": "markdown",
   "metadata": {},
   "source": [
    "### グローバル宣言\n",
    "\n",
    "ローカルスコープなどで、globalで変数を宣言するとグローバルスコープでの変数（名前）となる"
   ]
  },
  {
   "cell_type": "code",
   "execution_count": 43,
   "metadata": {},
   "outputs": [
    {
     "name": "stdout",
     "output_type": "stream",
     "text": [
      "4\n",
      "1\n"
     ]
    }
   ],
   "source": [
    "x, y, z = 1, 1, 3 # グローバル変数\n",
    "\n",
    "def func_a():\n",
    "    x = y + z # <- ローカルスコープでの変数x\n",
    "    print(x)\n",
    "\n",
    "x = 1\n",
    "func_a()\n",
    "print(x)"
   ]
  },
  {
   "cell_type": "code",
   "execution_count": 44,
   "metadata": {},
   "outputs": [
    {
     "name": "stdout",
     "output_type": "stream",
     "text": [
      "4\n",
      "4\n"
     ]
    }
   ],
   "source": [
    "x, y, z = 1, 1, 3 # グローバル変数\n",
    "\n",
    "def func_a():\n",
    "    global x # このスコープでのxはグローバル変数\n",
    "    x = y + z\n",
    "    print(x)\n",
    "\n",
    "x = 1\n",
    "func_a()\n",
    "print(x)"
   ]
  },
  {
   "cell_type": "markdown",
   "metadata": {},
   "source": [
    "### ネストスコープ(enclosing function scope)"
   ]
  },
  {
   "cell_type": "code",
   "execution_count": 28,
   "metadata": {},
   "outputs": [
    {
     "name": "stdout",
     "output_type": "stream",
     "text": [
      "100\n"
     ]
    }
   ],
   "source": [
    "def func1():\n",
    "    x = 100\n",
    "    def func2():\n",
    "        print(x) # <- 変数xは、enclosing functionスコープ（ネストスコープ）。\n",
    "\n",
    "    func2()\n",
    "\n",
    "func1()"
   ]
  },
  {
   "cell_type": "markdown",
   "metadata": {},
   "source": [
    "【解説】defステートメントの中にdefステートメントをネストしている。内側のdefステートメントは、func1関数が「呼び出された時」（func1()が実行された時）に実行される。内側のdefステートメントの関数オブジェクトは、このときに作成されて変数func2に代入される。func1関数の中の変数はfunc1のローカルスコープに属する。func2関数は、外側のfunc1関数が実行されている間のみ存在し、その間のみ、かつ、func1の中でのみ利用できることになる。"
   ]
  },
  {
   "cell_type": "code",
   "execution_count": 17,
   "metadata": {},
   "outputs": [
    {
     "name": "stdout",
     "output_type": "stream",
     "text": [
      "99\n"
     ]
    }
   ],
   "source": [
    "def func1():\n",
    "    x = 99\n",
    "    def func2():\n",
    "        def func3():\n",
    "            def func4():\n",
    "                print(x) #->このxは、ネストして検索され、func1のxになる\n",
    "            func4()\n",
    "        func3()\n",
    "    func2()\n",
    "func1()"
   ]
  },
  {
   "cell_type": "code",
   "execution_count": 13,
   "metadata": {},
   "outputs": [
    {
     "name": "stdout",
     "output_type": "stream",
     "text": [
      "1000\n"
     ]
    }
   ],
   "source": [
    "#以下、クロージャに関係する内容になってい流ので、関数はオブジェクトの節を\n",
    "#やった後の方がわかりやすい\n",
    "def func1():\n",
    "    x = 1000\n",
    "    def func2():\n",
    "        print(x)\n",
    "    return func2\n",
    "\n",
    "# func1を呼び出すことで、func2関数オブジェクトが作成され、この関数オブジェクトを\n",
    "# 返値として獲得し、functionという変数に代入する\n",
    "function = func1() \n",
    "# この時点でfunc1は終わってなくなっているが、func2関数オブジェクトはfunctionに\n",
    "# 代入されている状態。変数xの情報もfunc2関数オブジェクトに入っている（closure）\n",
    "# \"func2 function object closes inromation of x\"-> closureの所以\n",
    "\n",
    "function()"
   ]
  },
  {
   "cell_type": "markdown",
   "metadata": {},
   "source": [
    "## non-local\n",
    "\n",
    "\n",
    "ネストスコープで使う、localスコープをenclosing function(ネスト)スコープにするもの"
   ]
  },
  {
   "cell_type": "code",
   "execution_count": 11,
   "metadata": {},
   "outputs": [
    {
     "name": "stdout",
     "output_type": "stream",
     "text": [
      "b:n= 1\n",
      "a:n= 2\n",
      "c:n= 1\n"
     ]
    }
   ],
   "source": [
    "def outer():\n",
    "    n = 1\n",
    "    def inner():\n",
    "        n = 2\n",
    "        print('a:n=',n)\n",
    "    print('b:n=',n)\n",
    "    inner()\n",
    "    print('c:n=',n)\n",
    "outer()"
   ]
  },
  {
   "cell_type": "code",
   "execution_count": 12,
   "metadata": {},
   "outputs": [
    {
     "name": "stdout",
     "output_type": "stream",
     "text": [
      "b:n= 1\n",
      "a:n= 2\n",
      "c:n= 2\n"
     ]
    }
   ],
   "source": [
    "def outer():\n",
    "    n = 1\n",
    "    def inner():\n",
    "        nonlocal n # このスコープのnは外側のnを表すことになる。\n",
    "        n = 2\n",
    "        print('a:n=',n)\n",
    "    print('b:n=',n)\n",
    "    inner()\n",
    "    print('c:n=',n)\n",
    "outer()"
   ]
  },
  {
   "cell_type": "markdown",
   "metadata": {},
   "source": [
    "↓ここから先は、プログラミング入門７に含まれる。\n",
    "\n",
    "## 関数はオブジェクト\n",
    "Pythonの関数はオブジェクトである。Pythonでは、整数や文字列、リスト、タプルなどのデータは全てオブジェクトである。第1章で整数や文字列、リスト、タプルなどのデータを変数に代入したのと同様に、関数は変数に代入することができる。"
   ]
  },
  {
   "cell_type": "markdown",
   "metadata": {},
   "source": [
    "オブジェクト志向プログラミング(Object Oriented Programming)：全てがオブジェクトであるとするプログラミングの方法論。詳しくは「オブジェクト指向」の回に解説する。"
   ]
  },
  {
   "cell_type": "code",
   "execution_count": 61,
   "metadata": {},
   "outputs": [
    {
     "data": {
      "text/plain": [
       "64"
      ]
     },
     "execution_count": 61,
     "metadata": {},
     "output_type": "execute_result"
    }
   ],
   "source": [
    "def triple(n):\n",
    "    return n * n * n\n",
    "\n",
    "x = triple\n",
    "x(4)"
   ]
  },
  {
   "cell_type": "markdown",
   "metadata": {},
   "source": [
    "関数の名前は変数と同じ"
   ]
  },
  {
   "cell_type": "code",
   "execution_count": 62,
   "metadata": {},
   "outputs": [
    {
     "name": "stdout",
     "output_type": "stream",
     "text": [
      "<function triple at 0x7fe4a046eee0>\n",
      "<function triple at 0x7fe4a046eee0>\n"
     ]
    }
   ],
   "source": [
    "print(triple) # 関数の名前は変数と同じ\n",
    "print(x) #　変数\n",
    "# 同じオブジェクトを指す"
   ]
  },
  {
   "cell_type": "markdown",
   "metadata": {},
   "source": [
    "引数に5を与え、関数fを呼び出す。"
   ]
  },
  {
   "cell_type": "code",
   "execution_count": 64,
   "metadata": {},
   "outputs": [
    {
     "data": {
      "text/plain": [
       "125"
      ]
     },
     "execution_count": 64,
     "metadata": {},
     "output_type": "execute_result"
    }
   ],
   "source": [
    "def input_five(func): # 引数に与えた関数（オブジェクト）に値５を引数として渡す\n",
    "    return func(5)\n",
    "input_five(x)"
   ]
  },
  {
   "cell_type": "markdown",
   "metadata": {},
   "source": [
    "### ファクトリ関数/クロージャ\n",
    "関数内関数を定義でき、かつ、関数がスコープを分けるという特徴を利用している"
   ]
  },
  {
   "cell_type": "code",
   "execution_count": 66,
   "metadata": {},
   "outputs": [
    {
     "data": {
      "text/plain": [
       "<function __main__.factory_func.<locals>.action_func(x)>"
      ]
     },
     "execution_count": 66,
     "metadata": {},
     "output_type": "execute_result"
    }
   ],
   "source": [
    "def factory_func(n):\n",
    "    def action_func(x):\n",
    "        return x**n\n",
    "    return action_func\n",
    "\n",
    "func = factory_func(2)\n",
    "func"
   ]
  },
  {
   "cell_type": "code",
   "execution_count": 67,
   "metadata": {},
   "outputs": [
    {
     "data": {
      "text/plain": [
       "9"
      ]
     },
     "execution_count": 67,
     "metadata": {},
     "output_type": "execute_result"
    }
   ],
   "source": [
    "func(3) # これは、factory_funcの中のaction_funcに3を渡すという意味になる"
   ]
  },
  {
   "cell_type": "code",
   "execution_count": 68,
   "metadata": {},
   "outputs": [
    {
     "data": {
      "text/plain": [
       "16"
      ]
     },
     "execution_count": 68,
     "metadata": {},
     "output_type": "execute_result"
    }
   ],
   "source": [
    "func(4)"
   ]
  },
  {
   "cell_type": "code",
   "execution_count": 77,
   "metadata": {},
   "outputs": [
    {
     "name": "stdout",
     "output_type": "stream",
     "text": [
      "3.14 by pi=3.14 and radius= 1\n",
      "12.56 by pi=3.14 and radius= 2\n"
     ]
    }
   ],
   "source": [
    "def generate_circle_area_func(the_pi): # outer function\n",
    "    def circle_area(radius): # inner function\n",
    "        return the_pi * radius ** 2\n",
    "    return circle_area\n",
    "\n",
    "circle_area1 = generate_circle_area_func(3.14)\n",
    "print(circle_area1(1),'by pi=3.14 and radius=',1)\n",
    "print(circle_area1(2),'by pi=3.14 and radius=',2)"
   ]
  },
  {
   "cell_type": "code",
   "execution_count": 78,
   "metadata": {},
   "outputs": [
    {
     "name": "stdout",
     "output_type": "stream",
     "text": [
      "3.1415926535 by pi=3.1415926535 and radius= 1\n",
      "12.566370614 by pi=3.1415926535 and radius= 2\n"
     ]
    }
   ],
   "source": [
    "circle_area2 = generate_circle_area_func(3.1415926535)\n",
    "print(circle_area2(1),'by pi=3.1415926535 and radius=',1)\n",
    "print(circle_area2(2),'by pi=3.1415926535 and radius=',2)"
   ]
  },
  {
   "cell_type": "markdown",
   "metadata": {},
   "source": [
    "##  Lambda式　　：名前を持たない関数\n"
   ]
  },
  {
   "cell_type": "markdown",
   "metadata": {},
   "source": [
    "引数xが与えられると、x*20を実行した値を返すLambda式を以下に示す。"
   ]
  },
  {
   "cell_type": "code",
   "execution_count": 1,
   "metadata": {},
   "outputs": [
    {
     "data": {
      "text/plain": [
       "100"
      ]
     },
     "execution_count": 1,
     "metadata": {},
     "output_type": "execute_result"
    }
   ],
   "source": [
    "input_five = lambda x: x * 20\n",
    "input_five(5)"
   ]
  },
  {
   "cell_type": "markdown",
   "metadata": {},
   "source": [
    "def文による関数定義と、それに相当するLabmda式での無名関数の対応関係は以下の通りである。\n",
    "\n",
    "lambda式が実行されると、戻り値（返値）として関数オブジェクトが得られ、変数に代入するかどうかは\n",
    "\n",
    "- defによる関数定義\n",
    "```\n",
    "def 名前(引数, 引数, ...):\n",
    "\n",
    "    return 式\n",
    "```\n",
    "\n",
    "- 上記と同等のlambda式\n",
    "\n",
    "```\n",
    "名前（の変数） = lambda 引数, 引数, ...: 式\n",
    "```\n",
    "\n",
    "\n",
    "\n",
    "lambda式はあくまでも「式」なので、文法的にdefステートメントが使えない箇所でもつかえる。たとえば、リストのリテラル、関数の呼び出しコードなどの中でも使える。"
   ]
  },
  {
   "cell_type": "markdown",
   "metadata": {},
   "source": [
    "（参考）labmda式に名前を割り当てると、Pythonのコーディング規約PEP8の自動チェックツールなどでWarningが出ることがある。PEP8は、コードを読みやすくするとともに、Pythonで書かれた幅広いコードのスタイルを一貫させることを目的とする規約である。PEP8の自動チェックツールでWarningが出た場合、可読性のために修正するのが好ましい。例えば今回のLambda関数に関しては、名前をつけて関数を定義する場合はdefを使うことが推奨される。"
   ]
  },
  {
   "cell_type": "code",
   "execution_count": 79,
   "metadata": {},
   "outputs": [
    {
     "data": {
      "text/plain": [
       "9"
      ]
     },
     "execution_count": 79,
     "metadata": {},
     "output_type": "execute_result"
    }
   ],
   "source": [
    "# defとlambdaの比較\n",
    "\n",
    "# defステートメントが必ず必要\n",
    "def func(x,y,z): return x + y + z\n",
    "func(2,3,4)"
   ]
  },
  {
   "cell_type": "code",
   "execution_count": 82,
   "metadata": {},
   "outputs": [
    {
     "data": {
      "text/plain": [
       "9"
      ]
     },
     "execution_count": 82,
     "metadata": {},
     "output_type": "execute_result"
    }
   ],
   "source": [
    "# 変数に代入すればdefと同様にできる\n",
    "f = lambda x,y,z: x+y+z\n",
    "f(2,3,4)\n",
    "# lambdaは必ずしも変数に代入しなくても、関数オブジェクトを生成できる"
   ]
  },
  {
   "cell_type": "code",
   "execution_count": 85,
   "metadata": {},
   "outputs": [],
   "source": [
    "#関数オブジェクトのリスト\n",
    "func_list = [(lambda x: x**2),(lambda x: x**3),(lambda x: x**4)]"
   ]
  },
  {
   "cell_type": "code",
   "execution_count": 86,
   "metadata": {},
   "outputs": [
    {
     "name": "stdout",
     "output_type": "stream",
     "text": [
      "4\n",
      "8\n",
      "16\n"
     ]
    }
   ],
   "source": [
    "for aFunc in func_list:\n",
    "    print(aFunc(2))"
   ]
  },
  {
   "cell_type": "code",
   "execution_count": 88,
   "metadata": {},
   "outputs": [
    {
     "data": {
      "text/plain": [
       "27"
      ]
     },
     "execution_count": 88,
     "metadata": {},
     "output_type": "execute_result"
    }
   ],
   "source": [
    "func_list[1](3) # 3 の 3乗"
   ]
  },
  {
   "cell_type": "code",
   "execution_count": 89,
   "metadata": {},
   "outputs": [
    {
     "data": {
      "text/plain": [
       "100"
      ]
     },
     "execution_count": 89,
     "metadata": {},
     "output_type": "execute_result"
    }
   ],
   "source": [
    "double = func_list[0]\n",
    "double(10)"
   ]
  },
  {
   "cell_type": "code",
   "execution_count": null,
   "metadata": {},
   "outputs": [],
   "source": []
  }
 ],
 "metadata": {
  "kernelspec": {
   "display_name": "Python 3",
   "language": "python",
   "name": "python3"
  },
  "language_info": {
   "codemirror_mode": {
    "name": "ipython",
    "version": 3
   },
   "file_extension": ".py",
   "mimetype": "text/x-python",
   "name": "python",
   "nbconvert_exporter": "python",
   "pygments_lexer": "ipython3",
   "version": "3.8.3"
  }
 },
 "nbformat": 4,
 "nbformat_minor": 4
}