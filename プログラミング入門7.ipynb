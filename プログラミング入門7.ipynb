{
  "cells": [
    {
      "cell_type": "markdown",
      "metadata": {
        "id": "gGO2w1RqNJ0S"
      },
      "source": [
        "## In Python, everything is an object.\n",
        "\n",
        "Everything in Python is made up of objects, because Python is designed according to a methodology called object-oriented programming.\n",
        "\n",
        "Object Oriented Programming: a programming methodology in which everything is an object. Details are explained in the 'Object Oriented' section."
      ]
    },
    {
      "cell_type": "markdown",
      "metadata": {
        "id": "0nVoHDkbNJ0T"
      },
      "source": [
        "## On dynamic typing\n",
        "\n",
        "A little bit internal story\n",
        "\n",
        "In Python, there is no such thing as declaring the types of variables and other types used in a programme. The types are determined automatically during programme execution. This is called 'dynamic typing', a property that is in large part responsible for Python's flexibility and the brevity of Python programmes. languages, which require variables to be pre-declared as types.\n",
        "\n",
        "For example, when executing 'x = 5', there is no need to declare the type of x upfront.\n",
        "\n",
        "If x=5 is executed, the following three steps are processed\n",
        "\n",
        "1. An object is created corresponding to the value 5.\n",
        "2. Variable x is created (not created if x already exists)\n",
        "3. Variable x and object 5 are linked."
      ]
    },
    {
      "cell_type": "code",
      "execution_count": null,
      "metadata": {
        "id": "GEbNoEV5NJ0U",
        "outputId": "9ca68ba8-062c-40a1-b5ba-b7f8ccc7af1e"
      },
      "outputs": [
        {
          "name": "stdout",
          "output_type": "stream",
          "text": [
            "4464548320\n",
            "4464548320\n"
          ]
        }
      ],
      "source": [
        "x = 5\n",
        "print(id(x)) # Function to see the id of an object.\n",
        "print(id(5)) "
      ]
    },
    {
      "cell_type": "markdown",
      "metadata": {
        "id": "LhMPisihNJ0V"
      },
      "source": [
        "Above, the object referred to by x and the object called 5 have the same id"
      ]
    },
    {
      "cell_type": "markdown",
      "metadata": {
        "id": "KoXRO4tBNJ0V"
      },
      "source": [
        "## The type information is held by the object, not the variable."
      ]
    },
    {
      "cell_type": "code",
      "execution_count": null,
      "metadata": {
        "id": "tFIEusZ1NJ0W",
        "outputId": "2c87cb43-596f-4bd2-869a-f2e08a97ccc3"
      },
      "outputs": [
        {
          "name": "stdout",
          "output_type": "stream",
          "text": [
            "<class 'int'>\n",
            "<class 'str'>\n",
            "<class 'float'>\n"
          ]
        }
      ],
      "source": [
        "x = 5\n",
        "print(type(x))\n",
        "x = 'hello'\n",
        "print(type(x))\n",
        "x = 1.23\n",
        "print(type(x))"
      ]
    },
    {
      "cell_type": "markdown",
      "metadata": {
        "id": "G0vlY-vbNJ0W"
      },
      "source": [
        "## Multable object and Immutable object\n",
        "\n",
        "- Immutable: number, string, tuple: value cannot be changed\n",
        "- Mutable (variable): lists, dictionaries, sets: values can be changed."
      ]
    },
    {
      "cell_type": "markdown",
      "metadata": {
        "id": "0klkB_8UNJ0Y"
      },
      "source": [
        "In Python, lists are mutable and can be changed."
      ]
    },
    {
      "cell_type": "code",
      "execution_count": null,
      "metadata": {
        "id": "rN0jTSnaNJ0Y",
        "outputId": "b8060cc3-1f01-40f5-f46d-74d17d1bd028"
      },
      "outputs": [
        {
          "name": "stdout",
          "output_type": "stream",
          "text": [
            "140201431800896\n",
            "140201431828224\n",
            "140201431800896\n",
            "140201431800320\n",
            "[3, 2]\n"
          ]
        }
      ],
      "source": [
        "x = [1,2]\n",
        "print(id(x))\n",
        "print(id([1,2]))\n",
        "x[0] = 3\n",
        "print(id(x))\n",
        "print(id([3,2]))\n",
        "print(x)"
      ]
    },
    {
      "cell_type": "markdown",
      "metadata": {
        "id": "a_5o1DgiNJ0Z"
      },
      "source": [
        "\n",
        "```\n",
        "x = [1,2]\n",
        "y = x\n",
        "y[0] = 3\n",
        "x = [3,2]\n",
        "```\n",
        "[1,2] can be changed, so it is changed by y[0] = 3"
      ]
    },
    {
      "cell_type": "markdown",
      "source": [
        "Tuple is immutable. Thus we can not change them."
      ],
      "metadata": {
        "id": "HgeHh2psNe2J"
      }
    },
    {
      "cell_type": "code",
      "source": [
        "x = (1,2)\n",
        "x[0] = 3 # error!"
      ],
      "metadata": {
        "colab": {
          "base_uri": "https://localhost:8080/",
          "height": 194
        },
        "id": "lKjeI0J2NaLB",
        "outputId": "5734afa6-f51a-4e8d-c1dd-986bc9703832"
      },
      "execution_count": 1,
      "outputs": [
        {
          "output_type": "error",
          "ename": "TypeError",
          "evalue": "ignored",
          "traceback": [
            "\u001b[0;31m---------------------------------------------------------------------------\u001b[0m",
            "\u001b[0;31mTypeError\u001b[0m                                 Traceback (most recent call last)",
            "\u001b[0;32m<ipython-input-1-39a2630ab0e2>\u001b[0m in \u001b[0;36m<module>\u001b[0;34m()\u001b[0m\n\u001b[1;32m      1\u001b[0m \u001b[0mx\u001b[0m \u001b[0;34m=\u001b[0m \u001b[0;34m(\u001b[0m\u001b[0;36m1\u001b[0m\u001b[0;34m,\u001b[0m\u001b[0;36m2\u001b[0m\u001b[0;34m)\u001b[0m\u001b[0;34m\u001b[0m\u001b[0;34m\u001b[0m\u001b[0m\n\u001b[0;32m----> 2\u001b[0;31m \u001b[0mx\u001b[0m\u001b[0;34m[\u001b[0m\u001b[0;36m0\u001b[0m\u001b[0;34m]\u001b[0m \u001b[0;34m=\u001b[0m \u001b[0;36m3\u001b[0m \u001b[0;31m# error!\u001b[0m\u001b[0;34m\u001b[0m\u001b[0;34m\u001b[0m\u001b[0m\n\u001b[0m",
            "\u001b[0;31mTypeError\u001b[0m: 'tuple' object does not support item assignment"
          ]
        }
      ]
    },
    {
      "cell_type": "markdown",
      "source": [
        "Python is reusing objects for small numbers (-5 to 256) and strings. These objects are identical. (Small Integer Cashing)"
      ],
      "metadata": {
        "id": "hhmpv1npOMmP"
      }
    },
    {
      "cell_type": "code",
      "source": [
        "x = 5\n",
        "print(id(x)) \n",
        "y = 5\n",
        "print(id(y))"
      ],
      "metadata": {
        "colab": {
          "base_uri": "https://localhost:8080/"
        },
        "id": "nq6QWWFTOgpW",
        "outputId": "c4df7a48-b443-47ec-ab34-be983c66f49e"
      },
      "execution_count": 2,
      "outputs": [
        {
          "output_type": "stream",
          "name": "stdout",
          "text": [
            "11256192\n",
            "11256192\n"
          ]
        }
      ]
    },
    {
      "cell_type": "code",
      "source": [
        "x = 'takayuki'\n",
        "print(id(x))\n",
        "y = 'takayuki'\n",
        "print(id(y))"
      ],
      "metadata": {
        "colab": {
          "base_uri": "https://localhost:8080/"
        },
        "id": "RnOV_txpOjbh",
        "outputId": "62bdde40-859b-4a86-d40c-077b32600b52"
      },
      "execution_count": 3,
      "outputs": [
        {
          "output_type": "stream",
          "name": "stdout",
          "text": [
            "140126243896816\n",
            "140126243896816\n"
          ]
        }
      ]
    },
    {
      "cell_type": "markdown",
      "metadata": {
        "id": "4OAErF4MNJ0Z"
      },
      "source": [
        "### equality identifier\n",
        "\n",
        "equal ->縲 ==縲構n",
        "physically equal ->縲景s縲 "
      ]
    },
    {
      "cell_type": "code",
      "execution_count": null,
      "metadata": {
        "id": "RtvPbuLxNJ0Z",
        "outputId": "8c65e187-ed0d-43ea-f76d-531a07c0d659"
      },
      "outputs": [
        {
          "name": "stdout",
          "output_type": "stream",
          "text": [
            "True\n",
            "4489320800\n",
            "4489320800\n"
          ]
        }
      ],
      "source": [
        "x = 1\n",
        "y = x\n",
        "print(x is y)\n",
        "print(id(x))\n",
        "print(id(y))"
      ]
    },
    {
      "cell_type": "code",
      "execution_count": null,
      "metadata": {
        "id": "ykeh_6BFNJ0a",
        "outputId": "02bf4c8d-326b-4efd-ba25-824c1d5d044a"
      },
      "outputs": [
        {
          "name": "stdout",
          "output_type": "stream",
          "text": [
            "False\n",
            "4489320800\n",
            "4489320864\n"
          ]
        }
      ],
      "source": [
        "x = 1\n",
        "y = 3\n",
        "print(x is y)\n",
        "print(id(x))\n",
        "print(id(y))"
      ]
    },
    {
      "cell_type": "code",
      "execution_count": null,
      "metadata": {
        "id": "xQdIKHSONJ0a",
        "outputId": "4649105e-35d9-44fd-c531-6558fc8fd6e6"
      },
      "outputs": [
        {
          "name": "stdout",
          "output_type": "stream",
          "text": [
            "True\n",
            "140440874713344\n",
            "140440874713344\n"
          ]
        }
      ],
      "source": [
        "x = [1,3]\n",
        "y = x\n",
        "print(x is y)\n",
        "print(id(x))\n",
        "print(id(y))"
      ]
    },
    {
      "cell_type": "code",
      "execution_count": null,
      "metadata": {
        "id": "HLW3BGToNJ0a",
        "outputId": "4319a54c-35b2-48ff-def6-7ac7356ee309"
      },
      "outputs": [
        {
          "name": "stdout",
          "output_type": "stream",
          "text": [
            "False\n",
            "140440874714048\n",
            "140440602407040\n"
          ]
        }
      ],
      "source": [
        "x = [1,3]\n",
        "y = [1,3]\n",
        "print(x is y)\n",
        "print(id(x)) # x 縺ｨ縲y 縺ｯ\n",
        "print(id(y)) # 逡ｰ縺ｪ繧 "
      ]
    },
    {
      "cell_type": "markdown",
      "metadata": {
        "id": "_lzM5QIpNJ0h"
      },
      "source": [
        "### Shared Reference"
      ]
    },
    {
      "cell_type": "code",
      "execution_count": null,
      "metadata": {
        "id": "lwyoNV3LNJ0h",
        "outputId": "2a7af786-ee3f-44bb-e79f-57660eed8871"
      },
      "outputs": [
        {
          "name": "stdout",
          "output_type": "stream",
          "text": [
            "True\n",
            "[3, 2]\n",
            "True\n",
            "False\n"
          ]
        }
      ],
      "source": [
        "x = [1,2]\n",
        "y = x\n",
        "print(x is y)\n",
        "y[0] = 3\n",
        "print(x)\n",
        "print(x is y)\n",
        "y = [1,2]\n",
        "print(x is y)"
      ]
    },
    {
      "cell_type": "markdown",
      "metadata": {
        "id": "7lmdAJ1SNJ0i"
      },
      "source": [
        "## Tuple"
      ]
    },
    {
      "cell_type": "code",
      "execution_count": null,
      "metadata": {
        "id": "M8_lLtLmNJ0i",
        "outputId": "fe61142d-8b30-4d74-ac53-2dfbbf626f9f"
      },
      "outputs": [
        {
          "name": "stdout",
          "output_type": "stream",
          "text": [
            "140573344239936\n",
            "140573344239936\n",
            "140573610701600\n",
            "False\n",
            "True\n"
          ]
        }
      ],
      "source": [
        "# Tuple is immutable\n",
        "x = (1,2)\n",
        "y = x\n",
        "print(id(x))\n",
        "print(id(y))\n",
        "y = (1,2)\n",
        "print(id(y)) # <-縲different (1,2)\n",
        "print(x is y) # <- Pyshical equality\n",
        "print(x == y) # <- Structural equality"
      ]
    },
    {
      "cell_type": "markdown",
      "metadata": {
        "id": "Nax-ZbYFNJ0i"
      },
      "source": [
        "## On multidimensional lists (arrays) and copying"
      ]
    },
    {
      "cell_type": "code",
      "execution_count": null,
      "metadata": {
        "id": "n1s85Wv9NJ0i",
        "outputId": "5191b18a-3613-428c-ab93-ae1a29741f68"
      },
      "outputs": [
        {
          "name": "stdout",
          "output_type": "stream",
          "text": [
            "[1, 2, 3]\n",
            "[4, 5, 6]\n",
            "1\n",
            "2\n",
            "3\n",
            "4\n",
            "5\n",
            "6\n"
          ]
        }
      ],
      "source": [
        "# x = [[1,2,3],[4,5,6]] # See slides for structure.\n",
        "print(x[0])\n",
        "print(x[1])\n",
        "print(x[0][0])\n",
        "print(x[0][1])\n",
        "print(x[0][2])\n",
        "print(x[1][0])\n",
        "print(x[1][1])\n",
        "print(x[1][2])"
      ]
    },
    {
      "cell_type": "code",
      "execution_count": null,
      "metadata": {
        "id": "If6C2YFSNJ0i",
        "outputId": "dcdb996e-b6e5-43e7-94ea-879d837dee00"
      },
      "outputs": [
        {
          "name": "stdout",
          "output_type": "stream",
          "text": [
            "[[1, 2, 3], [4, 5, 6]]\n",
            "140573610706176 140572808198976\n",
            "140573610750112 140573610750112\n"
          ]
        }
      ],
      "source": [
        "import copy\n",
        "#shalow copy\n",
        "x = [[1,2,3],[4,5,6]]\n",
        "y = copy.copy(x)\n",
        "print(y) \n",
        "print(id(x),id(y)) # Different in appearance but not copied in depth\n",
        "print(id(x[0]),id(y[0])) # Not copied in depth (see slides for structure)."
      ]
    },
    {
      "cell_type": "code",
      "execution_count": null,
      "metadata": {
        "id": "FUR_WJcwNJ0j",
        "outputId": "2d51b9cb-7313-4dd4-9bb7-b0e02f714dc4"
      },
      "outputs": [
        {
          "name": "stdout",
          "output_type": "stream",
          "text": [
            "[[1, 2, 3], [4, 5, 6]]\n",
            "140573610705776 140573610750352\n",
            "140572270227936 140572808194320\n"
          ]
        }
      ],
      "source": [
        "import copy\n",
        "#Deep copy\n",
        "x = [[1,2,3],[4,5,6]]\n",
        "y = copy.deepcopy(x)\n",
        "print(y)\n",
        "print(id(x),id(y))\n",
        "print(id(x[0]),id(y[0]))"
      ]
    },
    {
      "cell_type": "markdown",
      "metadata": {
        "id": "POzD-BD2NJ0j"
      },
      "source": [
        "\n",
        "## A function is an object\n",
        "Functions in Python are objects In Python, data such as integers, strings, lists and tuples are all objects. Functions can be assigned to variables in the same way that data such as integers, strings, lists and tuples were assigned to variables in Chapter 1."
      ]
    },
    {
      "cell_type": "code",
      "execution_count": null,
      "metadata": {
        "id": "uxoJIOghNJ0j",
        "outputId": "0218c096-2b1b-4553-a36d-0382838bca6b"
      },
      "outputs": [
        {
          "name": "stdout",
          "output_type": "stream",
          "text": [
            "64\n",
            "64\n"
          ]
        }
      ],
      "source": [
        "def triple(n):\n",
        "    return n * n * n\n",
        "\n",
        "print(triple(4))\n",
        "x = triple\n",
        "print(x(4))"
      ]
    },
    {
      "cell_type": "markdown",
      "metadata": {
        "id": "5A7npsx0NJ0j"
      },
      "source": [
        "Function names are the same as variables"
      ]
    },
    {
      "cell_type": "code",
      "execution_count": null,
      "metadata": {
        "id": "_o4tHyt0NJ0j",
        "outputId": "d05945ad-bba7-4dc9-86df-9be3fbe201c1"
      },
      "outputs": [
        {
          "name": "stdout",
          "output_type": "stream",
          "text": [
            "<function triple at 0x7ffc906a7160>\n",
            "<function triple at 0x7ffc906a7160>\n",
            "140722731381088\n",
            "140722731381088\n"
          ]
        }
      ],
      "source": [
        "print(triple) # Function names are the same as variables\n",
        "print(x) #縲Variable\n",
        "print(id(triple))\n",
        "print(id(x))\n",
        "# Pointing to the same object"
      ]
    },
    {
      "cell_type": "markdown",
      "metadata": {
        "id": "RNIN9t1ONJ0k"
      },
      "source": [
        "Give 5 as an argument and call function f."
      ]
    },
    {
      "cell_type": "code",
      "execution_count": null,
      "metadata": {
        "id": "pNKvdFjmNJ0k",
        "outputId": "2baa22f9-6e01-47d6-9763-6b027db0c3d1"
      },
      "outputs": [
        {
          "data": {
            "text/plain": [
              "125"
            ]
          },
          "execution_count": 5,
          "metadata": {},
          "output_type": "execute_result"
        }
      ],
      "source": [
        "def input_five(func): # Pass the value 5 as an argument to the function (object) given as an argument.\n",
        "    return func(5)\n",
        "\n",
        "input_five(triple)\n",
        "#input_five(x)"
      ]
    },
    {
      "cell_type": "markdown",
      "metadata": {
        "id": "sTVkIoIFNJ0k"
      },
      "source": [
        "### Factory functions/closures\n",
        "\n",
        "Create a function that creates a function.\n",
        "\n",
        "It allows intra-functional functions to be defined and takes advantage of the feature that functions have separate scopes."
      ]
    },
    {
      "cell_type": "code",
      "execution_count": null,
      "metadata": {
        "id": "HDvrD3mKNJ0k",
        "outputId": "2b11f7cc-f890-46a3-bbd6-3938df9bc00d"
      },
      "outputs": [
        {
          "data": {
            "text/plain": [
              "<function __main__.factory_func.<locals>.action_func(x)>"
            ]
          },
          "execution_count": 6,
          "metadata": {},
          "output_type": "execute_result"
        }
      ],
      "source": [
        "def factory_func(n):\n",
        "    def action_func(x):\n",
        "        return x**n\n",
        "    return action_func\n",
        "\n",
        "func = factory_func(5)\n",
        "func"
      ]
    },
    {
      "cell_type": "code",
      "execution_count": null,
      "metadata": {
        "id": "HyfLFY9LNJ0k",
        "outputId": "b2134a62-334c-42b3-93ec-43849aafd6cf"
      },
      "outputs": [
        {
          "data": {
            "text/plain": [
              "243"
            ]
          },
          "execution_count": 7,
          "metadata": {},
          "output_type": "execute_result"
        }
      ],
      "source": [
        "func(3) # This would mean passing 3 to action_func in factory_func"
      ]
    },
    {
      "cell_type": "code",
      "execution_count": null,
      "metadata": {
        "id": "E7eIqpIHNJ0k",
        "outputId": "9b51c232-c182-4254-d3c8-bb32b3603aff"
      },
      "outputs": [
        {
          "data": {
            "text/plain": [
              "1024"
            ]
          },
          "execution_count": 8,
          "metadata": {},
          "output_type": "execute_result"
        }
      ],
      "source": [
        "func(4)"
      ]
    },
    {
      "cell_type": "code",
      "execution_count": null,
      "metadata": {
        "id": "cLfIiSFiNJ0l",
        "outputId": "80ec3b66-1520-4895-c311-2902fed1aeb7"
      },
      "outputs": [
        {
          "name": "stdout",
          "output_type": "stream",
          "text": [
            "3.14 by pi=3.14 and radius= 1\n",
            "12.56 by pi=3.14 and radius= 2\n"
          ]
        }
      ],
      "source": [
        "def generate_circle_area_func(the_pi): # outer function\n",
        "    def circle_area(radius): # inner function\n",
        "        return the_pi * radius ** 2\n",
        "    return circle_area\n",
        "\n",
        "circle_area1 = generate_circle_area_func(3.14)\n",
        "print(circle_area1(1),'by pi=3.14 and radius=',1)\n",
        "print(circle_area1(2),'by pi=3.14 and radius=',2)"
      ]
    },
    {
      "cell_type": "code",
      "execution_count": null,
      "metadata": {
        "id": "vrsZnVu9NJ0l",
        "outputId": "555cabfb-eb48-4976-c64c-e9b6eb3f46df"
      },
      "outputs": [
        {
          "name": "stdout",
          "output_type": "stream",
          "text": [
            "3.1415926535 by pi=3.1415926535 and radius= 1\n",
            "12.566370614 by pi=3.1415926535 and radius= 2\n"
          ]
        }
      ],
      "source": [
        "circle_area2 = generate_circle_area_func(3.1415926535)\n",
        "print(circle_area2(1),'by pi=3.1415926535 and radius=',1)\n",
        "print(circle_area2(2),'by pi=3.1415926535 and radius=',2)"
      ]
    },
    {
      "cell_type": "markdown",
      "metadata": {
        "id": "TExO39WHNJ0l"
      },
      "source": [
        "##  Lambda expressions : functions without names (anonymous functions)\n",
        "Useful when you want to embed a very simple function in your program."
      ]
    },
    {
      "cell_type": "markdown",
      "metadata": {
        "id": "sPWQFwhvNJ0l"
      },
      "source": [
        "Given an argument x, a Lambda expression that returns the value of x*20 performed is shown below."
      ]
    },
    {
      "cell_type": "code",
      "execution_count": null,
      "metadata": {
        "id": "jmrvG_k0NJ0l",
        "outputId": "44b71e88-14c1-4a96-bf49-23117198ca6d"
      },
      "outputs": [
        {
          "data": {
            "text/plain": [
              "200"
            ]
          },
          "execution_count": 11,
          "metadata": {},
          "output_type": "execute_result"
        }
      ],
      "source": [
        "input_five = lambda x: x * 20\n",
        "input_five(10)"
      ]
    },
    {
      "cell_type": "markdown",
      "metadata": {
        "id": "g7YXihiENJ0l"
      },
      "source": [
        "The correspondence between the definition of a function by a def statement and the corresponding anonymous function in a Labmda expression is as follows.\n",
        "\n",
        "When a lambda expression is executed, a function object is obtained as the return value (return value), which can also be assigned to a variable.\n",
        "\n",
        "- Defininng a function by a def\n",
        "```\n",
        "def name(arg1, arg2, ...):\n",
        "\n",
        "    return statement\n",
        "```\n",
        "\n",
        "- The equivalent lambda expression\n",
        "\n",
        "```\n",
        "Function name (variable) = lambda arg1, arg2, ...: statement```\n",
        "\n",
        "\n",
        "\n",
        "Since a lambda expression is only an 'expression', it can be used in places where a def statement cannot be used syntactically. For example, they can be used in list literals, function call code, etc."
      ]
    },
    {
      "cell_type": "markdown",
      "metadata": {
        "id": "BsWNZ3l7NJ0m"
      },
      "source": [
        "(Reference) Assigning a name to a labmda expression may result in a Warning, e.g. with the Python coding convention PEP8 autocheck tool PEP8 is a convention that aims to make code more readable and to ensure a consistent style across a wide range of code written in Python. If a Warning is raised by the PEP8 auto-check tool, it is preferable to modify the code for readability. For example, for the Lambda function in this case, it is recommended to use def to define the function by name."
      ]
    },
    {
      "cell_type": "code",
      "execution_count": null,
      "metadata": {
        "id": "dc0z45trNJ0m",
        "outputId": "3c751df5-9729-42f1-840b-f23babc2e174"
      },
      "outputs": [
        {
          "data": {
            "text/plain": [
              "9"
            ]
          },
          "execution_count": 10,
          "metadata": {},
          "output_type": "execute_result"
        }
      ],
      "source": [
        "# Comparison on def and lambda\n",
        "\n",
        "# def statement\n",
        "def func(x,y,z): \n",
        "    return x + y + z\n",
        "\n",
        "func(2,3,4)"
      ]
    },
    {
      "cell_type": "code",
      "execution_count": null,
      "metadata": {
        "id": "RUlM3RgFNJ0m",
        "outputId": "425d5b5f-fe9a-4e0a-a69b-5d9d636c4839"
      },
      "outputs": [
        {
          "data": {
            "text/plain": [
              "9"
            ]
          },
          "execution_count": 82,
          "metadata": {},
          "output_type": "execute_result"
        }
      ],
      "source": [
        "# You can do the same as def if you assign it to a variable.\n",
        "f = lambda x,y,z: x+y+z\n",
        "f(2,3,4)\n",
        "# lambda can generate function objects without necessarily assigning them to variables"
      ]
    },
    {
      "cell_type": "code",
      "execution_count": null,
      "metadata": {
        "id": "-qVehIMmNJ0m"
      },
      "outputs": [],
      "source": [
        "#List of function objects\n",
        "func_list = [(lambda x: x**2),(lambda x: x**3),(lambda x: x**4)]"
      ]
    },
    {
      "cell_type": "code",
      "execution_count": null,
      "metadata": {
        "id": "t-QNk4FENJ0m",
        "outputId": "e369f5ea-cc9d-4e97-e836-f3a843358079"
      },
      "outputs": [
        {
          "name": "stdout",
          "output_type": "stream",
          "text": [
            "4\n",
            "8\n",
            "16\n"
          ]
        }
      ],
      "source": [
        "for aFunc in func_list:\n",
        "    print(aFunc(2))"
      ]
    },
    {
      "cell_type": "code",
      "execution_count": null,
      "metadata": {
        "id": "keFztAnnNJ0m",
        "outputId": "83573328-4cf8-42da-e2a8-9516f6d7c2a9"
      },
      "outputs": [
        {
          "data": {
            "text/plain": [
              "27"
            ]
          },
          "execution_count": 88,
          "metadata": {},
          "output_type": "execute_result"
        }
      ],
      "source": [
        "func_list[1](3) # Three squared of three."
      ]
    },
    {
      "cell_type": "code",
      "execution_count": null,
      "metadata": {
        "id": "aD3R-S-uNJ0n",
        "outputId": "a6792ebc-fb4a-4337-f352-d5983240ee9c"
      },
      "outputs": [
        {
          "data": {
            "text/plain": [
              "100"
            ]
          },
          "execution_count": 89,
          "metadata": {},
          "output_type": "execute_result"
        }
      ],
      "source": [
        "double = func_list[0]\n",
        "double(10)"
      ]
    },
    {
      "cell_type": "markdown",
      "metadata": {
        "id": "SGq1s0sfNJ0n"
      },
      "source": [
        "### Notes on lambda and nested scopes"
      ]
    },
    {
      "cell_type": "code",
      "execution_count": null,
      "metadata": {
        "id": "KiFVPmSLNJ0n",
        "outputId": "d95d0feb-dfdf-4349-e910-9afd1b7bbcd2"
      },
      "outputs": [
        {
          "name": "stdout",
          "output_type": "stream",
          "text": [
            "20\n"
          ]
        }
      ],
      "source": [
        "def function():\n",
        "    x = 10\n",
        "    action = (lambda n: x*n) \n",
        "    #x in the lambda function is referenced to x=4 above the nested scope \n",
        "    #because there is no x in the local scope\n",
        "    return action\n",
        "\n",
        "f = function()\n",
        "print(f(2))"
      ]
    },
    {
      "cell_type": "code",
      "execution_count": null,
      "metadata": {
        "id": "tLQuTUWVNJ0n",
        "outputId": "8c6ba01f-adb5-4267-f6ea-0886ec7e54c6"
      },
      "outputs": [
        {
          "name": "stdout",
          "output_type": "stream",
          "text": [
            "20\n"
          ]
        }
      ],
      "source": [
        "# Without nested scopes\n",
        "def function():\n",
        "    x = 10\n",
        "    action = (lambda n,x=x: x*n) \n",
        "    # Prepare x in the local scope in the lambda function\n",
        "    #  and assign x in the local scope of func\n",
        "    return action\n",
        "\n",
        "f = function()\n",
        "print(f(2))"
      ]
    },
    {
      "cell_type": "code",
      "execution_count": null,
      "metadata": {
        "id": "ChnUnn2ZNJ0n",
        "outputId": "f423b94f-21ef-48f5-a37b-361841084e86"
      },
      "outputs": [
        {
          "name": "stdout",
          "output_type": "stream",
          "text": [
            "10\n"
          ]
        }
      ],
      "source": [
        "def test(x=10):\n",
        "    print(x)\n",
        "\n",
        "test()"
      ]
    },
    {
      "cell_type": "code",
      "execution_count": null,
      "metadata": {
        "id": "G2MRkCRFNJ0n",
        "outputId": "ff0529bb-abff-4fa7-ad44-e196b1434fa5"
      },
      "outputs": [
        {
          "name": "stdout",
          "output_type": "stream",
          "text": [
            "<function makeLambdas.<locals>.<lambda> at 0x7fb1d847b160>\n"
          ]
        }
      ],
      "source": [
        "# Some examples of how things work differently than they are supposed to.\n",
        "def makeLambdas():\n",
        "    lambdas = []\n",
        "    for i in range(10):\n",
        "        lambdas.append(lambda x: i*x) # I want each i to change.\n",
        "        # -> It was supposed to be [(lambda x: i*x),(lambda x: i*x),(lambda x: i*x),...]\n",
        "    return lambdas\n",
        "\n",
        "lambdas = makeLambdas()\n",
        "print(lambdas[0])"
      ]
    },
    {
      "cell_type": "code",
      "execution_count": null,
      "metadata": {
        "id": "fKkjOIXMNJ0n",
        "outputId": "1b5ba0ee-05ec-448c-dc08-f19640d89a5a"
      },
      "outputs": [
        {
          "data": {
            "text/plain": [
              "900"
            ]
          },
          "execution_count": 8,
          "metadata": {},
          "output_type": "execute_result"
        }
      ],
      "source": [
        "lambdas[0](100)"
      ]
    },
    {
      "cell_type": "code",
      "execution_count": null,
      "metadata": {
        "id": "4emqD3--NJ0n",
        "outputId": "a6b62cde-91fa-4e5a-8941-bb1eb298ce24"
      },
      "outputs": [
        {
          "data": {
            "text/plain": [
              "900"
            ]
          },
          "execution_count": 9,
          "metadata": {},
          "output_type": "execute_result"
        }
      ],
      "source": [
        "lambdas[2](100)"
      ]
    },
    {
      "cell_type": "code",
      "execution_count": null,
      "metadata": {
        "id": "h_9Ya_2_NJ0o",
        "outputId": "dbff24ae-194e-4ea6-e5d6-280e0baa105f"
      },
      "outputs": [
        {
          "data": {
            "text/plain": [
              "900"
            ]
          },
          "execution_count": 10,
          "metadata": {},
          "output_type": "execute_result"
        }
      ],
      "source": [
        "lambdas[3](100)"
      ]
    },
    {
      "cell_type": "markdown",
      "metadata": {
        "id": "vm0bKQy6NJ0o"
      },
      "source": [
        "Explanation: i in lambda is referenced when it is called and the counter is at its maximum of 9."
      ]
    },
    {
      "cell_type": "code",
      "execution_count": null,
      "metadata": {
        "id": "NECCmtxNNJ0o",
        "outputId": "531565b6-32db-4ecf-e03b-08c2d5650dd8"
      },
      "outputs": [
        {
          "name": "stdout",
          "output_type": "stream",
          "text": [
            "<function makeLambdas.<locals>.<lambda> at 0x7ffc906a79d0>\n"
          ]
        }
      ],
      "source": [
        "# Some examples of how things work differently than they are supposed to.\n",
        "def makeLambdas():\n",
        "    lambdas = []\n",
        "    for i in range(10):\n",
        "        lambdas.append(lambda x,i=i: i*x) # I want each i to change.\n",
        "        # -> It was supposed to be [(lambda x: 0*x),(lambda x: 1*x),(lambda x: 2*x),...]\n",
        "    return lambdas\n",
        "\n",
        "lambdas = makeLambdas()\n",
        "print(lambdas[0])"
      ]
    },
    {
      "cell_type": "code",
      "execution_count": null,
      "metadata": {
        "id": "hPodj1wWNJ0o",
        "outputId": "54d7cb94-4bcc-4c0b-be15-c20a3ec86f1b"
      },
      "outputs": [
        {
          "data": {
            "text/plain": [
              "0"
            ]
          },
          "execution_count": 17,
          "metadata": {},
          "output_type": "execute_result"
        }
      ],
      "source": [
        "lambdas[0](100)"
      ]
    },
    {
      "cell_type": "code",
      "execution_count": null,
      "metadata": {
        "scrolled": true,
        "id": "sHomJ_K2NJ0o",
        "outputId": "429b3a80-5d08-4a21-c2e4-8da70efad61b"
      },
      "outputs": [
        {
          "data": {
            "text/plain": [
              "200"
            ]
          },
          "execution_count": 20,
          "metadata": {},
          "output_type": "execute_result"
        }
      ],
      "source": [
        "lambdas[2](100)"
      ]
    },
    {
      "cell_type": "markdown",
      "metadata": {
        "id": "mb-zuCJaNJ0o"
      },
      "source": [
        "## map function \n",
        "\n",
        "The same operation can be performed on individual elements, which is a common process in programs for lists, etc. It can also be done in a for loop, but the map function is more convenient."
      ]
    },
    {
      "cell_type": "code",
      "execution_count": null,
      "metadata": {
        "id": "r7Nt4Z1PNJ0o",
        "outputId": "1e5c3792-e810-47f5-c872-728070c336ad"
      },
      "outputs": [
        {
          "name": "stdout",
          "output_type": "stream",
          "text": [
            "<map object at 0x7ffcc0221640>\n",
            "1 2 3 4 5 6 7 8 9 10 "
          ]
        }
      ],
      "source": [
        "def increment(x):\n",
        "    return x + 1\n",
        "\n",
        "numbers = [0,1,2,3,4,5,6,7,8,9]\n",
        "\n",
        "x = map(increment,numbers) # Returns a map object. map object is an iterator object.\n",
        "print(x)\n",
        "\n",
        "for i in x:\n",
        "    print(i,end=\" \")"
      ]
    },
    {
      "cell_type": "code",
      "execution_count": null,
      "metadata": {
        "id": "T0GqFyc6NJ0o",
        "outputId": "f4f8a6a6-bbf5-40e8-c22a-7caec51494b7"
      },
      "outputs": [
        {
          "data": {
            "text/plain": [
              "32"
            ]
          },
          "execution_count": 23,
          "metadata": {},
          "output_type": "execute_result"
        }
      ],
      "source": [
        "pow(2,5) # Functions for finding the power of a number"
      ]
    },
    {
      "cell_type": "code",
      "execution_count": null,
      "metadata": {
        "id": "nT1Sar3mNJ0p",
        "outputId": "dd639b16-9849-4d7e-9ca6-a5a34b3df81e"
      },
      "outputs": [
        {
          "data": {
            "text/plain": [
              "[1, 4, 27, 256, 3125]"
            ]
          },
          "execution_count": 35,
          "metadata": {},
          "output_type": "execute_result"
        }
      ],
      "source": [
        "list(map(pow,[1,2,3,4,5],[1,2,3,4,5]))"
      ]
    },
    {
      "cell_type": "code",
      "execution_count": null,
      "metadata": {
        "id": "0SxNV-H4NJ0p",
        "outputId": "165d4ec7-0373-4f6b-ac40-ceef2b8dbf24"
      },
      "outputs": [
        {
          "data": {
            "text/plain": [
              "[0, 1, 4, 9, 16]"
            ]
          },
          "execution_count": 43,
          "metadata": {},
          "output_type": "execute_result"
        }
      ],
      "source": [
        "list(map(pow,range(0,5),[2,2,2,2,2]))"
      ]
    },
    {
      "cell_type": "markdown",
      "metadata": {
        "id": "VOwpsF5ZNJ0p"
      },
      "source": [
        "## filter function"
      ]
    },
    {
      "cell_type": "code",
      "execution_count": null,
      "metadata": {
        "id": "uoKaIwOKNJ0p",
        "outputId": "96520e2d-16b8-49f9-db9c-1d0fa53d08a8"
      },
      "outputs": [
        {
          "name": "stdout",
          "output_type": "stream",
          "text": [
            "1 3 5 7 9 "
          ]
        }
      ],
      "source": [
        "x = filter((lambda x: x % 2 == 1), [0,1,2,3,4,5,6,7,8,9]) # filter繧ｪ繝悶ず繧ｧ繧ｯ繝医 繧､繝 Ξ繝ｼ繧ｿ繧ｪ繝悶ず繧ｧ繧ｯ繝 \n",
        "for i in x:\n",
        "    print(i,end=' ')"
      ]
    },
    {
      "cell_type": "markdown",
      "metadata": {
        "id": "EOLg8sc7NJ0p"
      },
      "source": [
        "## reduce function\n",
        "From python 3 and above, it is included in a library called functools"
      ]
    },
    {
      "cell_type": "code",
      "execution_count": null,
      "metadata": {
        "id": "3KcxbXoMNJ0p",
        "outputId": "a83ca6d7-91eb-4140-b628-733603178191"
      },
      "outputs": [
        {
          "data": {
            "text/plain": [
              "55"
            ]
          },
          "execution_count": 69,
          "metadata": {},
          "output_type": "execute_result"
        }
      ],
      "source": [
        "from functools import reduce\n",
        "reduce((lambda x,y:x+y),[1,2,3,4,5,6,7,8,9,10]) # Add the given lists together from the first two."
      ]
    },
    {
      "cell_type": "code",
      "execution_count": null,
      "metadata": {
        "id": "0L1U0fK6NJ0p",
        "outputId": "4436ee1b-c95f-4c7d-baa8-1c9cc0d7278a"
      },
      "outputs": [
        {
          "data": {
            "text/plain": [
              "3628800"
            ]
          },
          "execution_count": 25,
          "metadata": {},
          "output_type": "execute_result"
        }
      ],
      "source": [
        "from functools import reduce\n",
        "reduce((lambda x,y:x*y),[1,2,3,4,5,6,7,8,9,10])"
      ]
    },
    {
      "cell_type": "markdown",
      "metadata": {
        "id": "jDxa5bQINJ0p"
      },
      "source": [
        "# list comprehensions\n",
        "The need to take some elements out of a list, or to reconfigure it into another list with changing values, frequently arises; in Python this is represented by list comprehensions.\n",
        "\n",
        "List comprehensions can be used to shorten the code, but they can also be obfuscated"
      ]
    },
    {
      "cell_type": "markdown",
      "metadata": {
        "id": "-SOOIj0kNJ0p"
      },
      "source": [
        "Give the list one_to_ten the values 0~9 as elements, starting from 0, using the for statement iteration process."
      ]
    },
    {
      "cell_type": "code",
      "execution_count": null,
      "metadata": {
        "id": "YujPL4PTNJ0q",
        "outputId": "16ed14e7-3286-4bb3-d96c-085661e216b8"
      },
      "outputs": [
        {
          "data": {
            "text/plain": [
              "[0, 1, 2, 3, 4, 5, 6, 7, 8, 9]"
            ]
          },
          "execution_count": 28,
          "metadata": {},
          "output_type": "execute_result"
        }
      ],
      "source": [
        "one_to_nine = [0,1,2,3,4,5,6,7,8,9]\n",
        "one_to_nine"
      ]
    },
    {
      "cell_type": "code",
      "execution_count": null,
      "metadata": {
        "id": "senctKqHNJ0q",
        "outputId": "aac35496-8302-4d5e-c0b2-882bc037e01c"
      },
      "outputs": [
        {
          "data": {
            "text/plain": [
              "[0, 1, 2, 3, 4, 5, 6, 7, 8, 9]"
            ]
          },
          "execution_count": 29,
          "metadata": {},
          "output_type": "execute_result"
        }
      ],
      "source": [
        "one_to_nine = list(range(10))\n",
        "one_to_nine"
      ]
    },
    {
      "cell_type": "code",
      "execution_count": null,
      "metadata": {
        "id": "ZTr9bhNCNJ0q"
      },
      "outputs": [],
      "source": [
        "one_to_nine =[y for y in range(10)]"
      ]
    },
    {
      "cell_type": "code",
      "execution_count": null,
      "metadata": {
        "id": "TRToDPEhNJ0q",
        "outputId": "b24a6b09-28a8-4e65-ea53-de893c788a26"
      },
      "outputs": [
        {
          "data": {
            "text/plain": [
              "[0, 1, 2, 3, 4, 5, 6, 7, 8, 9]"
            ]
          },
          "execution_count": 31,
          "metadata": {},
          "output_type": "execute_result"
        }
      ],
      "source": [
        "one_to_nine"
      ]
    },
    {
      "cell_type": "markdown",
      "metadata": {
        "id": "XH_ppRPnNJ0q"
      },
      "source": [
        "Generates a list with only even numbers as elements, with an if statement for conditional judgement and a for statement for iterative processing."
      ]
    },
    {
      "cell_type": "code",
      "execution_count": null,
      "metadata": {
        "id": "B2HAC6UUNJ0q"
      },
      "outputs": [],
      "source": [
        "even_numbers = [x for x in range(10) if x % 2 == 0 ]"
      ]
    },
    {
      "cell_type": "code",
      "execution_count": null,
      "metadata": {
        "id": "kDJxud59NJ0q",
        "outputId": "331241cd-5898-4937-ebc3-30b5bfad9c52"
      },
      "outputs": [
        {
          "data": {
            "text/plain": [
              "[0, 2, 4, 6, 8]"
            ]
          },
          "execution_count": 73,
          "metadata": {},
          "output_type": "execute_result"
        }
      ],
      "source": [
        "even_numbers"
      ]
    },
    {
      "cell_type": "markdown",
      "metadata": {
        "id": "s6xUi5IpNJ0q"
      },
      "source": [
        "Generates a dictionary with keys 0-9 and corresponding x as an element.\n",
        "See bottom for dictionary inclusive expressions"
      ]
    },
    {
      "cell_type": "code",
      "execution_count": null,
      "metadata": {
        "id": "_XSTyKp-NJ0q"
      },
      "outputs": [],
      "source": [
        "aDict = { x: x*x for x in range(10)}"
      ]
    },
    {
      "cell_type": "code",
      "execution_count": null,
      "metadata": {
        "id": "EAnF28SeNJ0r",
        "outputId": "83db0d16-974e-4640-a493-64a6b4f44aec"
      },
      "outputs": [
        {
          "data": {
            "text/plain": [
              "{0: 0, 1: 1, 2: 4, 3: 9, 4: 16, 5: 25, 6: 36, 7: 49, 8: 64, 9: 81}"
            ]
          },
          "execution_count": 2,
          "metadata": {},
          "output_type": "execute_result"
        }
      ],
      "source": [
        "aDict"
      ]
    },
    {
      "cell_type": "markdown",
      "metadata": {
        "id": "u0tFzAP5NJ0r"
      },
      "source": [
        "The list is used as a data structure and the set is generated by an iterative process."
      ]
    },
    {
      "cell_type": "code",
      "execution_count": null,
      "metadata": {
        "id": "qHJfAM__NJ0r"
      },
      "outputs": [],
      "source": [
        "aSet = {x for x in [1,2,3,-1,2,4,1]}"
      ]
    },
    {
      "cell_type": "code",
      "execution_count": null,
      "metadata": {
        "id": "S2U9Fhf6NJ0r",
        "outputId": "40142a07-a505-40a5-8d80-7c4c92774d55"
      },
      "outputs": [
        {
          "data": {
            "text/plain": [
              "{-1, 1, 2, 3, 4}"
            ]
          },
          "execution_count": 77,
          "metadata": {},
          "output_type": "execute_result"
        }
      ],
      "source": [
        "aSet"
      ]
    },
    {
      "cell_type": "markdown",
      "metadata": {
        "id": "qiMzC-w3NJ0r"
      },
      "source": [
        "The process is repeated in the range 0 竕､ x < 10 and 0 竕､ y < 10.\n",
        "\n",
        "for x in range(10):\n",
        "\n",
        "    for y in renge(10)\n",
        "    \n",
        "    return x,y\n",
        "The above is a nested structure."
      ]
    },
    {
      "cell_type": "code",
      "execution_count": null,
      "metadata": {
        "id": "WzbRI1FZNJ0r"
      },
      "outputs": [],
      "source": [
        "num_num = [(x,y) for x in range(3) for y in range(3)]"
      ]
    },
    {
      "cell_type": "code",
      "execution_count": null,
      "metadata": {
        "id": "bqCEcRWONJ0r",
        "outputId": "ac3a0aaa-db5d-4582-d182-ff41b97c7051"
      },
      "outputs": [
        {
          "data": {
            "text/plain": [
              "[(0, 0), (0, 1), (0, 2), (1, 0), (1, 1), (1, 2), (2, 0), (2, 1), (2, 2)]"
            ]
          },
          "execution_count": 82,
          "metadata": {},
          "output_type": "execute_result"
        }
      ],
      "source": [
        "num_num"
      ]
    },
    {
      "cell_type": "markdown",
      "metadata": {
        "id": "UiodlQXUNJ0r"
      },
      "source": [
        "The process is repeated in the range 0竕､x<3 and x+1竕､y<10.\n",
        "\n",
        "for x in range(10):\n",
        "\n",
        "    for y in range(x+1,10 噂n",
        "    \n",
        "    return x,y\n",
        "is a nested structure."
      ]
    },
    {
      "cell_type": "code",
      "execution_count": null,
      "metadata": {
        "id": "nExN8L8ENJ0r"
      },
      "outputs": [],
      "source": [
        "aNumNum = [(x,y) for x in range(3) for y in range(x+1,3)]"
      ]
    },
    {
      "cell_type": "code",
      "execution_count": null,
      "metadata": {
        "id": "3rcaWeSxNJ0r",
        "outputId": "02224194-ac1c-40fa-e22e-56cd8ad95fa1"
      },
      "outputs": [
        {
          "data": {
            "text/plain": [
              "[(0, 1), (0, 2), (1, 2)]"
            ]
          },
          "execution_count": 68,
          "metadata": {},
          "output_type": "execute_result"
        }
      ],
      "source": [
        "aNumNum"
      ]
    },
    {
      "cell_type": "markdown",
      "metadata": {
        "id": "5_SUfkEhNJ0s"
      },
      "source": [
        "## Generator function\n",
        "### yeild function\n",
        "The Generator iterates (as it usually does with for), but the values are generated only as much as is needed (delayed).\n",
        "\n",
        "A function that returns some value once, and after a while, restarts processing from that point.\n",
        "\n",
        "Unlike normal functions, which return a value and exit, the Generator function 'pauses' execution. During the pause, information such as \"what was the status at the time of the pause\" and \"how far the process has progressed\", in other words \"state information\", is retained. Execution is then resumed from the state at the time of the last stop.\n",
        "\n",
        "With Generator, there is no need to prepare all the values needed for the process in advance.\n",
        "\n",
        "State information contains all the values of variables in the local scope. These values are used when resuming execution.\n",
        "\n",
        "(Important) The most significant difference between Generator functions and ordinary functions is that they use yield instead of return to pass values: return terminates the execution of the function and returns a value (return); yield pauses the execution of the function, generates some value/object and passes it (yield).   When yield is invoked, the function pauses processing rather than terminating it. At this time, state information is retained as described above, so that processing can be resumed later from the point at which it was paused.\n",
        "\n",
        "This means that a number of values can be passed from the same function over a long period of time. It is possible to create mechanisms that allow huge amounts of data to be allocated in memory and processed as required. For example, when passing a list to the caller, it is not necessary to create the whole list at once, but the elements that make up the list can be called little by little and passed to the caller.\n",
        "\n",
        "Functions containing YIELD are handled differently from normal functions. When called, they return a generator object that supports the iterator protocol (the protocol is the template that the object with it should follow). Objects that support the iterator protocol always have a method (function) called __next__(). The method __next__() is a method that returns the next object to be processed in the loop. (In Python 2.0, next())\n",
        "\n",
        "Objects that support the iterator protocol can be used in a for loop without modification."
      ]
    },
    {
      "cell_type": "markdown",
      "metadata": {
        "id": "J_kYk4QxNJ0s"
      },
      "source": [
        "## An example of Generator"
      ]
    },
    {
      "cell_type": "code",
      "execution_count": null,
      "metadata": {
        "id": "C-ToolWTNJ0s"
      },
      "outputs": [],
      "source": [
        "## How to use yield functions\n",
        "def aFunc():\n",
        "    yield 'Hello1' \n",
        "    yield 'Hello2'\n",
        "    yield 'Hello3'"
      ]
    },
    {
      "cell_type": "code",
      "execution_count": null,
      "metadata": {
        "id": "pFUMHHf9NJ0s",
        "outputId": "93b5a764-1944-4370-b0f0-fb6706d06e25"
      },
      "outputs": [
        {
          "name": "stdout",
          "output_type": "stream",
          "text": [
            "Hello1\n",
            "Hello2\n",
            "Hello3\n"
          ]
        }
      ],
      "source": [
        "for x in aFunc():\n",
        "    print(x)"
      ]
    },
    {
      "cell_type": "markdown",
      "metadata": {
        "id": "Cm63DStzNJ0s"
      },
      "source": [
        "If you put yield in the function, it returns a generator object."
      ]
    },
    {
      "cell_type": "code",
      "execution_count": null,
      "metadata": {
        "id": "x8l8SRAANJ0s",
        "outputId": "893f3083-f3de-4262-880f-f6b9650bf764"
      },
      "outputs": [
        {
          "data": {
            "text/plain": [
              "<generator object aFunc at 0x7fae606f0510>"
            ]
          },
          "execution_count": 9,
          "metadata": {},
          "output_type": "execute_result"
        }
      ],
      "source": [
        "aFunc() "
      ]
    },
    {
      "cell_type": "code",
      "execution_count": null,
      "metadata": {
        "id": "kv3OiF_mNJ0s",
        "outputId": "c62a6f06-8f29-454c-a025-54c79fbe6639"
      },
      "outputs": [
        {
          "data": {
            "text/plain": [
              "range(0, 10)"
            ]
          },
          "execution_count": 10,
          "metadata": {},
          "output_type": "execute_result"
        }
      ],
      "source": [
        "#standard range\n",
        "range(10)"
      ]
    },
    {
      "cell_type": "markdown",
      "metadata": {
        "id": "ancY50YWNJ0s"
      },
      "source": [
        "The range of delayed evaluation versions is shown below.\n",
        "\n",
        "By inserting YIELD, it is a Generator object."
      ]
    },
    {
      "cell_type": "code",
      "execution_count": null,
      "metadata": {
        "id": "x3W2tYo1NJ0t"
      },
      "outputs": [],
      "source": [
        "def delayed_range(n):\n",
        "    i = 0\n",
        "    while i < n:\n",
        "        yield i\n",
        "        i += 1"
      ]
    },
    {
      "cell_type": "markdown",
      "metadata": {
        "id": "OWyMAq8HNJ0t"
      },
      "source": [
        "The yield (created) values are taken out one by one and repeated until there are no more."
      ]
    },
    {
      "cell_type": "code",
      "execution_count": null,
      "metadata": {
        "id": "hlr3SKsuNJ0t",
        "outputId": "bc2fbced-2361-42b9-afa2-812a929d7cd1"
      },
      "outputs": [
        {
          "name": "stdout",
          "output_type": "stream",
          "text": [
            "0 1 2 3 4 5 6 7 8 9 "
          ]
        }
      ],
      "source": [
        "for i in delayed_range(10):\n",
        "    print(i,end=' ')"
      ]
    },
    {
      "cell_type": "markdown",
      "metadata": {
        "id": "lp5-31hRNJ0t"
      },
      "source": [
        "## Generator to calculate cubes."
      ]
    },
    {
      "cell_type": "code",
      "execution_count": null,
      "metadata": {
        "id": "J7vy8f4xNJ0t"
      },
      "outputs": [],
      "source": [
        "def gentriples(n):\n",
        "    for i in range(n):\n",
        "        yield i ** 3"
      ]
    },
    {
      "cell_type": "code",
      "execution_count": null,
      "metadata": {
        "id": "mZkF4wK9NJ0t",
        "outputId": "425c0ec9-fea3-4df8-c589-3048cd11be69"
      },
      "outputs": [
        {
          "name": "stdout",
          "output_type": "stream",
          "text": [
            "0 1 8 27 64 125 216 343 512 729 "
          ]
        }
      ],
      "source": [
        "for i in gentriples(10):\n",
        "    print(i,end=' ')"
      ]
    },
    {
      "cell_type": "code",
      "execution_count": null,
      "metadata": {
        "id": "4-vIsFbUNJ0t"
      },
      "outputs": [],
      "source": [
        "x = gentriples(10)"
      ]
    },
    {
      "cell_type": "code",
      "execution_count": null,
      "metadata": {
        "id": "YXypS3f2NJ0t",
        "outputId": "46d736c9-dd15-40be-efc1-b33ab773d17a"
      },
      "outputs": [
        {
          "data": {
            "text/plain": [
              "<generator object gentriples at 0x7fd9c847e050>"
            ]
          },
          "execution_count": 124,
          "metadata": {},
          "output_type": "execute_result"
        }
      ],
      "source": [
        "x"
      ]
    },
    {
      "cell_type": "code",
      "execution_count": null,
      "metadata": {
        "id": "jaSbyVrSNJ0t",
        "outputId": "300dc6fd-896b-4b28-95fc-eb68e69e06b9"
      },
      "outputs": [
        {
          "data": {
            "text/plain": [
              "0"
            ]
          },
          "execution_count": 125,
          "metadata": {},
          "output_type": "execute_result"
        }
      ],
      "source": [
        "x.__next__()"
      ]
    },
    {
      "cell_type": "code",
      "execution_count": null,
      "metadata": {
        "id": "pyAH4ZD2NJ0t",
        "outputId": "132fa12c-313a-4caa-cab8-5f9858b2404b"
      },
      "outputs": [
        {
          "data": {
            "text/plain": [
              "1"
            ]
          },
          "execution_count": 126,
          "metadata": {},
          "output_type": "execute_result"
        }
      ],
      "source": [
        "x.__next__()"
      ]
    },
    {
      "cell_type": "code",
      "execution_count": null,
      "metadata": {
        "id": "toQKOTBzNJ0u",
        "outputId": "a0ee8aa2-2674-4ef4-d587-584bca2c7228"
      },
      "outputs": [
        {
          "data": {
            "text/plain": [
              "8"
            ]
          },
          "execution_count": 127,
          "metadata": {},
          "output_type": "execute_result"
        }
      ],
      "source": [
        "x.__next__()"
      ]
    },
    {
      "cell_type": "code",
      "execution_count": null,
      "metadata": {
        "id": "YVjvZzJkNJ0u",
        "outputId": "44e71404-9159-4fdf-e001-55620840f506"
      },
      "outputs": [
        {
          "data": {
            "text/plain": [
              "27"
            ]
          },
          "execution_count": 128,
          "metadata": {},
          "output_type": "execute_result"
        }
      ],
      "source": [
        "x.__next__()"
      ]
    },
    {
      "cell_type": "code",
      "execution_count": null,
      "metadata": {
        "id": "EIwbN2F4NJ0u"
      },
      "outputs": [],
      "source": [
        "x = gentriples(100)"
      ]
    },
    {
      "cell_type": "code",
      "execution_count": null,
      "metadata": {
        "id": "zkxXyVoONJ0u",
        "outputId": "c7cd71f5-a4d3-46a8-b5c2-e5bb16a23021"
      },
      "outputs": [
        {
          "data": {
            "text/plain": [
              "0"
            ]
          },
          "execution_count": 132,
          "metadata": {},
          "output_type": "execute_result"
        }
      ],
      "source": [
        "next(x)"
      ]
    },
    {
      "cell_type": "code",
      "execution_count": null,
      "metadata": {
        "id": "yK2aTOZYNJ0u",
        "outputId": "051e9243-b682-458f-8c96-acda53b07a95"
      },
      "outputs": [
        {
          "data": {
            "text/plain": [
              "1"
            ]
          },
          "execution_count": 133,
          "metadata": {},
          "output_type": "execute_result"
        }
      ],
      "source": [
        "next(x)"
      ]
    },
    {
      "cell_type": "code",
      "execution_count": null,
      "metadata": {
        "id": "FLYSrQUiNJ0u",
        "outputId": "b2031062-fc38-4d2b-90df-129fe82dc8f4"
      },
      "outputs": [
        {
          "data": {
            "text/plain": [
              "8"
            ]
          },
          "execution_count": 134,
          "metadata": {},
          "output_type": "execute_result"
        }
      ],
      "source": [
        "next(x)"
      ]
    },
    {
      "cell_type": "markdown",
      "metadata": {
        "id": "ASjswDFmNJ0u"
      },
      "source": [
        "## On comprehensions (note the details, especially their use in dictionaries) and the zip function"
      ]
    },
    {
      "cell_type": "code",
      "execution_count": null,
      "metadata": {
        "id": "7DqaDDDDNJ0u"
      },
      "outputs": [],
      "source": [
        "dict = {x:y*z for x in range(10) for y in range(10) for z in range(10)}"
      ]
    },
    {
      "cell_type": "code",
      "execution_count": null,
      "metadata": {
        "id": "d0LZnFBMNJ0u",
        "outputId": "74202348-f250-4ed8-fd3d-d58fec485781"
      },
      "outputs": [
        {
          "data": {
            "text/plain": [
              "{0: 81, 1: 81, 2: 81, 3: 81, 4: 81, 5: 81, 6: 81, 7: 81, 8: 81, 9: 81}"
            ]
          },
          "execution_count": 2,
          "metadata": {},
          "output_type": "execute_result"
        }
      ],
      "source": [
        "dict"
      ]
    },
    {
      "cell_type": "code",
      "execution_count": null,
      "metadata": {
        "id": "yCgzRjGJNJ0v"
      },
      "outputs": [],
      "source": [
        "dict = {x:y*z for x in [0,1,2] for y in [0,1,2] for z in [0,1,2]}"
      ]
    },
    {
      "cell_type": "code",
      "execution_count": null,
      "metadata": {
        "id": "7KgRSS5eNJ0v",
        "outputId": "2722822c-a43b-4448-da41-628fa1c0375b"
      },
      "outputs": [
        {
          "data": {
            "text/plain": [
              "{0: 4, 1: 4, 2: 4}"
            ]
          },
          "execution_count": 4,
          "metadata": {},
          "output_type": "execute_result"
        }
      ],
      "source": [
        "dict"
      ]
    },
    {
      "cell_type": "markdown",
      "metadata": {
        "id": "DVRvGeSXNJ0v"
      },
      "source": [
        "This is so because there are only three key numbers 0, 1 and 2.\n",
        "There are three y's and three z's, so nine keys are needed.\n",
        "Therefore, try as [0,1,2,3,4,5,6,8,9] for x."
      ]
    },
    {
      "cell_type": "code",
      "execution_count": null,
      "metadata": {
        "id": "XoDuvS9zNJ0v"
      },
      "outputs": [],
      "source": [
        "dict = {x:y*z for x in [0,1,2,3,4,5,6,7,8,9] for y in [0,1,2] for z in [0,1,2]}"
      ]
    },
    {
      "cell_type": "code",
      "execution_count": null,
      "metadata": {
        "id": "MXDl9WvRNJ0v",
        "outputId": "7769c42c-5d0a-45c3-bed2-c7af9486ea98"
      },
      "outputs": [
        {
          "data": {
            "text/plain": [
              "{0: 4, 1: 4, 2: 4, 3: 4, 4: 4, 5: 4, 6: 4, 7: 4, 8: 4, 9: 4}"
            ]
          },
          "execution_count": 6,
          "metadata": {},
          "output_type": "execute_result"
        }
      ],
      "source": [
        "dict"
      ]
    },
    {
      "cell_type": "markdown",
      "metadata": {
        "id": "U6edqRTxNJ0v"
      },
      "source": [
        "In practice, there are three overlapping for statements, resulting in a three-dimensional list.\n",
        "Either way, there are only nine keys, so the last y*z value of 4 would contain nine.\n",
        "```\n",
        "for x in [0,1,2,3,4,5,6,7,8,9]:\n",
        "    for y in [0,1,2]:\n",
        "        for z in [0,1,2]:\n",
        "            {x : y * z} is added to the dictionary.\n",
        "```\n",
        "as doing the same thing, but since the dict key is only 0-9,\n",
        "when x (key) is 0, y*z 0,1,4 are added in sequence, leaving only the last 4. The same applies when x is 1-9."
      ]
    },
    {
      "cell_type": "code",
      "execution_count": null,
      "metadata": {
        "id": "r-ZrtY35NJ0v",
        "outputId": "3906b47e-acf7-4c19-c478-66f3b0c9feb6"
      },
      "outputs": [
        {
          "data": {
            "text/plain": [
              "{0: 4, 1: 4, 2: 4, 3: 4, 4: 4, 5: 4, 6: 4, 7: 4, 8: 4, 9: 4}"
            ]
          },
          "execution_count": 16,
          "metadata": {},
          "output_type": "execute_result"
        }
      ],
      "source": [
        "# Namely, it is the same as following: \n",
        "dict = {}\n",
        "for x in [0,1,2,3,4,5,6,7,8,9]:\n",
        "    for y in [0,1,2]:\n",
        "        for z in [0,1,2]:\n",
        "            dict.update({x : y * z}) # Adding dictionaries.\n",
        "dict"
      ]
    },
    {
      "cell_type": "markdown",
      "metadata": {
        "id": "v20GZ4NvNJ0v"
      },
      "source": [
        "Here, it is reasonable to use the zip function"
      ]
    },
    {
      "cell_type": "code",
      "execution_count": null,
      "metadata": {
        "id": "3vQSLOiDNJ0v"
      },
      "outputs": [],
      "source": [
        "dict = {x:y*z for x,y,z in zip([0,1,2],[0,1,2],[0,1,2])}"
      ]
    },
    {
      "cell_type": "code",
      "execution_count": null,
      "metadata": {
        "id": "PQeqYupwNJ0v",
        "outputId": "6211f840-1897-4bc6-aa0f-be62d9f1cf3d"
      },
      "outputs": [
        {
          "data": {
            "text/plain": [
              "{0: 0, 1: 1, 2: 4}"
            ]
          },
          "execution_count": 10,
          "metadata": {},
          "output_type": "execute_result"
        }
      ],
      "source": [
        "dict"
      ]
    },
    {
      "cell_type": "code",
      "execution_count": null,
      "metadata": {
        "id": "YNhCdtPKNJ0w",
        "outputId": "923ab601-81e1-4563-f1da-d7083344350d"
      },
      "outputs": [
        {
          "data": {
            "text/plain": [
              "[(1, 4, 7), (2, 5, 8), (3, 6, 9)]"
            ]
          },
          "execution_count": 18,
          "metadata": {},
          "output_type": "execute_result"
        }
      ],
      "source": [
        "list(zip([1,2,3],[4,5,6],[7,8,9]))"
      ]
    },
    {
      "cell_type": "code",
      "execution_count": null,
      "metadata": {
        "id": "c0HOC89CNJ0w"
      },
      "outputs": [],
      "source": [
        ""
      ]
    }
  ],
  "metadata": {
    "kernelspec": {
      "display_name": "Python 3",
      "language": "python",
      "name": "python3"
    },
    "language_info": {
      "codemirror_mode": {
        "name": "ipython",
        "version": 3
      },
      "file_extension": ".py",
      "mimetype": "text/x-python",
      "name": "python",
      "nbconvert_exporter": "python",
      "pygments_lexer": "ipython3",
      "version": "3.8.3"
    },
    "colab": {
      "name": "IntroductionToProgramming7.ipynb",
      "provenance": [],
      "collapsed_sections": [
        "POzD-BD2NJ0j",
        "sTVkIoIFNJ0k",
        "TExO39WHNJ0l",
        "SGq1s0sfNJ0n",
        "mb-zuCJaNJ0o",
        "VOwpsF5ZNJ0p",
        "EOLg8sc7NJ0p",
        "5_SUfkEhNJ0s",
        "J_kYk4QxNJ0s",
        "lp5-31hRNJ0t",
        "ASjswDFmNJ0u"
      ]
    }
  },
  "nbformat": 4,
  "nbformat_minor": 0
}