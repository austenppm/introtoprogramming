{
 "cells": [
  {
   "cell_type": "markdown",
   "metadata": {},
   "source": [
    "## Object Oriented Programming\n",
    "Like many programming languages, Python can process calculations by defining classes, creating instances, and calling methods of the instances. For more information on the object-oriented concept, please refer to the document."
   ]
  },
  {
   "cell_type": "markdown",
   "metadata": {},
   "source": [
    "## Class, Instances, Instance methods\n",
    "### Example of class description (class name only)\n",
    "\n",
    "\n",
    "class \"class name\":\n",
    "\n",
    "    \"description\""
   ]
  },
  {
   "cell_type": "code",
   "execution_count": 1,
   "metadata": {},
   "outputs": [
    {
     "name": "stdout",
     "output_type": "stream",
     "text": [
      "Takayuki Ito\n"
     ]
    }
   ],
   "source": [
    "class Human:\n",
    "    pass # pass means do nothing.\n",
    "\n",
    "h1 = Human() #　Instantiation\n",
    "h1.name = \"Takayuki Ito\"\n",
    "print(h1.name)"
   ]
  },
  {
   "cell_type": "markdown",
   "metadata": {},
   "source": [
    "### Example of class description (Adding an instance method)\n",
    "\n",
    "class \"class name\":\n",
    "\n",
    "    (description)\n",
    "    \n",
    "    # It is called \"instance methods\" because they are defined for each instance\n",
    "    # Put \"self\" in the first argument. (*) Python-specific writing style\n",
    "    def \"method name\"(self, parameter):　\n",
    "    \n",
    "        (description)\n"
   ]
  },
  {
   "cell_type": "code",
   "execution_count": 2,
   "metadata": {},
   "outputs": [
    {
     "name": "stdout",
     "output_type": "stream",
     "text": [
      "hello\n"
     ]
    }
   ],
   "source": [
    "class Human:\n",
    "    def hello(self):\n",
    "        return \"hello\"\n",
    "\n",
    "h1 = Human()\n",
    "print(h1.hello())"
   ]
  },
  {
   "cell_type": "markdown",
   "metadata": {},
   "source": [
    "### selfとは\n",
    "self is a variable that points to an instance object\n",
    "Accessing to self enables to access variables and methods of each instance\n",
    "\n"
   ]
  },
  {
   "cell_type": "code",
   "execution_count": 3,
   "metadata": {},
   "outputs": [
    {
     "name": "stdout",
     "output_type": "stream",
     "text": [
      "Takayuki Ito\n",
      "Rafik Hadfi\n"
     ]
    }
   ],
   "source": [
    "class Human:\n",
    "    def setName(self,name):\n",
    "        self.name = name\n",
    "        \n",
    "    def getName(self):\n",
    "        return self.name\n",
    "\n",
    "# Generating two instances (h1 and H2) of Human class\n",
    "h1 = Human() \n",
    "h2 = Human()\n",
    "# setting names for each instance\n",
    "h1.setName(\"Takayuki Ito\")\n",
    "h2.setName(\"Rafik Hadfi\")\n",
    "# show names of each instance\n",
    "print(h1.getName())\n",
    "print(h2.getName())"
   ]
  },
  {
   "cell_type": "markdown",
   "metadata": {},
   "source": [
    "### Example of description of class (adding the constructor)\n",
    "\n",
    "class \"class name\":\n",
    "\n",
    "    (Description)\n",
    "    \n",
    "    def __init__(self,parameter): # constructor\n",
    "    \n",
    "        (description)\n",
    "        \n",
    "    def \"method name\"(self,parameter):\n",
    "    \n",
    "        (description)"
   ]
  },
  {
   "cell_type": "markdown",
   "metadata": {},
   "source": [
    "Create the Human class. The argument \"self\" of the constructor and method indicates the instance to be created, and is described in the first argument. However, when calling the constructor or the method, self is not described in the argument.\n",
    "\n",
    "The method return returns a value to the method caller."
   ]
  },
  {
   "cell_type": "code",
   "execution_count": 4,
   "metadata": {},
   "outputs": [],
   "source": [
    "class Human:\n",
    "    def __init__(self,last_name,first_name): # constructor\n",
    "        self.last_name = last_name\n",
    "        self.first_name = first_name\n",
    "    def hello(self): # method\n",
    "        return \"hi I am \"+self.last_name+\" \"+self.first_name\n",
    "    def __str__(self):\n",
    "        return self.last_name+\" \"+self.first_name # Value to return when passed to the str function"
   ]
  },
  {
   "cell_type": "markdown",
   "metadata": {},
   "source": [
    "Give \"takayuki\" as a parameter to constructor of Human class"
   ]
  },
  {
   "cell_type": "code",
   "execution_count": 5,
   "metadata": {},
   "outputs": [],
   "source": [
    "h1=Human(\"ito\",\"takayuki\") "
   ]
  },
  {
   "cell_type": "markdown",
   "metadata": {},
   "source": [
    "By calling instance name.hello(), you can use the method for the created object \"takayuki\"."
   ]
  },
  {
   "cell_type": "code",
   "execution_count": 6,
   "metadata": {},
   "outputs": [
    {
     "data": {
      "text/plain": [
       "'hi I am ito takayuki'"
      ]
     },
     "execution_count": 6,
     "metadata": {},
     "output_type": "execute_result"
    }
   ],
   "source": [
    "h1.hello() "
   ]
  },
  {
   "cell_type": "markdown",
   "metadata": {},
   "source": [
    "str() obtains the object specified in the argument as a string."
   ]
  },
  {
   "cell_type": "code",
   "execution_count": 7,
   "metadata": {},
   "outputs": [
    {
     "name": "stdout",
     "output_type": "stream",
     "text": [
      "ito takayuki\n"
     ]
    }
   ],
   "source": [
    "print(h1) # Calling the object's __str__ method"
   ]
  },
  {
   "cell_type": "code",
   "execution_count": 8,
   "metadata": {},
   "outputs": [
    {
     "data": {
      "text/plain": [
       "'ito'"
      ]
     },
     "execution_count": 8,
     "metadata": {},
     "output_type": "execute_result"
    }
   ],
   "source": [
    "h1.last_name"
   ]
  },
  {
   "cell_type": "code",
   "execution_count": 9,
   "metadata": {},
   "outputs": [
    {
     "data": {
      "text/plain": [
       "'takayuki'"
      ]
     },
     "execution_count": 9,
     "metadata": {},
     "output_type": "execute_result"
    }
   ],
   "source": [
    "h1.first_name"
   ]
  },
  {
   "cell_type": "markdown",
   "metadata": {},
   "source": [
    "## Class variables and class methods\n",
    "\n",
    "Class variables and class methods are defined in the class object (the class itself).\n",
    "\n",
    "### Example of class description (class variable)\n",
    "\n",
    "class \"class name\":\n",
    "    \n",
    "    (Assignments to class variables, etc.).\n",
    "\n",
    "    def __init__(self,parameters): # constructor\n",
    "    \n",
    "        (description)\n",
    "        \n",
    "    def \"method name\"(self,parameters):\n",
    "    \n",
    "        (description)"
   ]
  },
  {
   "cell_type": "markdown",
   "metadata": {},
   "source": [
    "## Accessing class variables from instance methods\n",
    "Accessin by the description \"class name\".\"class variable\" "
   ]
  },
  {
   "cell_type": "code",
   "execution_count": 10,
   "metadata": {},
   "outputs": [
    {
     "data": {
      "text/plain": [
       "'Hello:Takayuki Ito'"
      ]
     },
     "execution_count": 10,
     "metadata": {},
     "output_type": "execute_result"
    }
   ],
   "source": [
    "class Human:\n",
    "    greeting = \"Hello\" # Definition of a class variable\n",
    "    def __init__(self,name):\n",
    "        self.name = name # Assinment to an instance variable\n",
    "    def getGreeting(self):\n",
    "        return Human.greeting+\":\"+self.name # Accessing to \"class name\".\"class variable\"\n",
    "\n",
    "h1 = Human(\"Takayuki Ito\")\n",
    "h1.getGreeting()"
   ]
  },
  {
   "cell_type": "markdown",
   "metadata": {},
   "source": [
    "### An example of class description (class method)\n",
    "\n",
    "class \"class name\":\n",
    "    \n",
    "    (Assignments to class variables, etc.)\n",
    "\n",
    "    def __init__(self,parameters): # constructor\n",
    "    \n",
    "        (description)\n",
    "        \n",
    "    def \"method name\"(self,parameters):\n",
    "    \n",
    "        (description)\n",
    "        \n",
    "    @classmethod # <- the decorator to declare a classmethod\n",
    "    def \"classmethod name\"(cls,parameters): # cls refers this classs object\n",
    "\n",
    "        (description)\n",
    "\n",
    "### Decorators indicating class methods and cls pointing to class objects\n",
    "Declares that the method described afterwards is a class method with the decorator @classmethod.\n",
    "cls used in class methods represents the class object itself"
   ]
  },
  {
   "cell_type": "code",
   "execution_count": 11,
   "metadata": {},
   "outputs": [
    {
     "name": "stdout",
     "output_type": "stream",
     "text": [
      "Human:Takayuki Ito\n",
      "Good morning:Takayuki Ito\n"
     ]
    }
   ],
   "source": [
    "class Human:\n",
    "    greeting = \"Human\" # Defining class variables\n",
    "    def __init__(self,name):\n",
    "        self.name = name # Assignment of instances to variables.\n",
    "    def getGreeting(self):\n",
    "        return Human.greeting+\":\"+self.name # Accessing by \"class name\".\"class variable\"\n",
    "    \n",
    "    @classmethod\n",
    "    def changeGreeting(cls,message):\n",
    "        cls.greeting = message\n",
    "\n",
    "h1 = Human(\"Takayuki Ito\")\n",
    "print(h1.getGreeting())\n",
    "h1.changeGreeting(\"Good morning\")\n",
    "print(h1.getGreeting())"
   ]
  },
  {
   "cell_type": "markdown",
   "metadata": {},
   "source": [
    "## Inheritance, superclasses, overriding, object trees.\n",
    "See slides as well"
   ]
  },
  {
   "cell_type": "code",
   "execution_count": 12,
   "metadata": {},
   "outputs": [
    {
     "name": "stdout",
     "output_type": "stream",
     "text": [
      "1001\n",
      "Takayuki Ito\n"
     ]
    }
   ],
   "source": [
    "## Inheritance and superclasses\n",
    "## superclass Human\n",
    "class Human:\n",
    "    def __init__(self,name):\n",
    "        self.name = name\n",
    "    def show(self):\n",
    "        print(self.name)\n",
    "\n",
    "## Student class inheriting from Human.\n",
    "class Student(Human):\n",
    "    \n",
    "    def __init__(self,name,studentNumber):\n",
    "        super().__init__(name)\n",
    "        self.studentNumber = studentNumber\n",
    "\n",
    "    def getStudentNumber(self):\n",
    "        return self.studentNumber\n",
    "\n",
    "s0 = Student(\"Takayuki Ito\",1001)\n",
    "print(s0.getStudentNumber())\n",
    "s0.show()"
   ]
  },
  {
   "cell_type": "code",
   "execution_count": 13,
   "metadata": {},
   "outputs": [
    {
     "name": "stdout",
     "output_type": "stream",
     "text": [
      "1001\n",
      "I am a student. my name is Takayuki Ito my num is1001\n"
     ]
    }
   ],
   "source": [
    "## Inheritance and superclasses\n",
    "## superclass Human\n",
    "### About overriding\n",
    "class Human:\n",
    "    def __init__(self,name):\n",
    "        self.name = name\n",
    "    def show(self):\n",
    "        print(self.name)\n",
    "\n",
    "## Student class inheriting from Human.\n",
    "class Student(Human):\n",
    "    \n",
    "    def __init__(self,name,studentNumber):\n",
    "        super().__init__(name)\n",
    "        self.studentNumber = studentNumber\n",
    "\n",
    "    def getStudentNumber(self):\n",
    "        return self.studentNumber\n",
    "    \n",
    "    def show(self): # Overriding Human's method show\n",
    "        print(\"I am a student. my name is \"+self.name+\" my num is\"+str(self.studentNumber))\n",
    "\n",
    "s0 = Student(\"Takayuki Ito\",1001)\n",
    "print(s0.getStudentNumber())\n",
    "s0.show()"
   ]
  },
  {
   "cell_type": "markdown",
   "metadata": {},
   "source": [
    "### How the object tree is formed\n",
    "- When a statement of class is executed, a class object (class) is created.\n",
    "- When a class is invoked, an instance object (instance) is created.\n",
    "- Instances are 'linked' to the underlying class.\n",
    "- Classes are 'linked' to superclasses. Superclasses are specified using brackets in the class statement. The position of each class in the object tree is determined by the order in the brackets.\n",
    "\n",
    "### Searching for attributes in the object tree\n",
    "If an object created on the basis of the class is specified, the specified variable is searched for in the tree of objects (the search ends if one corresponding attribute is found). The search for the specified variable ends with the specified object, if any. If not, one is found somewhere in the tree to which the object belongs. The search is performed from bottom to top and left to right. The same applies to methods."
   ]
  },
  {
   "cell_type": "code",
   "execution_count": 17,
   "metadata": {},
   "outputs": [
    {
     "name": "stdout",
     "output_type": "stream",
     "text": [
      "B-y\n",
      "C-z\n",
      "A-x\n"
     ]
    }
   ],
   "source": [
    "## An example of object tree\n",
    "# See slides as well\n",
    "\n",
    "class A:\n",
    "    def x(self):\n",
    "        print(\"A-x\")\n",
    "    def z(self):\n",
    "        print(\"A-z\")\n",
    "    \n",
    "class B:\n",
    "    def x(self):\n",
    "        print(\"B-x\")\n",
    "    def y(self):\n",
    "        print(\"B-y\")\n",
    "\n",
    "class C(A,B):\n",
    "    def z(self):\n",
    "        print(\"C-z\")\n",
    "\n",
    "        \n",
    "c = C()\n",
    "c.y()\n",
    "c.z()\n",
    "c.x()"
   ]
  },
  {
   "cell_type": "code",
   "execution_count": 15,
   "metadata": {},
   "outputs": [
    {
     "name": "stdout",
     "output_type": "stream",
     "text": [
      "1001\n",
      "I am a student. my name is Takayuki Ito my num is1001\n",
      "Rafik Hadfi\n"
     ]
    }
   ],
   "source": [
    "## Polymorphic behaviour (polymorphism)\n",
    "\n",
    "## Inheritance and superclasses\n",
    "## superclass Human\n",
    "class Human:\n",
    "    def __init__(self,name):\n",
    "        self.name = name\n",
    "    def show(self):\n",
    "        print(self.name)\n",
    "\n",
    "## Student class inheriting from Human.\n",
    "class Student(Human):\n",
    "    \n",
    "    def __init__(self,name,studentNumber):\n",
    "        super().__init__(name)\n",
    "        self.studentNumber = studentNumber\n",
    "\n",
    "    def getStudentNumber(self):\n",
    "        return self.studentNumber\n",
    "    \n",
    "    def show(self): # Overriding Human's method show.\n",
    "        print(\"I am a student. my name is \"+self.name+\" my num is\"+str(self.studentNumber))\n",
    "\n",
    "s0 = Student(\"Takayuki Ito\",1001)\n",
    "print(s0.getStudentNumber())\n",
    "h1 = Human(\"Rafik Hadfi\")\n",
    "# Calling the method show on either object but with different behaviour\n",
    "s0.show()\n",
    "h1.show() "
   ]
  },
  {
   "cell_type": "code",
   "execution_count": null,
   "metadata": {},
   "outputs": [],
   "source": []
  },
  {
   "cell_type": "code",
   "execution_count": null,
   "metadata": {},
   "outputs": [],
   "source": []
  }
 ],
 "metadata": {
  "kernelspec": {
   "display_name": "Python 3",
   "language": "python",
   "name": "python3"
  },
  "language_info": {
   "codemirror_mode": {
    "name": "ipython",
    "version": 3
   },
   "file_extension": ".py",
   "mimetype": "text/x-python",
   "name": "python",
   "nbconvert_exporter": "python",
   "pygments_lexer": "ipython3",
   "version": "3.9.4"
  }
 },
 "nbformat": 4,
 "nbformat_minor": 4
}