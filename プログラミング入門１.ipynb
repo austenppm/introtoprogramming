{
 "cells": [
  {
   "cell_type": "markdown",
   "metadata": {},
   "source": [
    "# Python概要"
   ]
  },
  {
   "cell_type": "markdown",
   "metadata": {},
   "source": [
    "## Pythonはなぜ良いか？\n",
    "Pythonの設計思想「Pythonの禅」https://en.wikipedia.org/wiki/Zen_of_Python"
   ]
  },
  {
   "cell_type": "code",
   "execution_count": 2,
   "metadata": {
    "scrolled": true
   },
   "outputs": [
    {
     "name": "stdout",
     "output_type": "stream",
     "text": [
      "The Zen of Python, by Tim Peters\n",
      "\n",
      "Beautiful is better than ugly.\n",
      "Explicit is better than implicit.\n",
      "Simple is better than complex.\n",
      "Complex is better than complicated.\n",
      "Flat is better than nested.\n",
      "Sparse is better than dense.\n",
      "Readability counts.\n",
      "Special cases aren't special enough to break the rules.\n",
      "Although practicality beats purity.\n",
      "Errors should never pass silently.\n",
      "Unless explicitly silenced.\n",
      "In the face of ambiguity, refuse the temptation to guess.\n",
      "There should be one-- and preferably only one --obvious way to do it.\n",
      "Although that way may not be obvious at first unless you're Dutch.\n",
      "Now is better than never.\n",
      "Although never is often better than *right* now.\n",
      "If the implementation is hard to explain, it's a bad idea.\n",
      "If the implementation is easy to explain, it may be a good idea.\n",
      "Namespaces are one honking great idea -- let's do more of those!\n"
     ]
    }
   ],
   "source": [
    "import this"
   ]
  },
  {
   "cell_type": "markdown",
   "metadata": {},
   "source": [
    "- Beautiful is better than ugly.\n",
    "- 醜いより美しいほうがいい。\n",
    "- Explicit is better than implicit.\n",
    "- 暗示するより明示するほうがいい。\n",
    "- Simple is better than complex.\n",
    "- 複雑であるよりは平易であるほうがいい。\n",
    "- Complex is better than complicated.\n",
    "- それでも、込み入っているよりは複雑であるほうがまし。\n",
    "- Flat is better than nested.\n",
    "- ネストは浅いほうがいい。\n",
    "- Sparse is better than dense.\n",
    "- 密集しているよりは隙間があるほうがいい。\n",
    "- Readability counts.\n",
    "- 読みやすいことは善である。\n",
    "- Special cases aren't special enough to break the rules.\n",
    "- 特殊であることはルールを破る理由にならない。\n",
    "- Although practicality beats purity.\n",
    "- しかし、実用性を求めると純粋さが失われることがある。\n",
    "- Errors should never pass silently.\n",
    "- エラーは隠すな、無視するな。\n",
    "- Unless explicitly silenced.\n",
    "- ただし、わざと隠されているのなら見逃せ。\n",
    "- In the face of ambiguity, refuse the temptation to guess.\n",
    "- 曖昧なものに出逢ったら、その意味を適当に推測してはいけない。\n",
    "- There should be one-- and preferably only one --obvious way to do it.\n",
    "- 何かいいやり方があるはずだ。誰が見ても明らかな、たったひとつのやり方が。\n",
    "- Although that way may not be obvious at first unless you're Dutch.\n",
    "- そのやり方は一目見ただけではわかりにくいかもしれない。オランダ人にだけわかりやすいなんてこともあるかもしれない。\n",
    "- Now is better than never.\n",
    "- ずっとやらないでいるよりは、今やれ。\n",
    "- Although never is often better than right now.\n",
    "- でも、今\"すぐ\"にやるよりはやらないほうがマシなことが多い。\n",
    "- If the implementation is hard to explain, it's a bad idea.\n",
    "- コードの内容を説明するのが難しいのなら、それは悪い実装である。\n",
    "- If the implementation is easy to explain, it may be a good idea.\n",
    "- コードの内容を容易に説明できるのなら、おそらくそれはよい実装である。\n",
    "- Namespaces are one honking great idea -- let's do more of those!\n",
    "- 名前空間は優れたアイデアであるため、積極的に利用すべきである。"
   ]
  },
  {
   "cell_type": "markdown",
   "metadata": {},
   "source": [
    "## Pythonをなぜ使うか\n",
    "- Pythonは、C、Java、Ruby、PHP、Pearlなどと同様なプログラミング言語の一つである。ただし、C、C++やJavaと比較すると、ユーザが使いやすい軽量のスクリプト言語に近いと言える。\n",
    "- フリーのオープンソースソフトウェアである。\n",
    "- 設計思想に基づきユーザの使いやすさ、生産性の向上を目指しているため、コード自体は書きやすいが、内部処理により多くの処理が加わる。そのため、直接CPUやメモリに近いコードを作るCなどと比較すると余分な処理が行われる。その結果、その処理速度が遅くなる。これは、処理速度と生産性向上のトレードオフと言える。\n",
    "- 幅広い分野に適用できる汎用言語である。\n",
    "- Pythonの強みは、その処理速度の遅さ（遅い！）を、Cで実装された様々なライブラリ（モジュール）で補える環境が揃っていることである。 世界的なコミュニティがPythonを支えている。\n",
    "- マルチプラットフォームである。\n",
    "- Pythonを使おうという人はどんどん増えている。http://pypl.github.io/PYPL.html\n",
    "- 各種ドキュメントが豊富である。\n",
    "- 習得は言うほど簡単ではない。\n",
    "- ここを参照されたい。https://docs.python.org/ja/3.7/tutorial/index.html"
   ]
  },
  {
   "cell_type": "markdown",
   "metadata": {},
   "source": [
    "## フォーマット\n",
    "Pythonは、空白によってインデントし、インデントによってフォーマットする。他の言語では、{や(を使う場合が多いが、インデントを使うのはPythonの大きな特徴である。書き換えられます。\n",
    "\n",
    "- Python\n",
    "- Ruby"
   ]
  },
  {
   "cell_type": "code",
   "execution_count": 1,
   "metadata": {},
   "outputs": [
    {
     "name": "stdout",
     "output_type": "stream",
     "text": [
      "1\n",
      "1\n",
      "4\n",
      "Takayuki Ito\n",
      "1\n",
      "5\n",
      "Takayuki Ito\n",
      "1\n",
      "6\n",
      "Takayuki Ito\n",
      "1\n",
      "2\n",
      "2\n",
      "4\n",
      "Takayuki Ito\n",
      "2\n",
      "5\n",
      "Takayuki Ito\n",
      "2\n",
      "6\n",
      "Takayuki Ito\n",
      "2\n",
      "3\n",
      "3\n",
      "4\n",
      "Takayuki Ito\n",
      "3\n",
      "5\n",
      "Takayuki Ito\n",
      "3\n",
      "6\n",
      "Takayuki Ito\n",
      "3\n",
      "finish\n"
     ]
    }
   ],
   "source": [
    "for i in [1, 2, 3]:\n",
    "    print(i)\n",
    "    for j in [4, 5, 6]:\n",
    "        print(i)\n",
    "        print(j)\n",
    "        print('Takayuki Ito')\n",
    "    print(i)\n",
    "print('finish')"
   ]
  },
  {
   "cell_type": "markdown",
   "metadata": {},
   "source": [
    "## モジュール\n",
    "pythonでは、すべての機能がデフォルトでロードされているわけではない。必要に応じて、モジュールをロードする必要がある。"
   ]
  },
  {
   "cell_type": "code",
   "execution_count": 3,
   "metadata": {},
   "outputs": [
    {
     "ename": "NameError",
     "evalue": "name 'math' is not defined",
     "output_type": "error",
     "traceback": [
      "\u001b[0;31m---------------------------------------------------------------------------\u001b[0m",
      "\u001b[0;31mNameError\u001b[0m                                 Traceback (most recent call last)",
      "\u001b[0;32m<ipython-input-3-a6303edf1e1f>\u001b[0m in \u001b[0;36m<module>\u001b[0;34m\u001b[0m\n\u001b[0;32m----> 1\u001b[0;31m \u001b[0mmath\u001b[0m\u001b[0;34m.\u001b[0m\u001b[0mgcd\u001b[0m\u001b[0;34m(\u001b[0m\u001b[0;36m100\u001b[0m\u001b[0;34m,\u001b[0m \u001b[0;36m100\u001b[0m\u001b[0;34m)\u001b[0m\u001b[0;34m\u001b[0m\u001b[0;34m\u001b[0m\u001b[0m\n\u001b[0m",
      "\u001b[0;31mNameError\u001b[0m: name 'math' is not defined"
     ]
    }
   ],
   "source": [
    "math.gcd(100, 100)"
   ]
  },
  {
   "cell_type": "code",
   "execution_count": 4,
   "metadata": {},
   "outputs": [
    {
     "data": {
      "text/plain": [
       "4"
      ]
     },
     "execution_count": 4,
     "metadata": {},
     "output_type": "execute_result"
    }
   ],
   "source": [
    "# math.gcd 最大公約数を求める関数\n",
    "import math\n",
    "\n",
    "math.gcd(100, 12)"
   ]
  },
  {
   "cell_type": "code",
   "execution_count": 5,
   "metadata": {},
   "outputs": [
    {
     "data": {
      "text/plain": [
       "20"
      ]
     },
     "execution_count": 5,
     "metadata": {},
     "output_type": "execute_result"
    }
   ],
   "source": [
    "# ライブラリから関数のみをimportすることもできる\n",
    "from math import gcd\n",
    "\n",
    "gcd(100, 20)"
   ]
  },
  {
   "cell_type": "markdown",
   "metadata": {},
   "source": [
    "機械学習でも、モジュールを使うことでPythonの真価を存分に発揮することができる。"
   ]
  },
  {
   "cell_type": "code",
   "execution_count": 6,
   "metadata": {},
   "outputs": [
    {
     "data": {
      "text/plain": [
       "SVC(kernel='linear')"
      ]
     },
     "execution_count": 6,
     "metadata": {},
     "output_type": "execute_result"
    }
   ],
   "source": [
    "from sklearn.svm import SVC\n",
    "\n",
    "# サポート・ベクタ・マシンを定義\n",
    "model = SVC(kernel='linear')\n",
    "model"
   ]
  },
  {
   "cell_type": "markdown",
   "metadata": {},
   "source": [
    "## 演算\n",
    "他の言語と同様の様々な演算が可能である。ひとまず列挙する。"
   ]
  },
  {
   "cell_type": "markdown",
   "metadata": {},
   "source": [
    "### 算術演算\n",
    "```python\n",
    "+a            # 正数\n",
    "-a            # 負数\n",
    "a + b         # 加算\n",
    "a - b         # 減算\n",
    "a * b         # 乗算\n",
    "a / b         # 除算\n",
    "a % b         # a を b で割った余り\n",
    "a ** b        # a の b 乗\n",
    "a // b        # 切り捨て除算\n",
    "```"
   ]
  },
  {
   "cell_type": "markdown",
   "metadata": {},
   "source": [
    "### 論理演算\n",
    "```python\n",
    "~a            # ビット反転\n",
    "a & b         # AND:論理積(aもbも1のビットが1)\n",
    "a | b         # OR:論理和(aまたはbが1のビットが1)\n",
    "a ^ b         # XOR:排他的論理和(aまたはbが1のビットが1)\n",
    "a << b        # b ビット左シフト\n",
    "a >> b        # b ビット右シフト\n",
    "```"
   ]
  },
  {
   "cell_type": "markdown",
   "metadata": {},
   "source": [
    "### 比較演算子\n",
    "```python\n",
    "a == b           # a が b と等しい\n",
    "a != b           # a が b と異なる\n",
    "a < b            # a が b よりも小さい\n",
    "a > b            # a が b よりも大きい\n",
    "a <= b           # a が b 以下である\n",
    "a >= b           # a が b 以上である\n",
    "a <> b           # a が b と異なる\n",
    "a is b           # a が b と等しい\n",
    "a is not b       # a が b と異なる\n",
    "a in b           # a が b に含まれる\n",
    "a not in b       # a が b に含まれない\n",
    "```"
   ]
  },
  {
   "cell_type": "markdown",
   "metadata": {},
   "source": [
    "### ブール演算子\n",
    "```python\n",
    "a and b         # a も b も真であれば真\n",
    "a or b          # a または b が真であれば真\n",
    "not a           # a が偽であれば真\n",
    "```"
   ]
  },
  {
   "cell_type": "markdown",
   "metadata": {},
   "source": [
    "### 条件演算子\n",
    "```python\n",
    "x if c else y\n",
    "```"
   ]
  },
  {
   "cell_type": "markdown",
   "metadata": {},
   "source": [
    "### 文字列演算\n",
    "```python\n",
    "a + b         # 文字列 a と 文字列 b を連結\n",
    "a * n         # 文字列 a を n 回繰り返す\n",
    "a[n]          # 文字列 a の中の n 番目の文字を取り出す\n",
    "a[n:m]        # 文字列 a の中の n 番目から m 番目までの文字列を取り出す\n",
    "a[n:]         # 文字列 a の中の n 番目から最後までの文字列を取り出す\n",
    "a[:m]         # 文字列 a の中の 0 番目から m 番目までの文字列を取り出す\n",
    "a[n:m:s]      # 文字列 a の中の n 番目から m 番目までの文字列を s個とばしで取り出す\n",
    "```"
   ]
  },
  {
   "cell_type": "code",
   "execution_count": 7,
   "metadata": {},
   "outputs": [
    {
     "data": {
      "text/plain": [
       "'ArtificialIntelligence'"
      ]
     },
     "execution_count": 7,
     "metadata": {},
     "output_type": "execute_result"
    }
   ],
   "source": [
    "# 文字列演算の例\n",
    "a = \"Artificial\"\n",
    "b = \"Intelligence\"\n",
    "c = \"Kyoto University\"\n",
    "a + b"
   ]
  },
  {
   "cell_type": "code",
   "execution_count": 8,
   "metadata": {},
   "outputs": [
    {
     "data": {
      "text/plain": [
       "'ArtificialArtificialArtificial'"
      ]
     },
     "execution_count": 8,
     "metadata": {},
     "output_type": "execute_result"
    }
   ],
   "source": [
    "a * 3"
   ]
  },
  {
   "cell_type": "code",
   "execution_count": 9,
   "metadata": {},
   "outputs": [
    {
     "data": {
      "text/plain": [
       "'i'"
      ]
     },
     "execution_count": 9,
     "metadata": {},
     "output_type": "execute_result"
    }
   ],
   "source": [
    "a[3]"
   ]
  },
  {
   "cell_type": "code",
   "execution_count": 10,
   "metadata": {},
   "outputs": [
    {
     "data": {
      "text/plain": [
       "'rti'"
      ]
     },
     "execution_count": 10,
     "metadata": {},
     "output_type": "execute_result"
    }
   ],
   "source": [
    "a[1:4]"
   ]
  },
  {
   "cell_type": "code",
   "execution_count": 11,
   "metadata": {},
   "outputs": [
    {
     "data": {
      "text/plain": [
       "'to University'"
      ]
     },
     "execution_count": 11,
     "metadata": {},
     "output_type": "execute_result"
    }
   ],
   "source": [
    "c[3:]"
   ]
  },
  {
   "cell_type": "code",
   "execution_count": 12,
   "metadata": {},
   "outputs": [
    {
     "data": {
      "text/plain": [
       "'Kyoto'"
      ]
     },
     "execution_count": 12,
     "metadata": {},
     "output_type": "execute_result"
    }
   ],
   "source": [
    "c[:5]"
   ]
  },
  {
   "cell_type": "code",
   "execution_count": 13,
   "metadata": {},
   "outputs": [
    {
     "data": {
      "text/plain": [
       "'nel'"
      ]
     },
     "execution_count": 13,
     "metadata": {},
     "output_type": "execute_result"
    }
   ],
   "source": [
    "b[1:6:2]"
   ]
  },
  {
   "cell_type": "code",
   "execution_count": null,
   "metadata": {},
   "outputs": [],
   "source": []
  },
  {
   "cell_type": "code",
   "execution_count": null,
   "metadata": {},
   "outputs": [],
   "source": []
  },
  {
   "cell_type": "code",
   "execution_count": null,
   "metadata": {},
   "outputs": [],
   "source": []
  }
 ],
 "metadata": {
  "kernelspec": {
   "display_name": "Python 3",
   "language": "python",
   "name": "python3"
  },
  "language_info": {
   "codemirror_mode": {
    "name": "ipython",
    "version": 3
   },
   "file_extension": ".py",
   "mimetype": "text/x-python",
   "name": "python",
   "nbconvert_exporter": "python",
   "pygments_lexer": "ipython3",
   "version": "3.8.5"
  }
 },
 "nbformat": 4,
 "nbformat_minor": 2
}