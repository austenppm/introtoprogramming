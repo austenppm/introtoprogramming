{
 "cells": [
  {
   "cell_type": "markdown",
   "metadata": {},
   "source": [
    "# 演習問題"
   ]
  },
  {
   "cell_type": "markdown",
   "metadata": {},
   "source": [
    "## 問1\n",
    "## 問1.1\n",
    "\n",
    "a_listの最初の要素と最後の要素の和を表示せよ。"
   ]
  },
  {
   "cell_type": "code",
   "execution_count": 1,
   "metadata": {},
   "outputs": [],
   "source": [
    "a_list = [1, 3, 4, 10, 2, 4, 3, 6]"
   ]
  },
  {
   "cell_type": "code",
   "execution_count": 1,
   "metadata": {},
   "outputs": [],
   "source": [
    "#解答1.1"
   ]
  },
  {
   "cell_type": "markdown",
   "metadata": {},
   "source": [
    "## 問1.2\n",
    "\"a\" in a_list2  \n",
    "がTrueになるようなa_list2を作成せよ。"
   ]
  },
  {
   "cell_type": "code",
   "execution_count": 6,
   "metadata": {},
   "outputs": [],
   "source": [
    "#解答1.２"
   ]
  },
  {
   "cell_type": "code",
   "execution_count": 1,
   "metadata": {},
   "outputs": [],
   "source": [
    "\"a\" in a_list2"
   ]
  },
  {
   "cell_type": "markdown",
   "metadata": {},
   "source": [
    "## 問1.3\n",
    "\\[1, 2\\] in a_list3  \n",
    "がTrueになるようなa_list3を作成せよ。"
   ]
  },
  {
   "cell_type": "code",
   "execution_count": 2,
   "metadata": {},
   "outputs": [],
   "source": [
    "# 解答1.3"
   ]
  },
  {
   "cell_type": "code",
   "execution_count": 3,
   "metadata": {},
   "outputs": [],
   "source": [
    "[1, 2] in a_list3"
   ]
  },
  {
   "cell_type": "markdown",
   "metadata": {},
   "source": [
    "### 問1.4 (修正しました)\n",
    "\n",
    "a_listの3つ目から5つ目までの要素を取り出せ。"
   ]
  },
  {
   "cell_type": "code",
   "execution_count": 5,
   "metadata": {},
   "outputs": [],
   "source": [
    "#解答1.４"
   ]
  },
  {
   "cell_type": "markdown",
   "metadata": {},
   "source": [
    "## 問1.5 (修正しました)\n",
    "a_listを半分に分割して、2つのリスト(subList1, subList2)を作成せよ。"
   ]
  },
  {
   "cell_type": "code",
   "execution_count": 4,
   "metadata": {},
   "outputs": [],
   "source": [
    "## aList定義\n",
    "a_list = [1, 3, 4, 10, 2, 4, 3, 6]\n",
    "\n",
    "#解答1.5\n",
    "\n",
    "print(subList1)\n",
    "print(subList2)"
   ]
  },
  {
   "cell_type": "markdown",
   "metadata": {},
   "source": [
    "## 問2\n",
    "## 問2.1\n",
    "aDictを以下のように用意する。aDictの\"A\"の値を取り出せ。"
   ]
  },
  {
   "cell_type": "code",
   "execution_count": 12,
   "metadata": {},
   "outputs": [],
   "source": [
    "\n",
    "aDict = {\n",
    "    \"A\" : 30,\n",
    "    \"B\" : 25,\n",
    "    \"C\" : 40,\n",
    "    \"D\" : 50\n",
    "}"
   ]
  },
  {
   "cell_type": "code",
   "execution_count": 5,
   "metadata": {},
   "outputs": [],
   "source": [
    "#解答2.1"
   ]
  },
  {
   "cell_type": "markdown",
   "metadata": {},
   "source": [
    "## 問2.2\n",
    "aDictの\"B\"の値を取得せよ。"
   ]
  },
  {
   "cell_type": "code",
   "execution_count": 6,
   "metadata": {},
   "outputs": [],
   "source": [
    "#解答2.2"
   ]
  },
  {
   "cell_type": "markdown",
   "metadata": {},
   "source": [
    "## 問2.3\n",
    "aDictの\"C\"の値を100に変更せよ。"
   ]
  },
  {
   "cell_type": "code",
   "execution_count": 8,
   "metadata": {},
   "outputs": [],
   "source": [
    "#解答2.3\n",
    "aDict"
   ]
  },
  {
   "cell_type": "markdown",
   "metadata": {},
   "source": [
    "## 問2.4\n",
    "aDictに{\"E\":10}を追加せよ。"
   ]
  },
  {
   "cell_type": "code",
   "execution_count": 9,
   "metadata": {},
   "outputs": [],
   "source": [
    "#解答2.4\n",
    "aDict"
   ]
  },
  {
   "cell_type": "markdown",
   "metadata": {},
   "source": [
    "## 問2.5"
   ]
  },
  {
   "cell_type": "markdown",
   "metadata": {},
   "source": [
    "aDictのvaluesの合計を計算せよ。\n",
    "\n",
    "( ヒント: sum関数でリストの合計を計算できる。 )   \n",
    "( sum(\\[1, 2, 5\\]) -> 8 )"
   ]
  },
  {
   "cell_type": "code",
   "execution_count": 10,
   "metadata": {},
   "outputs": [],
   "source": [
    "#解答2.5"
   ]
  },
  {
   "cell_type": "markdown",
   "metadata": {},
   "source": [
    "## 問3"
   ]
  },
  {
   "cell_type": "markdown",
   "metadata": {},
   "source": [
    "以下に定義するdocumentを、Counterクラスを用いて単語毎の出現回数を数えたい。"
   ]
  },
  {
   "cell_type": "code",
   "execution_count": 11,
   "metadata": {},
   "outputs": [],
   "source": [
    "# document定義\n",
    "document = \"\"\"Alice/’s/Adventures/in/Wonderland/is/a/work/of/children/’s/literature/\n",
    "by/the/English/mathematician/and/author/Reverend/Charles/Lutwidge/Dodgson/\n",
    "written/under/the/pseudonym/Lewis/Carroll/It/tells/the/story/of/a/girl/named/\n",
    "Alice/who/falls/down/a/rabbit-hole/into/a/fantasy/realm/populated/by/talking/playing/\n",
    "cards/and/anthropomorphic/creatures/The/tale/is/fraught/with/satirical/allusions/to/Dodgson/’s/\n",
    "friends/and/to/the/lessons/that/British/schoolchildren/were/expected/to/memorize/\n",
    "The/Wonderland/described/in/the/tale/plays/with/logic/in/ways/\n",
    "that/has/made/the/story/of/lasting/popularity/with/children/as/well/as/adults/\n",
    "The/book/is/often/referred/to/by/the/abbreviated/title/Alice/in/Wonderland/\n",
    "This/alternate/title/was/popularized/by/the/numerous/film/\n",
    "and/television/adaptations/of/the/story/produced/over/the/years./\n",
    "Some/printings/of/this/title/contain/both/Alice/’s/Adventures/in/Wonderland/\n",
    "and/its/sequel/Through/the/Looking-Glass/and/What/Alice/Found/There\n",
    "\"\"\""
   ]
  },
  {
   "cell_type": "markdown",
   "metadata": {},
   "source": [
    "## 問3.1\n",
    "documentをreplaceメソッドを用いて「/」を「 」(半角空白)に置換せよ。"
   ]
  },
  {
   "cell_type": "code",
   "execution_count": 12,
   "metadata": {},
   "outputs": [
    {
     "name": "stdout",
     "output_type": "stream",
     "text": [
      "Alice/’s/Adventures/in/Wonderland/is/a/work/of/children/’s/literature/\n",
      "by/the/English/mathematician/and/author/Reverend/Charles/Lutwidge/Dodgson/\n",
      "written/under/the/pseudonym/Lewis/Carroll/It/tells/the/story/of/a/girl/named/\n",
      "Alice/who/falls/down/a/rabbit-hole/into/a/fantasy/realm/populated/by/talking/playing/\n",
      "cards/and/anthropomorphic/creatures/The/tale/is/fraught/with/satirical/allusions/to/Dodgson/’s/\n",
      "friends/and/to/the/lessons/that/British/schoolchildren/were/expected/to/memorize/\n",
      "The/Wonderland/described/in/the/tale/plays/with/logic/in/ways/\n",
      "that/has/made/the/story/of/lasting/popularity/with/children/as/well/as/adults/\n",
      "The/book/is/often/referred/to/by/the/abbreviated/title/Alice/in/Wonderland/\n",
      "This/alternate/title/was/popularized/by/the/numerous/film/\n",
      "and/television/adaptations/of/the/story/produced/over/the/years./\n",
      "Some/printings/of/this/title/contain/both/Alice/’s/Adventures/in/Wonderland/\n",
      "and/its/sequel/Through/the/Looking-Glass/and/What/Alice/Found/There\n",
      "\n"
     ]
    }
   ],
   "source": [
    "#解答3.1\n",
    "print(document)"
   ]
  },
  {
   "cell_type": "markdown",
   "metadata": {},
   "source": [
    "## 問3.2\n",
    "documentを全て小文字に変換せよ。  (例: \"ABcD\"->\"abcd\")\n",
    "  \n",
    "( ヒント: 文字列のlowerメソッドで全て小文字に変換できる。 )  \n",
    "( str2 = str.lower() -> strが全て小文字になった文字列がstr2に入る。 )"
   ]
  },
  {
   "cell_type": "code",
   "execution_count": 13,
   "metadata": {},
   "outputs": [
    {
     "name": "stdout",
     "output_type": "stream",
     "text": [
      "Alice/’s/Adventures/in/Wonderland/is/a/work/of/children/’s/literature/\n",
      "by/the/English/mathematician/and/author/Reverend/Charles/Lutwidge/Dodgson/\n",
      "written/under/the/pseudonym/Lewis/Carroll/It/tells/the/story/of/a/girl/named/\n",
      "Alice/who/falls/down/a/rabbit-hole/into/a/fantasy/realm/populated/by/talking/playing/\n",
      "cards/and/anthropomorphic/creatures/The/tale/is/fraught/with/satirical/allusions/to/Dodgson/’s/\n",
      "friends/and/to/the/lessons/that/British/schoolchildren/were/expected/to/memorize/\n",
      "The/Wonderland/described/in/the/tale/plays/with/logic/in/ways/\n",
      "that/has/made/the/story/of/lasting/popularity/with/children/as/well/as/adults/\n",
      "The/book/is/often/referred/to/by/the/abbreviated/title/Alice/in/Wonderland/\n",
      "This/alternate/title/was/popularized/by/the/numerous/film/\n",
      "and/television/adaptations/of/the/story/produced/over/the/years./\n",
      "Some/printings/of/this/title/contain/both/Alice/’s/Adventures/in/Wonderland/\n",
      "and/its/sequel/Through/the/Looking-Glass/and/What/Alice/Found/There\n",
      "\n"
     ]
    }
   ],
   "source": [
    "#解答3.2\n",
    "print(document)"
   ]
  },
  {
   "cell_type": "markdown",
   "metadata": {},
   "source": [
    "## 問3.3\n",
    "Counterクラスを使用できるように、importせよ。\n",
    "ヒント：collectionsモジュールのCounterクラスをimportする"
   ]
  },
  {
   "cell_type": "code",
   "execution_count": 4,
   "metadata": {},
   "outputs": [],
   "source": [
    "#解答3.3"
   ]
  },
  {
   "cell_type": "markdown",
   "metadata": {},
   "source": [
    "## 問3.4\n",
    "1.3.2で小文字化した文字列を、単語毎に分割してリスト化せよ。-> 3.4(1)  \n",
    "またリスト化したものでCounterクラスを作成せよ。 -> 3.4(2)"
   ]
  },
  {
   "cell_type": "code",
   "execution_count": 15,
   "metadata": {},
   "outputs": [],
   "source": [
    "#解答3.4(1)\n",
    "#解答3.4(2)\n",
    "wordCounter"
   ]
  },
  {
   "cell_type": "markdown",
   "metadata": {},
   "source": [
    "## 課題3.5\n",
    "単語の出現回数が多いものの上位4つを表示せよ。"
   ]
  },
  {
   "cell_type": "code",
   "execution_count": 16,
   "metadata": {},
   "outputs": [],
   "source": [
    "#解答3.5"
   ]
  },
  {
   "cell_type": "markdown",
   "metadata": {},
   "source": [
    "## 課題 3.6\n",
    "\"tale\"の出現回数を取得せよ。\n",
    "\n",
    "(ヒント: Counterクラスは辞書クラスのサブクラスである。  \n",
    "従って、辞書クラスのgetメソッドを使用できる。  )"
   ]
  },
  {
   "cell_type": "code",
   "execution_count": 17,
   "metadata": {},
   "outputs": [],
   "source": [
    "#解答3.6"
   ]
  },
  {
   "cell_type": "markdown",
   "metadata": {},
   "source": [
    "## 課題 3.7\n",
    "Counterのvaluesそのものの出現回数を数えよ。\n",
    "\n",
    "(ヒント: Counterのvaluesを取り出し、それを元にCounterクラスを作成)"
   ]
  },
  {
   "cell_type": "code",
   "execution_count": 18,
   "metadata": {},
   "outputs": [],
   "source": [
    "# 解答3.7\n",
    "print(countCounter)"
   ]
  },
  {
   "cell_type": "code",
   "execution_count": null,
   "metadata": {},
   "outputs": [],
   "source": []
  }
 ],
 "metadata": {
  "kernelspec": {
   "display_name": "Python 3",
   "language": "python",
   "name": "python3"
  },
  "language_info": {
   "codemirror_mode": {
    "name": "ipython",
    "version": 3
   },
   "file_extension": ".py",
   "mimetype": "text/x-python",
   "name": "python",
   "nbconvert_exporter": "python",
   "pygments_lexer": "ipython3",
   "version": "3.7.4"
  }
 },
 "nbformat": 4,
 "nbformat_minor": 2
}