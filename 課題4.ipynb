{
  "cells": [
    {
      "cell_type": "markdown",
      "metadata": {
        "id": "5J_MzJ2LzzUs"
      },
      "source": [
        "# Homework 4"
      ]
    },
    {
      "cell_type": "markdown",
      "metadata": {
        "id": "XmQ4ksyAzzUu"
      },
      "source": [
        "## 4.1 (updated)\n",
        "Fill in and complete the #### part of the following program."
      ]
    },
    {
      "cell_type": "code",
      "execution_count": null,
      "metadata": {
        "id": "57s-fXu4zzUu"
      },
      "outputs": [],
      "source": [
        "n = int(input('Input a　positive integer value:'))\n",
        "\n",
        "if **** :\n",
        "    print('n is a positive integer')\n",
        "else:\n",
        "    print('n is not a positive integer')"
      ]
    },
    {
      "cell_type": "markdown",
      "metadata": {
        "id": "UhVME0KxzzUv"
      },
      "source": [
        "## 4.2 (updated)\n",
        "This program finds the minimum value of three input numbers.\n",
        "\n",
        "Fill in and complete the **** part of the following program"
      ]
    },
    {
      "cell_type": "code",
      "execution_count": null,
      "metadata": {
        "id": "mqiAnCCyzzUw"
      },
      "outputs": [],
      "source": [
        "x = int(input('Input an integer value:'))\n",
        "y = int(input('Input an integer value:'))\n",
        "z = int(input('Input an integer value:'))\n",
        "\n",
        "\n",
        "if x <= y :\n",
        "    ****\n",
        "else: \n",
        "    ****"
      ]
    },
    {
      "cell_type": "markdown",
      "metadata": {
        "id": "VC2Jy-eyzzUw"
      },
      "source": [
        "## 4.3\n",
        "\n",
        "Write a program to determine whether the input year is a leap year or not.\n",
        "\n",
        "Definition of: leap year definition\n",
        "- A year whose year is divisible by 4 is a leap year.\n",
        "- However, a year in which the year is divisible by 100 is a normal year.\n",
        "- However, a year in which the year is divisible by 400 is always a leap year.\n",
        "\n",
        "    "
      ]
    },
    {
      "cell_type": "code",
      "execution_count": null,
      "metadata": {
        "id": "GIHMQJQ7zzUx"
      },
      "outputs": [],
      "source": [
        "year = int(input('Input an year:'))\n",
        "\n",
        "*****\n"
      ]
    },
    {
      "cell_type": "markdown",
      "metadata": {
        "id": "q1d_ZpP1zzUx"
      },
      "source": [
        "## 4.4\n",
        "\n",
        "Fill in the ** part of the program.\n",
        "    "
      ]
    },
    {
      "cell_type": "code",
      "execution_count": null,
      "metadata": {
        "id": "LN1GwCBRzzUy"
      },
      "outputs": [],
      "source": [
        "animal = input('Input an animal:')\n",
        "\n",
        "group1 = {'Lion','Tiger','Elephant'}\n",
        "group2 = {'Cat','Dog','Mouse'}\n",
        "\n",
        "if animal *** group1:\n",
        "    print(animal,' is in group1')\n",
        "elif animal *** group2:\n",
        "    print(animal,' is in group2')\n",
        "else:\n",
        "    print(animal,' is not in group1 and group2')\n"
      ]
    },
    {
      "cell_type": "markdown",
      "metadata": {
        "id": "gCuMLg04zzUy"
      },
      "source": [
        "## 4.5\n",
        "\n",
        "This program uses the conditional operator to find the minimum of three values.\n",
        "Fill in the ** part of the programme."
      ]
    },
    {
      "cell_type": "code",
      "execution_count": null,
      "metadata": {
        "id": "QkeoV2yyzzUy"
      },
      "outputs": [],
      "source": [
        "x = int(input('Input an integer value:'))\n",
        "y = int(input('Input an integer value:'))\n",
        "z = int(input('Input an integer value:'))\n",
        "\n",
        "min = ***\n",
        "min = ***\n",
        "\n",
        "print('Minmum is:',min)"
      ]
    },
    {
      "cell_type": "markdown",
      "metadata": {
        "id": "Jp-2ThXfzzUz"
      },
      "source": [
        "## 4.6\n",
        "The program assigns the two input values to the variables x and y and then swaps the values of the contents of x and y."
      ]
    },
    {
      "cell_type": "code",
      "execution_count": null,
      "metadata": {
        "id": "knFIlYnazzUz"
      },
      "outputs": [],
      "source": [
        "## Swapping 2 vaues\n",
        "x = int(input('integer x:'))\n",
        "y = int(input('integer y:'))\n",
        "\n",
        "print('swap')\n",
        "********\n",
        "\n",
        "print('x=',x)\n",
        "print('y=',y)"
      ]
    },
    {
      "cell_type": "markdown",
      "metadata": {
        "id": "k4cGw_cmzzU0"
      },
      "source": [
        "## 4.7\n",
        "## sorted\n",
        "A program that sorts a list in ascending order using the built-in sort function."
      ]
    },
    {
      "cell_type": "code",
      "execution_count": null,
      "metadata": {
        "id": "omit9JYgzzU0"
      },
      "outputs": [],
      "source": [
        "list = [10,13,2,8,4,19,6,12]\n",
        "\n",
        "sorted_list = ***\n",
        "\n",
        "print(sorted_list)\n"
      ]
    },
    {
      "cell_type": "markdown",
      "metadata": {
        "id": "XOG4wRWWzzU1"
      },
      "source": [
        "## 4.8\n",
        "## sorted\n",
        "A program that sorts a list in descending order using the built-in sort function"
      ]
    },
    {
      "cell_type": "code",
      "execution_count": null,
      "metadata": {
        "id": "jXDmAMzgzzU1"
      },
      "outputs": [],
      "source": [
        "list = [10,13,2,8,4,19,6,12]\n",
        "\n",
        "sorted_list = *****\n",
        "\n",
        "print(sorted_list)\n",
        "\n",
        "\n",
        "\n",
        "\n"
      ]
    },
    {
      "cell_type": "markdown",
      "metadata": {
        "id": "q7rgmeaizzU2"
      },
      "source": [
        "## 4.9"
      ]
    },
    {
      "cell_type": "markdown",
      "metadata": {
        "id": "SDPNF7mPzzU2"
      },
      "source": [
        "Write a program that performs a four-valued sort without using the sorted function."
      ]
    },
    {
      "cell_type": "code",
      "execution_count": null,
      "metadata": {
        "id": "CxNGGNT3zzU3"
      },
      "outputs": [],
      "source": [
        ""
      ]
    }
  ],
  "metadata": {
    "kernelspec": {
      "display_name": "Python 3",
      "language": "python",
      "name": "python3"
    },
    "language_info": {
      "codemirror_mode": {
        "name": "ipython",
        "version": 3
      },
      "file_extension": ".py",
      "mimetype": "text/x-python",
      "name": "python",
      "nbconvert_exporter": "python",
      "pygments_lexer": "ipython3",
      "version": "3.8.5"
    },
    "colab": {
      "name": "Homework4.ipynb",
      "provenance": [],
      "collapsed_sections": []
    }
  },
  "nbformat": 4,
  "nbformat_minor": 0
}