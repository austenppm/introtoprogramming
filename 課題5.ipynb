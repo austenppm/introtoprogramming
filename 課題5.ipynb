{
 "cells": [
  {
   "cell_type": "markdown",
   "metadata": {},
   "source": [
    "# 5"
   ]
  },
  {
   "cell_type": "markdown",
   "metadata": {},
   "source": [
    "## 5.1\n",
    "This program calculates the sum from 0 to the entered number. \n",
    "\n",
    "For example, entering 10 will output 55. \n",
    "\n",
    "Fill in and complete the **** part of the following program."
   ]
  },
  {
   "cell_type": "code",
   "execution_count": 3,
   "metadata": {},
   "outputs": [
    {
     "name": "stdout",
     "output_type": "stream",
     "text": [
      "Please enter a whole number: 10\n",
      "The total is: 55\n"
     ]
    }
   ],
   "source": [
    "n = int(input('Enter an integer:.'))\n",
    "\n",
    "sum = 0\n",
    "for i in range(0,***):\n",
    "    ***\n",
    "print('Total is :',sum)"
   ]
  },
  {
   "cell_type": "markdown",
   "metadata": {},
   "source": [
    "## 5.2\n",
    "This program displays only odd numbers up to the number entered. \n",
    "\n",
    "Fill in and complete the **** part of the following program."
   ]
  },
  {
   "cell_type": "code",
   "execution_count": 4,
   "metadata": {},
   "outputs": [
    {
     "name": "stdout",
     "output_type": "stream",
     "text": [
      "Please enter a numerical value: 20\n",
      "1 3 5 7 9 11 13 15 17 19 "
     ]
    }
   ],
   "source": [
    "n = int(input('Please enter a numerical value:.'))\n",
    "\n",
    "for i in range(1,n+1):\n",
    "    if ***:\n",
    "        print(i, end=' ')"
   ]
  },
  {
   "cell_type": "markdown",
   "metadata": {},
   "source": [
    "## 5.3\n",
    "\n",
    "This program produces the sum and average of the numbers in the list. \n",
    "\n",
    "Fill in and complete the *** part of the following program."
   ]
  },
  {
   "cell_type": "code",
   "execution_count": 5,
   "metadata": {},
   "outputs": [
    {
     "name": "stdout",
     "output_type": "stream",
     "text": [
      "Average is 88.72727272727273  Total is 976\n"
     ]
    }
   ],
   "source": [
    "list = [100,98,80,100,90,70,85,89,92,72,100]\n",
    "\n",
    "sum = 0\n",
    "for i in list:\n",
    "    sum = sum + i\n",
    "ave = ***\n",
    "print('Average =',ave,' Total =',sum)"
   ]
  },
  {
   "cell_type": "markdown",
   "metadata": {},
   "source": [
    "## 5.4\n",
    "\n",
    "Rewrite the following program with 'for' into 'while'"
   ]
  },
  {
   "cell_type": "code",
   "execution_count": 9,
   "metadata": {},
   "outputs": [
    {
     "name": "stdout",
     "output_type": "stream",
     "text": [
      "0\n",
      "1\n",
      "2\n",
      "3\n",
      "4\n"
     ]
    }
   ],
   "source": [
    "for i in range(5):\n",
    "    print(i)"
   ]
  },
  {
   "cell_type": "code",
   "execution_count": 10,
   "metadata": {},
   "outputs": [
    {
     "name": "stdout",
     "output_type": "stream",
     "text": [
      "0\n",
      "1\n",
      "2\n",
      "3\n",
      "4\n"
     ]
    }
   ],
   "source": [
    "# write with 'while'"
   ]
  },
  {
   "cell_type": "markdown",
   "metadata": {},
   "source": [
    "## 5.5\n",
    "\n",
    "Create a program that displays the following equilateral triangle '笆ｳ' using a multiple loop. \n",
    "\n",
    "(Note: It should look like an equilateral triangle."
   ]
  },
  {
   "cell_type": "code",
   "execution_count": 37,
   "metadata": {},
   "outputs": [
    {
     "name": "stdout",
     "output_type": "stream",
     "text": [
      "                    \n",
      "                    \n",
      "                    \n",
      "                  * * \n",
      "                  * * \n",
      "                * * * * \n",
      "                * * * * \n",
      "              * * * * * * \n",
      "              * * * * * * \n",
      "            * * * * * * * * \n",
      "            * * * * * * * * \n",
      "          * * * * * * * * * * \n",
      "          * * * * * * * * * * \n",
      "        * * * * * * * * * * * * \n",
      "        * * * * * * * * * * * * \n",
      "      * * * * * * * * * * * * * * \n",
      "      * * * * * * * * * * * * * * \n",
      "    * * * * * * * * * * * * * * * * \n",
      "    * * * * * * * * * * * * * * * * \n"
     ]
    }
   ],
   "source": [
    "\n"
   ]
  },
  {
   "cell_type": "markdown",
   "metadata": {},
   "source": [
    "## 5.6\n",
    "Write a program to enumerate prime numbers from 2 to 1000 using multiple loops."
   ]
  },
  {
   "cell_type": "code",
   "execution_count": 43,
   "metadata": {},
   "outputs": [
    {
     "name": "stdout",
     "output_type": "stream",
     "text": [
      "2 is prime\n",
      "3 is prime\n",
      "5 is prime\n",
      "7 is prime\n",
      "11 is prime\n",
      "13 is prime\n",
      "17 is prime\n",
      "19 is prime\n",
      "23 is prime\n",
      "29 is prime\n",
      "31 is prime\n",
      "37 is prime\n",
      "41 is prime\n",
      "43 is prime\n",
      "47 is prime\n",
      "53 is prime\n",
      "59 is prime\n",
      "61 is prime\n",
      "67 is prime\n",
      "71 is prime\n",
      "73 is prime\n",
      "79 is prime\n",
      "83 is prime\n",
      "89 is prime\n",
      "97 is prime\n",
      "101 is prime\n",
      "103 is prime\n",
      "107 is prime\n",
      "109 is prime\n",
      "113 is prime\n",
      "127 is prime\n",
      "131 is prime\n",
      "137 is prime\n",
      "139 is prime\n",
      "149 is prime\n",
      "151 is prime\n",
      "157 is prime\n",
      "163 is prime\n",
      "167 is prime\n",
      "173 is prime\n",
      "179 is prime\n",
      "181 is prime\n",
      "191 is prime\n",
      "193 is prime\n",
      "197 is prime\n",
      "199 is prime\n",
      "211 is prime\n",
      "223 is prime\n",
      "227 is prime\n",
      "229 is prime\n",
      "233 is prime\n",
      "239 is prime\n",
      "241 is prime\n",
      "251 is prime\n",
      "257 is prime\n",
      "263 is prime\n",
      "269 is prime\n",
      "271 is prime\n",
      "277 is prime\n",
      "281 is prime\n",
      "283 is prime\n",
      "293 is prime\n",
      "307 is prime\n",
      "311 is prime\n",
      "313 is prime\n",
      "317 is prime\n",
      "331 is prime\n",
      "337 is prime\n",
      "347 is prime\n",
      "349 is prime\n",
      "353 is prime\n",
      "359 is prime\n",
      "367 is prime\n",
      "373 is prime\n",
      "379 is prime\n",
      "383 is prime\n",
      "389 is prime\n",
      "397 is prime\n",
      "401 is prime\n",
      "409 is prime\n",
      "419 is prime\n",
      "421 is prime\n",
      "431 is prime\n",
      "433 is prime\n",
      "439 is prime\n",
      "443 is prime\n",
      "449 is prime\n",
      "457 is prime\n",
      "461 is prime\n",
      "463 is prime\n",
      "467 is prime\n",
      "479 is prime\n",
      "487 is prime\n",
      "491 is prime\n",
      "499 is prime\n",
      "503 is prime\n",
      "509 is prime\n",
      "521 is prime\n",
      "523 is prime\n",
      "541 is prime\n",
      "547 is prime\n",
      "557 is prime\n",
      "563 is prime\n",
      "569 is prime\n",
      "571 is prime\n",
      "577 is prime\n",
      "587 is prime\n",
      "593 is prime\n",
      "599 is prime\n",
      "601 is prime\n",
      "607 is prime\n",
      "613 is prime\n",
      "617 is prime\n",
      "619 is prime\n",
      "631 is prime\n",
      "641 is prime\n",
      "643 is prime\n",
      "647 is prime\n",
      "653 is prime\n",
      "659 is prime\n",
      "661 is prime\n",
      "673 is prime\n",
      "677 is prime\n",
      "683 is prime\n",
      "691 is prime\n",
      "701 is prime\n",
      "709 is prime\n",
      "719 is prime\n",
      "727 is prime\n",
      "733 is prime\n",
      "739 is prime\n",
      "743 is prime\n",
      "751 is prime\n",
      "757 is prime\n",
      "761 is prime\n",
      "769 is prime\n",
      "773 is prime\n",
      "787 is prime\n",
      "797 is prime\n",
      "809 is prime\n",
      "811 is prime\n",
      "821 is prime\n",
      "823 is prime\n",
      "827 is prime\n",
      "829 is prime\n",
      "839 is prime\n",
      "853 is prime\n",
      "857 is prime\n",
      "859 is prime\n",
      "863 is prime\n",
      "877 is prime\n",
      "881 is prime\n",
      "883 is prime\n",
      "887 is prime\n",
      "907 is prime\n",
      "911 is prime\n",
      "919 is prime\n",
      "929 is prime\n",
      "937 is prime\n",
      "941 is prime\n",
      "947 is prime\n",
      "953 is prime\n",
      "967 is prime\n",
      "971 is prime\n",
      "977 is prime\n",
      "983 is prime\n",
      "991 is prime\n",
      "997 is prime\n"
     ]
    }
   ],
   "source": []
  },
  {
   "cell_type": "code",
   "execution_count": null,
   "metadata": {},
   "outputs": [],
   "source": []
  }
 ],
 "metadata": {
  "kernelspec": {
   "display_name": "Python 3",
   "language": "python",
   "name": "python3"
  },
  "language_info": {
   "codemirror_mode": {
    "name": "ipython",
    "version": 3
   },
   "file_extension": ".py",
   "mimetype": "text/x-python",
   "name": "python",
   "nbconvert_exporter": "python",
   "pygments_lexer": "ipython3",
   "version": "3.8.5"
  }
 },
 "nbformat": 4,
 "nbformat_minor": 2
}