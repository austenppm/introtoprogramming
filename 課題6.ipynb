{
  "cells": [
    {
      "cell_type": "markdown",
      "metadata": {
        "id": "JHQSmXk4ld8c"
      },
      "source": [
        "# Homework"
      ]
    },
    {
      "cell_type": "markdown",
      "metadata": {
        "id": "MAsE8Tx3ld8e"
      },
      "source": [
        "### 1\n",
        "Define the function Trapezoid to find the area of a trapezoid with top base: 3, bottom base: 7 and height: 2."
      ]
    },
    {
      "cell_type": "markdown",
      "metadata": {
        "id": "of08aFIald8e"
      },
      "source": [
        "### 2\n",
        "Derive the same result as 1 using the lambda function."
      ]
    },
    {
      "cell_type": "markdown",
      "metadata": {
        "id": "Yh-jIImtld8e"
      },
      "source": [
        "### 3\n",
        "When entering an number, if the number is even, it answers “It is an even number.” If the number is odd, \"It is an odd number.\" If any other number is entered, \"Please enter an integer\". Please define fuction even_or_odd. "
      ]
    },
    {
      "cell_type": "markdown",
      "metadata": {
        "id": "cPAV0_a2ld8e"
      },
      "source": [
        "### 4\n",
        "Define the function triangle, which returns the area of a triangle, and use list comprehensions to store the area of a triangle whose base and height are the same, from base = 1 to 9, in z."
      ]
    },
    {
      "cell_type": "markdown",
      "metadata": {
        "id": "F4-HeTewld8f"
      },
      "source": [
        "### ５\n",
        "Create a function to solve the Tower of Hanoi. Use the recursive function.\n",
        "\n",
        "It is complete if all the disks can be moved to the rightmost pile according to the following rules.\n",
        "- It consists of three piles and several disks of different sizes with a hole in the middle.\n",
        "- Initially all the disks are stacked in order with the smaller ones on top in the leftmost pile.\n",
        "- The disks can be moved one at a time to any of the piles, but it is not possible to place a larger disk on top of a smaller disk.\n",
        "\n",
        "https://en.wikipedia.org/wiki/Tower_of_Hanoi"
      ]
    },
    {
      "cell_type": "markdown",
      "metadata": {
        "id": "kxPk3jRMld8f"
      },
      "source": [
        "### 6\n",
        "Execute the following code and explain why the result is the way it is with respect to the scope of the variable, in 'Answer:' below. "
      ]
    },
    {
      "cell_type": "code",
      "execution_count": null,
      "metadata": {
        "id": "Y6sKxD5Wld8f",
        "outputId": "9cd3b95f-c199-42d8-d38c-805696d2d64d"
      },
      "outputs": [
        {
          "name": "stdout",
          "output_type": "stream",
          "text": [
            "test\n"
          ]
        }
      ],
      "source": [
        "x = 'test'\n",
        "def func():\n",
        "    print(x)\n",
        "\n",
        "func()"
      ]
    },
    {
      "cell_type": "markdown",
      "metadata": {
        "id": "8CtC4tZMld8g"
      },
      "source": [
        "Answer:"
      ]
    },
    {
      "cell_type": "markdown",
      "metadata": {
        "id": "dat5lqp-ld8g"
      },
      "source": [
        "### 7\n",
        "Execute the following code and explain why the result is the way it is with respect to the scope of the variable, in 'Answer:' below. "
      ]
    },
    {
      "cell_type": "code",
      "execution_count": null,
      "metadata": {
        "id": "mHulEar8ld8g",
        "outputId": "7911b075-1765-49f9-e354-c4d4be82e199"
      },
      "outputs": [
        {
          "name": "stdout",
          "output_type": "stream",
          "text": [
            "test\n"
          ]
        }
      ],
      "source": [
        "x = 'test'\n",
        "def func():\n",
        "    x = 'hello'\n",
        "func()\n",
        "print(x)"
      ]
    },
    {
      "cell_type": "markdown",
      "metadata": {
        "id": "Chr0Ig99ld8h"
      },
      "source": [
        "Answer:"
      ]
    },
    {
      "cell_type": "markdown",
      "metadata": {
        "id": "8Bn5g17fld8h"
      },
      "source": [
        "### 8\n",
        "Execute the following code and explain why the result is the way it is with respect to the scope of the variable, in 'Answer:' below. "
      ]
    },
    {
      "cell_type": "code",
      "execution_count": null,
      "metadata": {
        "id": "JP9qbexqld8h",
        "outputId": "667d9510-bbfb-46a0-c16f-eb2ce568cff9"
      },
      "outputs": [
        {
          "name": "stdout",
          "output_type": "stream",
          "text": [
            "hello\n",
            "test\n"
          ]
        }
      ],
      "source": [
        "x = 'test'\n",
        "def func():\n",
        "    x = 'hello'\n",
        "    print(x)\n",
        "func()\n",
        "print(x)"
      ]
    },
    {
      "cell_type": "markdown",
      "metadata": {
        "id": "Y4HSVzB0ld8h"
      },
      "source": [
        "Answer:"
      ]
    },
    {
      "cell_type": "markdown",
      "metadata": {
        "id": "1hh1Qk7Uld8h"
      },
      "source": [
        "### 9\n",
        "Execute the following code and explain why the result is the way it is with respect to the scope of the variable, in 'Answer:' below. "
      ]
    },
    {
      "cell_type": "code",
      "execution_count": null,
      "metadata": {
        "id": "7081SqjVld8i",
        "outputId": "f4393432-464e-4efc-c05a-8a6c80468998"
      },
      "outputs": [
        {
          "name": "stdout",
          "output_type": "stream",
          "text": [
            "hello\n",
            "hello\n"
          ]
        }
      ],
      "source": [
        "x = 'test'\n",
        "def func():\n",
        "    global x\n",
        "    x = 'hello'\n",
        "    print(x)\n",
        "func()\n",
        "print(x)"
      ]
    },
    {
      "cell_type": "markdown",
      "metadata": {
        "id": "8vawpGmLld8i"
      },
      "source": [
        "Answer:"
      ]
    },
    {
      "cell_type": "markdown",
      "metadata": {
        "id": "ym6wvd-Rld8i"
      },
      "source": [
        "### 9\n",
        "Execute the following code and explain why the result is the way it is with respect to the scope of the variable, in 'Answer:' below. "
      ]
    },
    {
      "cell_type": "code",
      "execution_count": null,
      "metadata": {
        "id": "KiI9dCF1ld8i",
        "outputId": "5887a0aa-4d3d-4924-b497-5dd7ebd75256"
      },
      "outputs": [
        {
          "name": "stdout",
          "output_type": "stream",
          "text": [
            "hi\n",
            "test\n"
          ]
        }
      ],
      "source": [
        "x = 'test'\n",
        "def func():\n",
        "    x = 'hello'\n",
        "    def nested():\n",
        "        x = 'hi'\n",
        "        print(x)\n",
        "    nested()\n",
        "func()\n",
        "print(x)"
      ]
    },
    {
      "cell_type": "markdown",
      "metadata": {
        "id": "85Xt_KpPld8i"
      },
      "source": [
        "Answer:"
      ]
    },
    {
      "cell_type": "code",
      "execution_count": null,
      "metadata": {
        "id": "GZ-nhGdxld8j"
      },
      "outputs": [],
      "source": [
        ""
      ]
    }
  ],
  "metadata": {
    "kernelspec": {
      "display_name": "Python 3",
      "language": "python",
      "name": "python3"
    },
    "language_info": {
      "codemirror_mode": {
        "name": "ipython",
        "version": 3
      },
      "file_extension": ".py",
      "mimetype": "text/x-python",
      "name": "python",
      "nbconvert_exporter": "python",
      "pygments_lexer": "ipython3",
      "version": "3.8.5"
    },
    "colab": {
      "name": "Homework6.ipynb",
      "provenance": [],
      "collapsed_sections": []
    }
  },
  "nbformat": 4,
  "nbformat_minor": 0
}